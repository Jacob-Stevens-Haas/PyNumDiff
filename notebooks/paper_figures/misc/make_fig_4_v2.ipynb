{
 "cells": [
  {
   "cell_type": "code",
   "execution_count": 1,
   "metadata": {},
   "outputs": [
    {
     "name": "stderr",
     "output_type": "stream",
     "text": [
      "/home/caveman/BMD2/lib/python3.5/site-packages/tensorflow/python/framework/dtypes.py:523: FutureWarning: Passing (type, 1) or '1type' as a synonym of type is deprecated; in a future version of numpy, it will be understood as (type, (1,)) / '(1,)type'.\n",
      "  _np_qint8 = np.dtype([(\"qint8\", np.int8, 1)])\n",
      "/home/caveman/BMD2/lib/python3.5/site-packages/tensorflow/python/framework/dtypes.py:524: FutureWarning: Passing (type, 1) or '1type' as a synonym of type is deprecated; in a future version of numpy, it will be understood as (type, (1,)) / '(1,)type'.\n",
      "  _np_quint8 = np.dtype([(\"quint8\", np.uint8, 1)])\n",
      "/home/caveman/BMD2/lib/python3.5/site-packages/tensorflow/python/framework/dtypes.py:525: FutureWarning: Passing (type, 1) or '1type' as a synonym of type is deprecated; in a future version of numpy, it will be understood as (type, (1,)) / '(1,)type'.\n",
      "  _np_qint16 = np.dtype([(\"qint16\", np.int16, 1)])\n",
      "/home/caveman/BMD2/lib/python3.5/site-packages/tensorflow/python/framework/dtypes.py:526: FutureWarning: Passing (type, 1) or '1type' as a synonym of type is deprecated; in a future version of numpy, it will be understood as (type, (1,)) / '(1,)type'.\n",
      "  _np_quint16 = np.dtype([(\"quint16\", np.uint16, 1)])\n",
      "/home/caveman/BMD2/lib/python3.5/site-packages/tensorflow/python/framework/dtypes.py:527: FutureWarning: Passing (type, 1) or '1type' as a synonym of type is deprecated; in a future version of numpy, it will be understood as (type, (1,)) / '(1,)type'.\n",
      "  _np_qint32 = np.dtype([(\"qint32\", np.int32, 1)])\n",
      "/home/caveman/BMD2/lib/python3.5/site-packages/tensorflow/python/framework/dtypes.py:532: FutureWarning: Passing (type, 1) or '1type' as a synonym of type is deprecated; in a future version of numpy, it will be understood as (type, (1,)) / '(1,)type'.\n",
      "  np_resource = np.dtype([(\"resource\", np.ubyte, 1)])\n"
     ]
    }
   ],
   "source": [
    "import numpy as np\n",
    "import matplotlib.pyplot as plt\n",
    "import pickle\n",
    "import os\n",
    "import pandas\n",
    "import pynumdiff\n",
    "import scipy.fftpack\n",
    "from IPython.display import display,SVG\n",
    "import figurefirst\n",
    "fifi = figurefirst"
   ]
  },
  {
   "cell_type": "code",
   "execution_count": 2,
   "metadata": {},
   "outputs": [],
   "source": [
    "import run_pareto_plot"
   ]
  },
  {
   "cell_type": "code",
   "execution_count": 3,
   "metadata": {},
   "outputs": [],
   "source": [
    "def get_gamma(dt, freq, timeseries_length=None):\n",
    "    try:\n",
    "        if dt == 0.1:\n",
    "            log_g = np.log(freq)*(-1.5) -4\n",
    "        if dt == 0.01:\n",
    "            log_g = np.log(freq)*(-1.5) -1.8\n",
    "        if dt == 0.001:\n",
    "            log_g = np.log(freq)*(-1.5) -1.2\n",
    "            \n",
    "        return np.exp(log_g)\n",
    "    \n",
    "    except:\n",
    "        log_gs = []\n",
    "        for f in freq:\n",
    "            if dt == 0.1:\n",
    "                log_gs.append(np.log(freq)*(-1.5) -4) \n",
    "            if dt == 0.01:\n",
    "                log_gs.append(np.log(freq)*(-1.5) -1.8) \n",
    "            if dt == 0.001:\n",
    "                log_gs.append(np.log(freq)*(-1.5) -1.2) \n",
    "            \n",
    "        return np.exp(np.array(log_gs))\n",
    "            \n"
   ]
  },
  {
   "cell_type": "code",
   "execution_count": 4,
   "metadata": {},
   "outputs": [],
   "source": [
    "def plot_power_spectra(x, t, cutoff_freq=None, ax=None):\n",
    "    if ax is None:\n",
    "        fig = plt.figure()\n",
    "        ax = fig.add_subplot(111)\n",
    "        \n",
    "    ax.set_yscale('log')\n",
    "    ax.set_xscale('log')\n",
    "        \n",
    "    yf = scipy.fftpack.fft(x)\n",
    "    N = len(t)\n",
    "    dt = np.mean(np.diff(t))\n",
    "    xf = np.linspace(0.0, 1.0/(2.0*dt), N/2)\n",
    "    \n",
    "    P = 2.0/N * np.abs(yf[:N//2])\n",
    "    ax.plot(xf, P, color='black', zorder=-10)\n",
    "    \n",
    "    if cutoff_freq is not None:\n",
    "        ax.vlines(cutoff_freq, 1e-3, 1e1, color='red')"
   ]
  },
  {
   "cell_type": "code",
   "execution_count": 5,
   "metadata": {},
   "outputs": [],
   "source": [
    "def make_plot(method, method_parent, problem, dt, noise, timeseries_length, cutoff_freq, \n",
    "              ax_data=None, ax_pos=None, ax_vel=None, ax_spectra=None, color=None):\n",
    "    if color is None:\n",
    "        color = 'red'\n",
    "    \n",
    "    # simulate\n",
    "    print('simulating')\n",
    "    if problem == 'pi_control':\n",
    "        r = pynumdiff.utils.simulate.__dict__[problem](timeseries_length, noise_parameters=[0, noise], \n",
    "                                                               dt=dt, simdt=0.01)\n",
    "    elif problem != 'sine':\n",
    "        r = pynumdiff.utils.simulate.__dict__[problem](timeseries_length, noise_parameters=[0, noise], \n",
    "                                                               dt=dt)\n",
    "    elif problem == 'sine':\n",
    "        r = pynumdiff.utils.simulate.__dict__[problem](timeseries_length, noise_parameters=[0, noise], \n",
    "                                                               dt=dt, frequencies=[7, 10])\n",
    "        \n",
    "    x, x_truth, dxdt_truth, _ = r\n",
    "    t = np.linspace(0, timeseries_length, len(x))\n",
    "    print('done simulating')\n",
    "    \n",
    "    # optimize params\n",
    "    tvgamma = get_gamma(dt, cutoff_freq)\n",
    "    #if method == 'jerk':\n",
    "    #    if dt < 0.005:\n",
    "    #        tvgamma = tvgamma * 100\n",
    "    print('tvgamma: ', tvgamma)\n",
    "    params, v = pynumdiff.optimize.__dict__[method_parent].__dict__[method](x, dt, tvgamma=tvgamma)\n",
    "    print('optimizer params: ', params)\n",
    "    \n",
    "    # estimate derivative\n",
    "    x_smooth, xdot_smooth = pynumdiff.__dict__[method_parent].__dict__[method](x, dt, params)\n",
    "    \n",
    "    # plot data\n",
    "    #ax_data.plot(t, x, color='blue', zorder=1)\n",
    "    if ax_data is not None:\n",
    "        ax_data.plot(t, x, '.', color='blue', zorder=-10, markersize=2)\n",
    "        ax_data.set_rasterization_zorder(0)\n",
    "        ax_data.set_xlim(0, timeseries_length)\n",
    "        \n",
    "    # plot vel\n",
    "    if ax_vel is not None:\n",
    "        ax_vel.plot(t, xdot_smooth, color=color)\n",
    "        ax_vel.plot(t, dxdt_truth, '--', color='black')\n",
    "        ax_vel.set_xlim(0, timeseries_length)\n",
    "    \n",
    "    # plot pos\n",
    "    if ax_pos is not None:\n",
    "        ax_pos.plot(t, x_smooth, color=color)\n",
    "        ax_pos.plot(t, x_truth, '--', color='black')\n",
    "        ax_pos.set_xlim(0, timeseries_length)\n",
    "    \n",
    "    \n",
    "    \n",
    "    if ax_spectra is not None:\n",
    "        plot_power_spectra(x, t, cutoff_freq, ax_spectra)\n",
    "    "
   ]
  },
  {
   "cell_type": "code",
   "execution_count": 6,
   "metadata": {},
   "outputs": [],
   "source": [
    "def load_data(fname):\n",
    "    f = open(fname, 'rb')\n",
    "    data = pickle.load(f)\n",
    "    f.close()\n",
    "    return data"
   ]
  },
  {
   "cell_type": "code",
   "execution_count": 7,
   "metadata": {},
   "outputs": [],
   "source": [
    "def plot_rmse_errcorr(data, ax=None, plot=True, color=None, plot_gray=True):\n",
    "    if color is None:\n",
    "        color = 'violet'\n",
    "    if ax is None:\n",
    "        if plot:\n",
    "            fig = plt.figure(figsize=(10,5))\n",
    "            ax = fig.add_subplot(111)\n",
    "        \n",
    "    keys = ['rmses', 'errcorrs', 'rmses_gamma', 'errcorrs_gamma']\n",
    "    for key in keys:\n",
    "        data[key][np.where(data[key]==None)] = np.nan\n",
    "        data[key] = data[key].astype(float)\n",
    "    \n",
    "    print('n data pts: ', len(data['rmses']))\n",
    "    #idx, opt_logrmse, opt_errcorr = find_elbow(np.log(data['rmses_gamma']), data['errcorrs_gamma'])\n",
    "    #opt_gamma = data['metadata']['gammas'][idx]\n",
    "    \n",
    "    if plot_gray:\n",
    "        ax.plot((data['rmses']), data['errcorrs'], '.', color='gray', zorder=-10, markersize=2)\n",
    "        \n",
    "    if plot:\n",
    "        \n",
    "        ax.plot((data['rmses_gamma']), data['errcorrs_gamma'], '-', color=color)\n",
    "        ax.plot((data['rmses_gamma']), data['errcorrs_gamma'], '.', color=color)\n",
    "        #ax.plot(np.exp(opt_logrmse), opt_errcorr, '*', color='red', markersize=20)\n",
    "        #ax.set_xlim(0, 5)\n",
    "        ax.set_ylim(0, 1)\n",
    "            \n",
    "    #return opt_gamma"
   ]
  },
  {
   "cell_type": "code",
   "execution_count": 8,
   "metadata": {},
   "outputs": [],
   "source": [
    "def plot_goldilocks_gamma(dt, cutoff_freq, x, x_truth, dxdt_truth, ax, method, method_parent, color=None):\n",
    "    if color is None:\n",
    "        color = 'red'\n",
    "    tvgamma = get_gamma(dt, cutoff_freq)\n",
    "\n",
    "    params, v = pynumdiff.optimize.__dict__[method_parent].__dict__[method](x, dt, tvgamma=tvgamma)\n",
    "    print(params)\n",
    "\n",
    "    rmse, errcorr = run_pareto_plot.get_rmse_errcorr_for_params(x, x_truth, dxdt_truth, dt, method_parent, method, params)\n",
    "    \n",
    "    print('goldilocks rmse and errcorr: ', rmse, errcorr)\n",
    "    ax.plot(rmse, errcorr, '*', color=color, markersize=20, markeredgecolor='black')\n",
    "    \n",
    "    #ax.set_xlim(1e-1, 1e2)"
   ]
  },
  {
   "cell_type": "code",
   "execution_count": 9,
   "metadata": {},
   "outputs": [],
   "source": [
    "def prep_spines(layout, example, xlimits, ylimits, xticks, yticks):\n",
    "    for ax_label, xlim in xlimits.items():\n",
    "        try:\n",
    "            ax = layout.axes[(example, ax_label)]\n",
    "        except:\n",
    "            continue\n",
    "            \n",
    "        ylim = ylimits[ax_label]\n",
    "        ax.set_xlim(xlim[0], xlim[-1])\n",
    "        ax.set_ylim(ylim[0], ylim[-1])\n",
    "        \n",
    "        if ax_label == 'spectra':\n",
    "            ax.set_yscale('log')\n",
    "            ax.set_xscale('log')\n",
    "            print(xticks[ax_label])\n",
    "            print(yticks[ax_label])\n",
    "            ax.minorticks_off()\n",
    "        if ax_label == 'pareto':\n",
    "            ax.set_xscale('log')\n",
    "            ax.minorticks_off()\n",
    "        \n",
    "        ax.set_xlim(xlim[0], xlim[-1])\n",
    "        ax.set_ylim(ylim[0], ylim[-1])\n",
    "        \n",
    "        if 1:\n",
    "            fifi.mpl_functions.adjust_spines(ax, ['left', 'bottom'], \n",
    "                                             xticks=xticks[ax_label], \n",
    "                                             yticks=yticks[ax_label],\n",
    "                                             tick_length=2.5,\n",
    "                                             spine_locations={'left': 4, 'bottom': 4})\n",
    "\n",
    "        ax.set_xlim(xlim[0], xlim[-1])\n",
    "        ax.set_ylim(ylim[0], ylim[-1])\n",
    "        \n",
    "        if 1:\n",
    "            fifi.mpl_functions.adjust_spines(ax, ['left', 'bottom'], \n",
    "                                             xticks=xticks[ax_label], \n",
    "                                             yticks=yticks[ax_label],\n",
    "                                             tick_length=2.5,\n",
    "                                             spine_locations={'left': 4, 'bottom': 4})\n",
    "            \n",
    "        if ax_label == 'spectra' and example == 'example_1':\n",
    "            xtl = ['$10^{' + str(int(np.log10(xticks['spectra'][0]))) + '}$',\n",
    "                   '',\n",
    "                   '',\n",
    "                   '',\n",
    "                   '$10^{' + str(int(np.log10(xticks['spectra'][-1]))) + '}$']\n",
    "            ax.set_xticklabels(xtl)\n",
    "            \n",
    "            ytl = ['$10^{' + str(int(np.log10(yticks['spectra'][0]))) + '}$',\n",
    "                   '',\n",
    "                   '',\n",
    "                   '',\n",
    "                   '$10^{' + str(int(np.log10(yticks['spectra'][-1]))) + '}$']\n",
    "            ax.set_yticklabels(ytl)\n",
    "            \n",
    "        elif ax_label == 'spectra':\n",
    "            ax.set_xticklabels([])\n",
    "            ax.set_yticklabels([])\n",
    "        \n",
    "    fifi.mpl_functions.set_fontsize(ax, 6)"
   ]
  },
  {
   "cell_type": "code",
   "execution_count": 10,
   "metadata": {},
   "outputs": [],
   "source": [
    "def go(example, dt, noise, timeseries_length, cutoff_freq, problem, method_parent, method, \n",
    "       xlimits, ylimits, xticks, yticks, read_existing=True, plot_gray=True):\n",
    "    # simulate\n",
    "    print('simulating')\n",
    "    if problem == 'pi_control':\n",
    "        r = pynumdiff.utils.simulate.__dict__[problem](timeseries_length, noise_parameters=[0, noise], \n",
    "                                                               dt=dt, simdt=0.01)\n",
    "        simdt = 0.01\n",
    "    elif problem != 'sine':\n",
    "        r = pynumdiff.utils.simulate.__dict__[problem](timeseries_length, noise_parameters=[0, noise], \n",
    "                                                               dt=dt)\n",
    "        simdt = 0.0001\n",
    "    elif problem == 'sine':\n",
    "        r = pynumdiff.utils.simulate.__dict__[problem](timeseries_length, noise_parameters=[0, noise], \n",
    "                                                               dt=dt, frequencies=[7, 10])\n",
    "        simdt = 0.0001\n",
    "        \n",
    "    x, x_truth, dxdt_truth, _ = r\n",
    "    print('done simulating')\n",
    "    \n",
    "    # run_pareto_analysis\n",
    "    if problem == 'sine':\n",
    "        fname = run_pareto_plot.run_pareto_analysis_on_specific(noise, dt, timeseries_length, problem, method, method_parent, simdt=simdt, frequencies=[7,10], read_existing=read_existing)\n",
    "    else:\n",
    "        fname = run_pareto_plot.run_pareto_analysis_on_specific(noise, dt, timeseries_length, problem, method, method_parent, simdt=simdt, read_existing=read_existing)\n",
    "    \n",
    "    # get axes\n",
    "    print('EXAMPLE: ', example)\n",
    "    layout = fifi.svg_to_axes.FigureLayout(figure_layout, autogenlayers=True, \n",
    "                                           make_mplfigures=True, hide_layers=[])\n",
    "    ax_data = None #layout.axes[(example, 'data')]\n",
    "    ax_pos = layout.axes[(example, 'pos')]\n",
    "    ax_vel = layout.axes[(example, 'vel')]\n",
    "    ax_spectra = None #layout.axes[(example, 'spectra')]\n",
    "    ax_pareto = layout.axes[(example, 'pareto')]\n",
    "    \n",
    "    colors = ['violet',\n",
    "              'lightgreen',\n",
    "              'cornflowerblue',\n",
    "              'lightsalmon']\n",
    "    \n",
    "    if method == 'savgoldiff':\n",
    "        color = colors[0]\n",
    "    if method == 'butterdiff':\n",
    "        color = colors[1]\n",
    "    if method == 'constant_acceleration':\n",
    "        color = colors[2]\n",
    "    if method == 'jerk':\n",
    "        color = colors[3]\n",
    "\n",
    "    # make pos, vel, spectra plots\n",
    "    make_plot(method, method_parent, problem, dt, noise, timeseries_length, cutoff_freq, \n",
    "                  ax_data=ax_data, ax_pos=ax_pos, ax_vel=ax_vel, ax_spectra=ax_spectra, color=color)\n",
    "\n",
    "    # make pareto plot\n",
    "    data = load_data(fname)\n",
    "    ax_pareto.set_xscale(\"log\")\n",
    "    plot_rmse_errcorr(data, ax=ax_pareto, plot=True, color=color, plot_gray=plot_gray)\n",
    "    ax_pareto.set_rasterization_zorder(0)\n",
    "    plot_goldilocks_gamma(dt, cutoff_freq, x, x_truth, dxdt_truth, ax_pareto, method, method_parent, color=color)\n",
    "    \n",
    "    \n",
    "    # prep spines\n",
    "    prep_spines(layout, example, xlimits, ylimits, xticks, yticks)\n",
    "    \n",
    "    \n",
    "    # save\n",
    "    layout.append_figure_to_layer(layout.figures[example], example, cleartarget=True)\n",
    "    layout.write_svg(figure_layout)"
   ]
  },
  {
   "cell_type": "code",
   "execution_count": 11,
   "metadata": {},
   "outputs": [],
   "source": [
    "figure_layout = 'fig_4_v2.svg'"
   ]
  },
  {
   "cell_type": "code",
   "execution_count": 12,
   "metadata": {},
   "outputs": [],
   "source": [
    "read_existing = True"
   ]
  },
  {
   "cell_type": "code",
   "execution_count": 13,
   "metadata": {},
   "outputs": [
    {
     "name": "stdout",
     "output_type": "stream",
     "text": [
      "simulating\n",
      "done simulating\n",
      "pareto_data/pareto_data_savgoldiff_linear_model_lorenz_x_0.5_0.01_4_auto.pickle\n",
      "found file:  pareto_data/pareto_data_savgoldiff_linear_model_lorenz_x_0.5_0.01_4_auto.pickle\n",
      "EXAMPLE:  example_1\n",
      "simulating\n",
      "done simulating\n",
      "tvgamma:  0.05844198239204049\n"
     ]
    },
    {
     "name": "stderr",
     "output_type": "stream",
     "text": [
      "/home/caveman/BMD2/lib/python3.5/site-packages/scipy-1.1.0-py3.5-linux-x86_64.egg/scipy/signal/_arraytools.py:45: FutureWarning: Using a non-tuple sequence for multidimensional indexing is deprecated; use `arr[tuple(seq)]` instead of `arr[seq]`. In the future this will be interpreted as an array index, `arr[np.array(seq)]`, which will result either in an error or a different result.\n",
      "  b = a[a_slice]\n",
      "/home/caveman/BMD2/lib/python3.5/site-packages/scipy-1.1.0-py3.5-linux-x86_64.egg/scipy/signal/_arraytools.py:45: FutureWarning: Using a non-tuple sequence for multidimensional indexing is deprecated; use `arr[tuple(seq)]` instead of `arr[seq]`. In the future this will be interpreted as an array index, `arr[np.array(seq)]`, which will result either in an error or a different result.\n",
      "  b = a[a_slice]\n",
      "/home/caveman/BMD2/lib/python3.5/site-packages/scipy-1.1.0-py3.5-linux-x86_64.egg/scipy/signal/_arraytools.py:45: FutureWarning: Using a non-tuple sequence for multidimensional indexing is deprecated; use `arr[tuple(seq)]` instead of `arr[seq]`. In the future this will be interpreted as an array index, `arr[np.array(seq)]`, which will result either in an error or a different result.\n",
      "  b = a[a_slice]\n",
      "/home/caveman/BMD2/lib/python3.5/site-packages/scipy-1.1.0-py3.5-linux-x86_64.egg/scipy/signal/_arraytools.py:45: FutureWarning: Using a non-tuple sequence for multidimensional indexing is deprecated; use `arr[tuple(seq)]` instead of `arr[seq]`. In the future this will be interpreted as an array index, `arr[np.array(seq)]`, which will result either in an error or a different result.\n",
      "  b = a[a_slice]\n",
      "/home/caveman/BMD2/lib/python3.5/site-packages/scipy-1.1.0-py3.5-linux-x86_64.egg/scipy/signal/_arraytools.py:45: FutureWarning: Using a non-tuple sequence for multidimensional indexing is deprecated; use `arr[tuple(seq)]` instead of `arr[seq]`. In the future this will be interpreted as an array index, `arr[np.array(seq)]`, which will result either in an error or a different result.\n",
      "  b = a[a_slice]\n",
      "/home/caveman/BMD2/lib/python3.5/site-packages/scipy-1.1.0-py3.5-linux-x86_64.egg/scipy/signal/_arraytools.py:45: FutureWarning: Using a non-tuple sequence for multidimensional indexing is deprecated; use `arr[tuple(seq)]` instead of `arr[seq]`. In the future this will be interpreted as an array index, `arr[np.array(seq)]`, which will result either in an error or a different result.\n",
      "  b = a[a_slice]\n",
      "/home/caveman/BMD2/lib/python3.5/site-packages/scipy-1.1.0-py3.5-linux-x86_64.egg/scipy/signal/_arraytools.py:45: FutureWarning: Using a non-tuple sequence for multidimensional indexing is deprecated; use `arr[tuple(seq)]` instead of `arr[seq]`. In the future this will be interpreted as an array index, `arr[np.array(seq)]`, which will result either in an error or a different result.\n",
      "  b = a[a_slice]\n",
      "/home/caveman/BMD2/lib/python3.5/site-packages/scipy-1.1.0-py3.5-linux-x86_64.egg/scipy/signal/_arraytools.py:45: FutureWarning: Using a non-tuple sequence for multidimensional indexing is deprecated; use `arr[tuple(seq)]` instead of `arr[seq]`. In the future this will be interpreted as an array index, `arr[np.array(seq)]`, which will result either in an error or a different result.\n",
      "  b = a[a_slice]\n",
      "/home/caveman/BMD2/lib/python3.5/site-packages/scipy-1.1.0-py3.5-linux-x86_64.egg/scipy/signal/_arraytools.py:45: FutureWarning: Using a non-tuple sequence for multidimensional indexing is deprecated; use `arr[tuple(seq)]` instead of `arr[seq]`. In the future this will be interpreted as an array index, `arr[np.array(seq)]`, which will result either in an error or a different result.\n",
      "  b = a[a_slice]\n",
      "/home/caveman/BMD2/lib/python3.5/site-packages/scipy-1.1.0-py3.5-linux-x86_64.egg/scipy/signal/_arraytools.py:45: FutureWarning: Using a non-tuple sequence for multidimensional indexing is deprecated; use `arr[tuple(seq)]` instead of `arr[seq]`. In the future this will be interpreted as an array index, `arr[np.array(seq)]`, which will result either in an error or a different result.\n",
      "  b = a[a_slice]\n",
      "/home/caveman/BMD2/lib/python3.5/site-packages/scipy-1.1.0-py3.5-linux-x86_64.egg/scipy/signal/_arraytools.py:45: FutureWarning: Using a non-tuple sequence for multidimensional indexing is deprecated; use `arr[tuple(seq)]` instead of `arr[seq]`. In the future this will be interpreted as an array index, `arr[np.array(seq)]`, which will result either in an error or a different result.\n",
      "  b = a[a_slice]\n",
      "/home/caveman/BMD2/lib/python3.5/site-packages/scipy-1.1.0-py3.5-linux-x86_64.egg/scipy/signal/_arraytools.py:45: FutureWarning: Using a non-tuple sequence for multidimensional indexing is deprecated; use `arr[tuple(seq)]` instead of `arr[seq]`. In the future this will be interpreted as an array index, `arr[np.array(seq)]`, which will result either in an error or a different result.\n",
      "  b = a[a_slice]\n",
      "/home/caveman/BMD2/lib/python3.5/site-packages/scipy-1.1.0-py3.5-linux-x86_64.egg/scipy/signal/_arraytools.py:45: FutureWarning: Using a non-tuple sequence for multidimensional indexing is deprecated; use `arr[tuple(seq)]` instead of `arr[seq]`. In the future this will be interpreted as an array index, `arr[np.array(seq)]`, which will result either in an error or a different result.\n",
      "  b = a[a_slice]\n",
      "/home/caveman/BMD2/lib/python3.5/site-packages/scipy-1.1.0-py3.5-linux-x86_64.egg/scipy/signal/_arraytools.py:45: FutureWarning: Using a non-tuple sequence for multidimensional indexing is deprecated; use `arr[tuple(seq)]` instead of `arr[seq]`. In the future this will be interpreted as an array index, `arr[np.array(seq)]`, which will result either in an error or a different result.\n",
      "  b = a[a_slice]\n",
      "/home/caveman/BMD2/lib/python3.5/site-packages/scipy-1.1.0-py3.5-linux-x86_64.egg/scipy/signal/_arraytools.py:45: FutureWarning: Using a non-tuple sequence for multidimensional indexing is deprecated; use `arr[tuple(seq)]` instead of `arr[seq]`. In the future this will be interpreted as an array index, `arr[np.array(seq)]`, which will result either in an error or a different result.\n",
      "  b = a[a_slice]\n",
      "/home/caveman/BMD2/lib/python3.5/site-packages/scipy-1.1.0-py3.5-linux-x86_64.egg/scipy/signal/_arraytools.py:45: FutureWarning: Using a non-tuple sequence for multidimensional indexing is deprecated; use `arr[tuple(seq)]` instead of `arr[seq]`. In the future this will be interpreted as an array index, `arr[np.array(seq)]`, which will result either in an error or a different result.\n",
      "  b = a[a_slice]\n",
      "/home/caveman/BMD2/lib/python3.5/site-packages/scipy-1.1.0-py3.5-linux-x86_64.egg/scipy/signal/_arraytools.py:45: FutureWarning: Using a non-tuple sequence for multidimensional indexing is deprecated; use `arr[tuple(seq)]` instead of `arr[seq]`. In the future this will be interpreted as an array index, `arr[np.array(seq)]`, which will result either in an error or a different result.\n",
      "  b = a[a_slice]\n",
      "/home/caveman/BMD2/lib/python3.5/site-packages/scipy-1.1.0-py3.5-linux-x86_64.egg/scipy/signal/_arraytools.py:45: FutureWarning: Using a non-tuple sequence for multidimensional indexing is deprecated; use `arr[tuple(seq)]` instead of `arr[seq]`. In the future this will be interpreted as an array index, `arr[np.array(seq)]`, which will result either in an error or a different result.\n",
      "  b = a[a_slice]\n",
      "/home/caveman/BMD2/lib/python3.5/site-packages/scipy-1.1.0-py3.5-linux-x86_64.egg/scipy/signal/_arraytools.py:45: FutureWarning: Using a non-tuple sequence for multidimensional indexing is deprecated; use `arr[tuple(seq)]` instead of `arr[seq]`. In the future this will be interpreted as an array index, `arr[np.array(seq)]`, which will result either in an error or a different result.\n",
      "  b = a[a_slice]\n",
      "/home/caveman/BMD2/lib/python3.5/site-packages/scipy-1.1.0-py3.5-linux-x86_64.egg/scipy/signal/_arraytools.py:45: FutureWarning: Using a non-tuple sequence for multidimensional indexing is deprecated; use `arr[tuple(seq)]` instead of `arr[seq]`. In the future this will be interpreted as an array index, `arr[np.array(seq)]`, which will result either in an error or a different result.\n",
      "  b = a[a_slice]\n",
      "/home/caveman/BMD2/lib/python3.5/site-packages/scipy-1.1.0-py3.5-linux-x86_64.egg/scipy/signal/_arraytools.py:45: FutureWarning: Using a non-tuple sequence for multidimensional indexing is deprecated; use `arr[tuple(seq)]` instead of `arr[seq]`. In the future this will be interpreted as an array index, `arr[np.array(seq)]`, which will result either in an error or a different result.\n",
      "  b = a[a_slice]\n"
     ]
    },
    {
     "name": "stderr",
     "output_type": "stream",
     "text": [
      "/home/caveman/BMD2/lib/python3.5/site-packages/scipy-1.1.0-py3.5-linux-x86_64.egg/scipy/signal/_arraytools.py:45: FutureWarning: Using a non-tuple sequence for multidimensional indexing is deprecated; use `arr[tuple(seq)]` instead of `arr[seq]`. In the future this will be interpreted as an array index, `arr[np.array(seq)]`, which will result either in an error or a different result.\n",
      "  b = a[a_slice]\n",
      "/home/caveman/BMD2/lib/python3.5/site-packages/scipy-1.1.0-py3.5-linux-x86_64.egg/scipy/signal/_arraytools.py:45: FutureWarning: Using a non-tuple sequence for multidimensional indexing is deprecated; use `arr[tuple(seq)]` instead of `arr[seq]`. In the future this will be interpreted as an array index, `arr[np.array(seq)]`, which will result either in an error or a different result.\n",
      "  b = a[a_slice]\n",
      "/home/caveman/BMD2/lib/python3.5/site-packages/scipy-1.1.0-py3.5-linux-x86_64.egg/scipy/signal/_arraytools.py:45: FutureWarning: Using a non-tuple sequence for multidimensional indexing is deprecated; use `arr[tuple(seq)]` instead of `arr[seq]`. In the future this will be interpreted as an array index, `arr[np.array(seq)]`, which will result either in an error or a different result.\n",
      "  b = a[a_slice]\n",
      "/home/caveman/BMD2/lib/python3.5/site-packages/scipy-1.1.0-py3.5-linux-x86_64.egg/scipy/signal/_arraytools.py:45: FutureWarning: Using a non-tuple sequence for multidimensional indexing is deprecated; use `arr[tuple(seq)]` instead of `arr[seq]`. In the future this will be interpreted as an array index, `arr[np.array(seq)]`, which will result either in an error or a different result.\n",
      "  b = a[a_slice]\n",
      "/home/caveman/BMD2/lib/python3.5/site-packages/scipy-1.1.0-py3.5-linux-x86_64.egg/scipy/signal/_arraytools.py:45: FutureWarning: Using a non-tuple sequence for multidimensional indexing is deprecated; use `arr[tuple(seq)]` instead of `arr[seq]`. In the future this will be interpreted as an array index, `arr[np.array(seq)]`, which will result either in an error or a different result.\n",
      "  b = a[a_slice]\n",
      "/home/caveman/BMD2/lib/python3.5/site-packages/scipy-1.1.0-py3.5-linux-x86_64.egg/scipy/signal/_arraytools.py:45: FutureWarning: Using a non-tuple sequence for multidimensional indexing is deprecated; use `arr[tuple(seq)]` instead of `arr[seq]`. In the future this will be interpreted as an array index, `arr[np.array(seq)]`, which will result either in an error or a different result.\n",
      "  b = a[a_slice]\n",
      "/home/caveman/BMD2/lib/python3.5/site-packages/scipy-1.1.0-py3.5-linux-x86_64.egg/scipy/signal/_arraytools.py:45: FutureWarning: Using a non-tuple sequence for multidimensional indexing is deprecated; use `arr[tuple(seq)]` instead of `arr[seq]`. In the future this will be interpreted as an array index, `arr[np.array(seq)]`, which will result either in an error or a different result.\n",
      "  b = a[a_slice]\n",
      "/home/caveman/BMD2/lib/python3.5/site-packages/scipy-1.1.0-py3.5-linux-x86_64.egg/scipy/signal/_arraytools.py:45: FutureWarning: Using a non-tuple sequence for multidimensional indexing is deprecated; use `arr[tuple(seq)]` instead of `arr[seq]`. In the future this will be interpreted as an array index, `arr[np.array(seq)]`, which will result either in an error or a different result.\n",
      "  b = a[a_slice]\n",
      "/home/caveman/BMD2/lib/python3.5/site-packages/scipy-1.1.0-py3.5-linux-x86_64.egg/scipy/signal/_arraytools.py:45: FutureWarning: Using a non-tuple sequence for multidimensional indexing is deprecated; use `arr[tuple(seq)]` instead of `arr[seq]`. In the future this will be interpreted as an array index, `arr[np.array(seq)]`, which will result either in an error or a different result.\n",
      "  b = a[a_slice]\n",
      "/home/caveman/BMD2/lib/python3.5/site-packages/scipy-1.1.0-py3.5-linux-x86_64.egg/scipy/signal/_arraytools.py:45: FutureWarning: Using a non-tuple sequence for multidimensional indexing is deprecated; use `arr[tuple(seq)]` instead of `arr[seq]`. In the future this will be interpreted as an array index, `arr[np.array(seq)]`, which will result either in an error or a different result.\n",
      "  b = a[a_slice]\n",
      "/home/caveman/BMD2/lib/python3.5/site-packages/scipy-1.1.0-py3.5-linux-x86_64.egg/scipy/signal/_arraytools.py:45: FutureWarning: Using a non-tuple sequence for multidimensional indexing is deprecated; use `arr[tuple(seq)]` instead of `arr[seq]`. In the future this will be interpreted as an array index, `arr[np.array(seq)]`, which will result either in an error or a different result.\n",
      "  b = a[a_slice]\n"
     ]
    },
    {
     "name": "stdout",
     "output_type": "stream",
     "text": [
      "optimizer params:  [9, 48, 30]\n",
      "n data pts:  5481\n"
     ]
    },
    {
     "name": "stderr",
     "output_type": "stream",
     "text": [
      "/home/caveman/BMD2/lib/python3.5/site-packages/scipy-1.1.0-py3.5-linux-x86_64.egg/scipy/signal/_arraytools.py:45: FutureWarning: Using a non-tuple sequence for multidimensional indexing is deprecated; use `arr[tuple(seq)]` instead of `arr[seq]`. In the future this will be interpreted as an array index, `arr[np.array(seq)]`, which will result either in an error or a different result.\n",
      "  b = a[a_slice]\n"
     ]
    },
    {
     "name": "stdout",
     "output_type": "stream",
     "text": [
      "[9, 48, 30]\n",
      "goldilocks rmse and errcorr:  1.9539376258676746 0.34510733510964026\n"
     ]
    },
    {
     "data": {
      "image/png": "[encoded data removed]",
      "text/plain": [
       "<Figure size 540x841.89 with 3 Axes>"
      ]
     },
     "metadata": {},
     "output_type": "display_data"
    },
    {
     "data": {
      "image/png": "[encoded data removed]",
      "text/plain": [
       "<Figure size 540x841.89 with 3 Axes>"
      ]
     },
     "metadata": {},
     "output_type": "display_data"
    },
    {
     "data": {
      "image/png": "[encoded data removed]",
      "text/plain": [
       "<Figure size 540x841.89 with 3 Axes>"
      ]
     },
     "metadata": {},
     "output_type": "display_data"
    },
    {
     "data": {
      "image/png": "[encoded data removed]",
      "text/plain": [
       "<Figure size 540x841.89 with 1 Axes>"
      ]
     },
     "metadata": {},
     "output_type": "display_data"
    },
    {
     "data": {
      "image/png": "[encoded data removed]",
      "text/plain": [
       "<Figure size 540x841.89 with 3 Axes>"
      ]
     },
     "metadata": {},
     "output_type": "display_data"
    },
    {
     "data": {
      "image/png": "[encoded data removed]",
      "text/plain": [
       "<Figure size 540x841.89 with 3 Axes>"
      ]
     },
     "metadata": {},
     "output_type": "display_data"
    },
    {
     "data": {
      "image/png": "[encoded data removed]",
      "text/plain": [
       "<Figure size 540x841.89 with 1 Axes>"
      ]
     },
     "metadata": {},
     "output_type": "display_data"
    },
    {
     "data": {
      "image/png": "[encoded data removed]",
      "text/plain": [
       "<Figure size 540x841.89 with 1 Axes>"
      ]
     },
     "metadata": {},
     "output_type": "display_data"
    }
   ],
   "source": [
    "# define problem\n",
    "example = 'example_1'\n",
    "dt = 0.01\n",
    "noise = 0.5\n",
    "timeseries_length = 4\n",
    "cutoff_freq = 2\n",
    "problem = 'lorenz_x'\n",
    "\n",
    "# define method\n",
    "method_parent = 'linear_model'\n",
    "method = 'savgoldiff'\n",
    "\n",
    "# define limits\n",
    "xlimits = {#'data': [0,4],\n",
    "           'pos': [0,4],\n",
    "           'vel': [0,4],\n",
    "           #'spectra': [1e-2,1e2],\n",
    "           'pareto': [5e-1, 1e2]}\n",
    "ylimits = {#'data': [-1.2,2],\n",
    "           'pos': [-1.2,2],\n",
    "           'vel': [-10, 10],\n",
    "           #'spectra': [1e-3,1e1],\n",
    "           'pareto': [0, 1]}\n",
    "\n",
    "xticks = {#'data': [0,2,4],\n",
    "           'pos': [0,2,4],\n",
    "           'vel': [0,2,4],\n",
    "           #'spectra': [1e-2, 1e-1, 1e0, 1e1, 1e2],\n",
    "           'pareto': [1e0, 1e1, 1e2]}\n",
    "yticks = {#'data': [-1, 0, 1, 2],\n",
    "           'pos': [-1, 0, 1, 2],\n",
    "           'vel': [-10, -5, 0, 5, 10],\n",
    "           #'spectra': [1e-3,1e-2, 1e-1, 1e0, 1e1],\n",
    "           'pareto': [0, 1]}\n",
    "\n",
    "go(example, dt, noise, timeseries_length, cutoff_freq, problem, method_parent, method, \n",
    "   xlimits, ylimits, xticks, yticks, read_existing=read_existing)"
   ]
  },
  {
   "cell_type": "code",
   "execution_count": 14,
   "metadata": {},
   "outputs": [
    {
     "name": "stdout",
     "output_type": "stream",
     "text": [
      "simulating\n",
      "done simulating\n",
      "pareto_data/pareto_data_butterdiff_smooth_finite_difference_lorenz_x_0.5_0.01_4_auto.pickle\n",
      "found file:  pareto_data/pareto_data_butterdiff_smooth_finite_difference_lorenz_x_0.5_0.01_4_auto.pickle\n",
      "EXAMPLE:  example_2\n",
      "simulating\n",
      "done simulating\n",
      "tvgamma:  0.05844198239204049\n"
     ]
    },
    {
     "name": "stderr",
     "output_type": "stream",
     "text": [
      "/home/caveman/BMD2/lib/python3.5/site-packages/scipy-1.1.0-py3.5-linux-x86_64.egg/scipy/signal/_arraytools.py:45: FutureWarning: Using a non-tuple sequence for multidimensional indexing is deprecated; use `arr[tuple(seq)]` instead of `arr[seq]`. In the future this will be interpreted as an array index, `arr[np.array(seq)]`, which will result either in an error or a different result.\n",
      "  b = a[a_slice]\n",
      "/home/caveman/BMD2/lib/python3.5/site-packages/scipy-1.1.0-py3.5-linux-x86_64.egg/scipy/signal/_arraytools.py:45: FutureWarning: Using a non-tuple sequence for multidimensional indexing is deprecated; use `arr[tuple(seq)]` instead of `arr[seq]`. In the future this will be interpreted as an array index, `arr[np.array(seq)]`, which will result either in an error or a different result.\n",
      "  b = a[a_slice]\n",
      "/home/caveman/BMD2/lib/python3.5/site-packages/scipy-1.1.0-py3.5-linux-x86_64.egg/scipy/signal/_arraytools.py:45: FutureWarning: Using a non-tuple sequence for multidimensional indexing is deprecated; use `arr[tuple(seq)]` instead of `arr[seq]`. In the future this will be interpreted as an array index, `arr[np.array(seq)]`, which will result either in an error or a different result.\n",
      "  b = a[a_slice]\n",
      "/home/caveman/BMD2/lib/python3.5/site-packages/scipy-1.1.0-py3.5-linux-x86_64.egg/scipy/signal/_arraytools.py:45: FutureWarning: Using a non-tuple sequence for multidimensional indexing is deprecated; use `arr[tuple(seq)]` instead of `arr[seq]`. In the future this will be interpreted as an array index, `arr[np.array(seq)]`, which will result either in an error or a different result.\n",
      "  b = a[a_slice]\n",
      "/home/caveman/BMD2/lib/python3.5/site-packages/scipy-1.1.0-py3.5-linux-x86_64.egg/scipy/signal/_arraytools.py:45: FutureWarning: Using a non-tuple sequence for multidimensional indexing is deprecated; use `arr[tuple(seq)]` instead of `arr[seq]`. In the future this will be interpreted as an array index, `arr[np.array(seq)]`, which will result either in an error or a different result.\n",
      "  b = a[a_slice]\n",
      "/home/caveman/BMD2/lib/python3.5/site-packages/scipy-1.1.0-py3.5-linux-x86_64.egg/scipy/signal/_arraytools.py:45: FutureWarning: Using a non-tuple sequence for multidimensional indexing is deprecated; use `arr[tuple(seq)]` instead of `arr[seq]`. In the future this will be interpreted as an array index, `arr[np.array(seq)]`, which will result either in an error or a different result.\n",
      "  b = a[a_slice]\n",
      "/home/caveman/BMD2/lib/python3.5/site-packages/scipy-1.1.0-py3.5-linux-x86_64.egg/scipy/signal/_arraytools.py:45: FutureWarning: Using a non-tuple sequence for multidimensional indexing is deprecated; use `arr[tuple(seq)]` instead of `arr[seq]`. In the future this will be interpreted as an array index, `arr[np.array(seq)]`, which will result either in an error or a different result.\n",
      "  b = a[a_slice]\n",
      "/home/caveman/BMD2/lib/python3.5/site-packages/scipy-1.1.0-py3.5-linux-x86_64.egg/scipy/signal/_arraytools.py:45: FutureWarning: Using a non-tuple sequence for multidimensional indexing is deprecated; use `arr[tuple(seq)]` instead of `arr[seq]`. In the future this will be interpreted as an array index, `arr[np.array(seq)]`, which will result either in an error or a different result.\n",
      "  b = a[a_slice]\n",
      "/home/caveman/BMD2/lib/python3.5/site-packages/scipy-1.1.0-py3.5-linux-x86_64.egg/scipy/signal/_arraytools.py:45: FutureWarning: Using a non-tuple sequence for multidimensional indexing is deprecated; use `arr[tuple(seq)]` instead of `arr[seq]`. In the future this will be interpreted as an array index, `arr[np.array(seq)]`, which will result either in an error or a different result.\n",
      "  b = a[a_slice]\n",
      "/home/caveman/BMD2/lib/python3.5/site-packages/scipy-1.1.0-py3.5-linux-x86_64.egg/scipy/signal/_arraytools.py:45: FutureWarning: Using a non-tuple sequence for multidimensional indexing is deprecated; use `arr[tuple(seq)]` instead of `arr[seq]`. In the future this will be interpreted as an array index, `arr[np.array(seq)]`, which will result either in an error or a different result.\n",
      "  b = a[a_slice]\n",
      "/home/caveman/BMD2/lib/python3.5/site-packages/scipy-1.1.0-py3.5-linux-x86_64.egg/scipy/signal/_arraytools.py:45: FutureWarning: Using a non-tuple sequence for multidimensional indexing is deprecated; use `arr[tuple(seq)]` instead of `arr[seq]`. In the future this will be interpreted as an array index, `arr[np.array(seq)]`, which will result either in an error or a different result.\n",
      "  b = a[a_slice]\n",
      "/home/caveman/BMD2/lib/python3.5/site-packages/scipy-1.1.0-py3.5-linux-x86_64.egg/scipy/signal/_arraytools.py:45: FutureWarning: Using a non-tuple sequence for multidimensional indexing is deprecated; use `arr[tuple(seq)]` instead of `arr[seq]`. In the future this will be interpreted as an array index, `arr[np.array(seq)]`, which will result either in an error or a different result.\n",
      "  b = a[a_slice]\n",
      "/home/caveman/BMD2/lib/python3.5/site-packages/scipy-1.1.0-py3.5-linux-x86_64.egg/scipy/signal/_arraytools.py:45: FutureWarning: Using a non-tuple sequence for multidimensional indexing is deprecated; use `arr[tuple(seq)]` instead of `arr[seq]`. In the future this will be interpreted as an array index, `arr[np.array(seq)]`, which will result either in an error or a different result.\n",
      "  b = a[a_slice]\n",
      "/home/caveman/BMD2/lib/python3.5/site-packages/scipy-1.1.0-py3.5-linux-x86_64.egg/scipy/signal/_arraytools.py:45: FutureWarning: Using a non-tuple sequence for multidimensional indexing is deprecated; use `arr[tuple(seq)]` instead of `arr[seq]`. In the future this will be interpreted as an array index, `arr[np.array(seq)]`, which will result either in an error or a different result.\n",
      "  b = a[a_slice]\n",
      "/home/caveman/BMD2/lib/python3.5/site-packages/scipy-1.1.0-py3.5-linux-x86_64.egg/scipy/signal/_arraytools.py:45: FutureWarning: Using a non-tuple sequence for multidimensional indexing is deprecated; use `arr[tuple(seq)]` instead of `arr[seq]`. In the future this will be interpreted as an array index, `arr[np.array(seq)]`, which will result either in an error or a different result.\n",
      "  b = a[a_slice]\n",
      "/home/caveman/BMD2/lib/python3.5/site-packages/scipy-1.1.0-py3.5-linux-x86_64.egg/scipy/signal/_arraytools.py:45: FutureWarning: Using a non-tuple sequence for multidimensional indexing is deprecated; use `arr[tuple(seq)]` instead of `arr[seq]`. In the future this will be interpreted as an array index, `arr[np.array(seq)]`, which will result either in an error or a different result.\n",
      "  b = a[a_slice]\n",
      "/home/caveman/BMD2/lib/python3.5/site-packages/scipy-1.1.0-py3.5-linux-x86_64.egg/scipy/signal/_arraytools.py:45: FutureWarning: Using a non-tuple sequence for multidimensional indexing is deprecated; use `arr[tuple(seq)]` instead of `arr[seq]`. In the future this will be interpreted as an array index, `arr[np.array(seq)]`, which will result either in an error or a different result.\n",
      "  b = a[a_slice]\n",
      "/home/caveman/BMD2/lib/python3.5/site-packages/scipy-1.1.0-py3.5-linux-x86_64.egg/scipy/signal/_arraytools.py:45: FutureWarning: Using a non-tuple sequence for multidimensional indexing is deprecated; use `arr[tuple(seq)]` instead of `arr[seq]`. In the future this will be interpreted as an array index, `arr[np.array(seq)]`, which will result either in an error or a different result.\n",
      "  b = a[a_slice]\n",
      "/home/caveman/BMD2/lib/python3.5/site-packages/scipy-1.1.0-py3.5-linux-x86_64.egg/scipy/signal/_arraytools.py:45: FutureWarning: Using a non-tuple sequence for multidimensional indexing is deprecated; use `arr[tuple(seq)]` instead of `arr[seq]`. In the future this will be interpreted as an array index, `arr[np.array(seq)]`, which will result either in an error or a different result.\n",
      "  b = a[a_slice]\n",
      "/home/caveman/BMD2/lib/python3.5/site-packages/scipy-1.1.0-py3.5-linux-x86_64.egg/scipy/signal/_arraytools.py:45: FutureWarning: Using a non-tuple sequence for multidimensional indexing is deprecated; use `arr[tuple(seq)]` instead of `arr[seq]`. In the future this will be interpreted as an array index, `arr[np.array(seq)]`, which will result either in an error or a different result.\n",
      "  b = a[a_slice]\n",
      "/home/caveman/BMD2/lib/python3.5/site-packages/scipy-1.1.0-py3.5-linux-x86_64.egg/scipy/signal/_arraytools.py:45: FutureWarning: Using a non-tuple sequence for multidimensional indexing is deprecated; use `arr[tuple(seq)]` instead of `arr[seq]`. In the future this will be interpreted as an array index, `arr[np.array(seq)]`, which will result either in an error or a different result.\n",
      "  b = a[a_slice]\n"
     ]
    },
    {
     "name": "stderr",
     "output_type": "stream",
     "text": [
      "/home/caveman/BMD2/lib/python3.5/site-packages/scipy-1.1.0-py3.5-linux-x86_64.egg/scipy/signal/_arraytools.py:45: FutureWarning: Using a non-tuple sequence for multidimensional indexing is deprecated; use `arr[tuple(seq)]` instead of `arr[seq]`. In the future this will be interpreted as an array index, `arr[np.array(seq)]`, which will result either in an error or a different result.\n",
      "  b = a[a_slice]\n",
      "/home/caveman/BMD2/lib/python3.5/site-packages/scipy-1.1.0-py3.5-linux-x86_64.egg/scipy/signal/_arraytools.py:45: FutureWarning: Using a non-tuple sequence for multidimensional indexing is deprecated; use `arr[tuple(seq)]` instead of `arr[seq]`. In the future this will be interpreted as an array index, `arr[np.array(seq)]`, which will result either in an error or a different result.\n",
      "  b = a[a_slice]\n",
      "/home/caveman/BMD2/lib/python3.5/site-packages/scipy-1.1.0-py3.5-linux-x86_64.egg/scipy/signal/_arraytools.py:45: FutureWarning: Using a non-tuple sequence for multidimensional indexing is deprecated; use `arr[tuple(seq)]` instead of `arr[seq]`. In the future this will be interpreted as an array index, `arr[np.array(seq)]`, which will result either in an error or a different result.\n",
      "  b = a[a_slice]\n",
      "/home/caveman/BMD2/lib/python3.5/site-packages/scipy-1.1.0-py3.5-linux-x86_64.egg/scipy/signal/_arraytools.py:45: FutureWarning: Using a non-tuple sequence for multidimensional indexing is deprecated; use `arr[tuple(seq)]` instead of `arr[seq]`. In the future this will be interpreted as an array index, `arr[np.array(seq)]`, which will result either in an error or a different result.\n",
      "  b = a[a_slice]\n",
      "/home/caveman/BMD2/lib/python3.5/site-packages/scipy-1.1.0-py3.5-linux-x86_64.egg/scipy/signal/_arraytools.py:45: FutureWarning: Using a non-tuple sequence for multidimensional indexing is deprecated; use `arr[tuple(seq)]` instead of `arr[seq]`. In the future this will be interpreted as an array index, `arr[np.array(seq)]`, which will result either in an error or a different result.\n",
      "  b = a[a_slice]\n",
      "/home/caveman/BMD2/lib/python3.5/site-packages/scipy-1.1.0-py3.5-linux-x86_64.egg/scipy/signal/_arraytools.py:45: FutureWarning: Using a non-tuple sequence for multidimensional indexing is deprecated; use `arr[tuple(seq)]` instead of `arr[seq]`. In the future this will be interpreted as an array index, `arr[np.array(seq)]`, which will result either in an error or a different result.\n",
      "  b = a[a_slice]\n",
      "/home/caveman/BMD2/lib/python3.5/site-packages/scipy-1.1.0-py3.5-linux-x86_64.egg/scipy/signal/_arraytools.py:45: FutureWarning: Using a non-tuple sequence for multidimensional indexing is deprecated; use `arr[tuple(seq)]` instead of `arr[seq]`. In the future this will be interpreted as an array index, `arr[np.array(seq)]`, which will result either in an error or a different result.\n",
      "  b = a[a_slice]\n",
      "/home/caveman/BMD2/lib/python3.5/site-packages/scipy-1.1.0-py3.5-linux-x86_64.egg/scipy/signal/_arraytools.py:45: FutureWarning: Using a non-tuple sequence for multidimensional indexing is deprecated; use `arr[tuple(seq)]` instead of `arr[seq]`. In the future this will be interpreted as an array index, `arr[np.array(seq)]`, which will result either in an error or a different result.\n",
      "  b = a[a_slice]\n",
      "/home/caveman/BMD2/lib/python3.5/site-packages/scipy-1.1.0-py3.5-linux-x86_64.egg/scipy/signal/_arraytools.py:45: FutureWarning: Using a non-tuple sequence for multidimensional indexing is deprecated; use `arr[tuple(seq)]` instead of `arr[seq]`. In the future this will be interpreted as an array index, `arr[np.array(seq)]`, which will result either in an error or a different result.\n",
      "  b = a[a_slice]\n",
      "/home/caveman/BMD2/lib/python3.5/site-packages/scipy-1.1.0-py3.5-linux-x86_64.egg/scipy/signal/_arraytools.py:45: FutureWarning: Using a non-tuple sequence for multidimensional indexing is deprecated; use `arr[tuple(seq)]` instead of `arr[seq]`. In the future this will be interpreted as an array index, `arr[np.array(seq)]`, which will result either in an error or a different result.\n",
      "  b = a[a_slice]\n",
      "/home/caveman/BMD2/lib/python3.5/site-packages/scipy-1.1.0-py3.5-linux-x86_64.egg/scipy/signal/_arraytools.py:45: FutureWarning: Using a non-tuple sequence for multidimensional indexing is deprecated; use `arr[tuple(seq)]` instead of `arr[seq]`. In the future this will be interpreted as an array index, `arr[np.array(seq)]`, which will result either in an error or a different result.\n",
      "  b = a[a_slice]\n"
     ]
    },
    {
     "name": "stdout",
     "output_type": "stream",
     "text": [
      "optimizer params:  [2, 0.06941406250000004]\n",
      "n data pts:  5000\n"
     ]
    },
    {
     "name": "stderr",
     "output_type": "stream",
     "text": [
      "/home/caveman/BMD2/lib/python3.5/site-packages/scipy-1.1.0-py3.5-linux-x86_64.egg/scipy/signal/_arraytools.py:45: FutureWarning: Using a non-tuple sequence for multidimensional indexing is deprecated; use `arr[tuple(seq)]` instead of `arr[seq]`. In the future this will be interpreted as an array index, `arr[np.array(seq)]`, which will result either in an error or a different result.\n",
      "  b = a[a_slice]\n"
     ]
    },
    {
     "name": "stdout",
     "output_type": "stream",
     "text": [
      "[2, 0.06941406250000004]\n",
      "goldilocks rmse and errcorr:  1.9045498175896676 0.2879043690929354\n"
     ]
    },
    {
     "data": {
      "image/png": "[encoded data removed]",
      "text/plain": [
       "<Figure size 540x841.89 with 3 Axes>"
      ]
     },
     "metadata": {},
     "output_type": "display_data"
    },
    {
     "data": {
      "image/png": "[encoded data removed]",
      "text/plain": [
       "<Figure size 540x841.89 with 3 Axes>"
      ]
     },
     "metadata": {},
     "output_type": "display_data"
    },
    {
     "data": {
      "image/png": "[encoded data removed]",
      "text/plain": [
       "<Figure size 540x841.89 with 3 Axes>"
      ]
     },
     "metadata": {},
     "output_type": "display_data"
    },
    {
     "data": {
      "image/png": "[encoded data removed]",
      "text/plain": [
       "<Figure size 540x841.89 with 1 Axes>"
      ]
     },
     "metadata": {},
     "output_type": "display_data"
    },
    {
     "data": {
      "image/png": "[encoded data removed]",
      "text/plain": [
       "<Figure size 540x841.89 with 3 Axes>"
      ]
     },
     "metadata": {},
     "output_type": "display_data"
    },
    {
     "data": {
      "image/png": "[encoded data removed]",
      "text/plain": [
       "<Figure size 540x841.89 with 3 Axes>"
      ]
     },
     "metadata": {},
     "output_type": "display_data"
    },
    {
     "data": {
      "image/png": "[encoded data removed]",
      "text/plain": [
       "<Figure size 540x841.89 with 1 Axes>"
      ]
     },
     "metadata": {},
     "output_type": "display_data"
    },
    {
     "data": {
      "image/png": "[encoded data removed]",
      "text/plain": [
       "<Figure size 540x841.89 with 1 Axes>"
      ]
     },
     "metadata": {},
     "output_type": "display_data"
    }
   ],
   "source": [
    "# define problem\n",
    "example = 'example_2'\n",
    "dt = 0.01\n",
    "noise = 0.5\n",
    "timeseries_length = 4\n",
    "cutoff_freq = 2\n",
    "problem = 'lorenz_x'\n",
    "\n",
    "# define method\n",
    "method_parent = 'smooth_finite_difference'\n",
    "method = 'butterdiff'\n",
    "\n",
    "# define limits\n",
    "xlimits = {#'data': [0,4],\n",
    "           'pos': [0,4],\n",
    "           'vel': [0,4],\n",
    "           #'spectra': [1e-2,1e2],\n",
    "           'pareto': [5e-1, 1e2]}\n",
    "ylimits = {#'data': [-1.2,2],\n",
    "           'pos': [-1.2,2],\n",
    "           'vel': [-10, 10],\n",
    "           #'spectra': [1e-3,1e1],\n",
    "           'pareto': [0, 1]}\n",
    "\n",
    "xticks = {#'data': [0,2,4],\n",
    "           'pos': [0,2,4],\n",
    "           'vel': [0,2,4],\n",
    "           #'spectra': [1e-2, 1e-1, 1e0, 1e1, 1e2],\n",
    "           'pareto': [1e0, 1e1, 1e2]}\n",
    "yticks = {#'data': [-1, 0, 1, 2],\n",
    "           'pos': [-1, 0, 1, 2],\n",
    "           'vel': [-10, -5, 0, 5, 10],\n",
    "           #'spectra': [1e-3,1e-2, 1e-1, 1e0, 1e1],\n",
    "           'pareto': [0, 1]}\n",
    "\n",
    "go(example, dt, noise, timeseries_length, cutoff_freq, problem, method_parent, method, \n",
    "   xlimits, ylimits, xticks, yticks, read_existing=read_existing)"
   ]
  },
  {
   "cell_type": "code",
   "execution_count": 15,
   "metadata": {},
   "outputs": [
    {
     "name": "stdout",
     "output_type": "stream",
     "text": [
      "simulating\n",
      "done simulating\n",
      "pareto_data/pareto_data_constant_acceleration_kalman_smooth_lorenz_x_0.5_0.01_4_auto.pickle\n",
      "found file:  pareto_data/pareto_data_constant_acceleration_kalman_smooth_lorenz_x_0.5_0.01_4_auto.pickle\n",
      "EXAMPLE:  example_3\n",
      "simulating\n",
      "done simulating\n",
      "tvgamma:  0.05844198239204049\n",
      "optimizer params:  [0.0001678124999999998, 1.875]\n",
      "n data pts:  5625\n",
      "[0.0001678124999999998, 1.875]\n",
      "goldilocks rmse and errcorr:  1.8636200332579653 0.1847723339873928\n"
     ]
    },
    {
     "data": {
      "image/png": "[encoded data removed]",
      "text/plain": [
       "<Figure size 540x841.89 with 3 Axes>"
      ]
     },
     "metadata": {},
     "output_type": "display_data"
    },
    {
     "data": {
      "image/png": "[encoded data removed]",
      "text/plain": [
       "<Figure size 540x841.89 with 3 Axes>"
      ]
     },
     "metadata": {},
     "output_type": "display_data"
    },
    {
     "data": {
      "image/png": "[encoded data removed]",
      "text/plain": [
       "<Figure size 540x841.89 with 3 Axes>"
      ]
     },
     "metadata": {},
     "output_type": "display_data"
    },
    {
     "data": {
      "image/png": "[encoded data removed]",
      "text/plain": [
       "<Figure size 540x841.89 with 1 Axes>"
      ]
     },
     "metadata": {},
     "output_type": "display_data"
    },
    {
     "data": {
      "image/png": "[encoded data removed]",
      "text/plain": [
       "<Figure size 540x841.89 with 3 Axes>"
      ]
     },
     "metadata": {},
     "output_type": "display_data"
    },
    {
     "data": {
      "image/png": "[encoded data removed]",
      "text/plain": [
       "<Figure size 540x841.89 with 3 Axes>"
      ]
     },
     "metadata": {},
     "output_type": "display_data"
    },
    {
     "data": {
      "image/png": "[encoded data removed]",
      "text/plain": [
       "<Figure size 540x841.89 with 1 Axes>"
      ]
     },
     "metadata": {},
     "output_type": "display_data"
    },
    {
     "data": {
      "image/png": "[encoded data removed]",
      "text/plain": [
       "<Figure size 540x841.89 with 1 Axes>"
      ]
     },
     "metadata": {},
     "output_type": "display_data"
    }
   ],
   "source": [
    "# define problem\n",
    "example = 'example_3'\n",
    "dt = 0.01\n",
    "noise = 0.5\n",
    "timeseries_length = 4\n",
    "cutoff_freq = 2\n",
    "problem = 'lorenz_x'\n",
    "\n",
    "# define method\n",
    "method_parent = 'kalman_smooth'\n",
    "method = 'constant_acceleration'\n",
    "\n",
    "# define limits\n",
    "xlimits = {#'data': [0,4],\n",
    "           'pos': [0,4],\n",
    "           'vel': [0,4],\n",
    "           #'spectra': [1e-2,1e2],\n",
    "           'pareto': [5e-1, 1e2]}\n",
    "ylimits = {#'data': [-1.2,2],\n",
    "           'pos': [-1.2,2],\n",
    "           'vel': [-10, 10],\n",
    "           #'spectra': [1e-3,1e1],\n",
    "           'pareto': [0, 1]}\n",
    "\n",
    "xticks = {#'data': [0,2,4],\n",
    "           'pos': [0,2,4],\n",
    "           'vel': [0,2,4],\n",
    "           #'spectra': [1e-2, 1e-1, 1e0, 1e1, 1e2],\n",
    "           'pareto': [1e0, 1e1, 1e2]}\n",
    "yticks = {#'data': [-1, 0, 1, 2],\n",
    "           'pos': [-1, 0, 1, 2],\n",
    "           'vel': [-10, -5, 0, 5, 10],\n",
    "           #'spectra': [1e-3,1e-2, 1e-1, 1e0, 1e1],\n",
    "           'pareto': [0, 1]}\n",
    "\n",
    "go(example, dt, noise, timeseries_length, cutoff_freq, problem, method_parent, method, \n",
    "   xlimits, ylimits, xticks, yticks, read_existing=read_existing)"
   ]
  },
  {
   "cell_type": "code",
   "execution_count": 16,
   "metadata": {},
   "outputs": [
    {
     "name": "stdout",
     "output_type": "stream",
     "text": [
      "simulating\n",
      "done simulating\n",
      "pareto_data/pareto_data_jerk_total_variation_regularization_lorenz_x_0.5_0.01_4_auto.pickle\n",
      "found file:  pareto_data/pareto_data_jerk_total_variation_regularization_lorenz_x_0.5_0.01_4_auto.pickle\n",
      "EXAMPLE:  example_4\n",
      "simulating\n",
      "done simulating\n",
      "tvgamma:  0.05844198239204049\n",
      "optimizer params:  [192.5]\n",
      "n data pts:  500\n",
      "[192.5]\n",
      "goldilocks rmse and errcorr:  1.804413344026917 0.0959096756548356\n"
     ]
    },
    {
     "data": {
      "image/png": "[encoded data removed]",
      "text/plain": [
       "<Figure size 540x841.89 with 3 Axes>"
      ]
     },
     "metadata": {},
     "output_type": "display_data"
    },
    {
     "data": {
      "image/png": "[encoded data removed]",
      "text/plain": [
       "<Figure size 540x841.89 with 3 Axes>"
      ]
     },
     "metadata": {},
     "output_type": "display_data"
    },
    {
     "data": {
      "image/png": "[encoded data removed]",
      "text/plain": [
       "<Figure size 540x841.89 with 3 Axes>"
      ]
     },
     "metadata": {},
     "output_type": "display_data"
    },
    {
     "data": {
      "image/png": "[encoded data removed]",
      "text/plain": [
       "<Figure size 540x841.89 with 1 Axes>"
      ]
     },
     "metadata": {},
     "output_type": "display_data"
    },
    {
     "data": {
      "image/png": "[encoded data removed]",
      "text/plain": [
       "<Figure size 540x841.89 with 3 Axes>"
      ]
     },
     "metadata": {},
     "output_type": "display_data"
    },
    {
     "data": {
      "image/png": "[encoded data removed]",
      "text/plain": [
       "<Figure size 540x841.89 with 3 Axes>"
      ]
     },
     "metadata": {},
     "output_type": "display_data"
    },
    {
     "data": {
      "image/png": "[encoded data removed]",
      "text/plain": [
       "<Figure size 540x841.89 with 1 Axes>"
      ]
     },
     "metadata": {},
     "output_type": "display_data"
    },
    {
     "data": {
      "image/png": "[encoded data removed]",
      "text/plain": [
       "<Figure size 540x841.89 with 1 Axes>"
      ]
     },
     "metadata": {},
     "output_type": "display_data"
    }
   ],
   "source": [
    "# define problem\n",
    "example = 'example_4'\n",
    "dt = 0.01\n",
    "noise = 0.5\n",
    "timeseries_length = 4\n",
    "cutoff_freq = 2\n",
    "problem = 'lorenz_x'\n",
    "\n",
    "\n",
    "# define method\n",
    "method_parent = 'total_variation_regularization'\n",
    "method = 'jerk'\n",
    "\n",
    "# define limits\n",
    "xlimits = {#'data': [0,4],\n",
    "           'pos': [0,4],\n",
    "           'vel': [0,4],\n",
    "           #'spectra': [1e-2,1e2],\n",
    "           'pareto': [5e-1, 1e2]}\n",
    "ylimits = {#'data': [-1.2,2],\n",
    "           'pos': [-1.2,2],\n",
    "           'vel': [-10, 10],\n",
    "           #'spectra': [1e-3,1e1],\n",
    "           'pareto': [0, 1]}\n",
    "\n",
    "xticks = {#'data': [0,2,4],\n",
    "           'pos': [0,2,4],\n",
    "           'vel': [0,2,4],\n",
    "           #'spectra': [1e-2, 1e-1, 1e0, 1e1, 1e2],\n",
    "           'pareto': [1e0, 1e1, 1e2]}\n",
    "yticks = {#'data': [-1, 0, 1, 2],\n",
    "           'pos': [-1, 0, 1, 2],\n",
    "           'vel': [-10, -5, 0, 5, 10],\n",
    "           #'spectra': [1e-3,1e-2, 1e-1, 1e0, 1e1],\n",
    "           'pareto': [0, 1]}\n",
    "\n",
    "go(example, dt, noise, timeseries_length, cutoff_freq, problem, method_parent, method, \n",
    "   xlimits, ylimits, xticks, yticks, read_existing=read_existing)"
   ]
  },
  {
   "cell_type": "markdown",
   "metadata": {},
   "source": [
    "# data"
   ]
  },
  {
   "cell_type": "code",
   "execution_count": 17,
   "metadata": {},
   "outputs": [
    {
     "data": {
      "image/png": "[encoded data removed]",
      "text/plain": [
       "<Figure size 540x841.89 with 3 Axes>"
      ]
     },
     "metadata": {},
     "output_type": "display_data"
    },
    {
     "data": {
      "image/png": "[encoded data removed]",
      "text/plain": [
       "<Figure size 540x841.89 with 3 Axes>"
      ]
     },
     "metadata": {},
     "output_type": "display_data"
    },
    {
     "data": {
      "image/png": "[encoded data removed]",
      "text/plain": [
       "<Figure size 540x841.89 with 3 Axes>"
      ]
     },
     "metadata": {},
     "output_type": "display_data"
    },
    {
     "data": {
      "image/png": "[encoded data removed]",
      "text/plain": [
       "<Figure size 540x841.89 with 1 Axes>"
      ]
     },
     "metadata": {},
     "output_type": "display_data"
    },
    {
     "data": {
      "image/png": "[encoded data removed]",
      "text/plain": [
       "<Figure size 540x841.89 with 3 Axes>"
      ]
     },
     "metadata": {},
     "output_type": "display_data"
    },
    {
     "data": {
      "image/png": "[encoded data removed]",
      "text/plain": [
       "<Figure size 540x841.89 with 3 Axes>"
      ]
     },
     "metadata": {},
     "output_type": "display_data"
    },
    {
     "data": {
      "image/png": "[encoded data removed]",
      "text/plain": [
       "<Figure size 540x841.89 with 1 Axes>"
      ]
     },
     "metadata": {},
     "output_type": "display_data"
    },
    {
     "data": {
      "image/png": "[encoded data removed]",
      "text/plain": [
       "<Figure size 540x841.89 with 1 Axes>"
      ]
     },
     "metadata": {},
     "output_type": "display_data"
    }
   ],
   "source": [
    "layout = fifi.svg_to_axes.FigureLayout(figure_layout, autogenlayers=True, \n",
    "                                       make_mplfigures=True, hide_layers=[])\n",
    "ax_data = layout.axes[('data', 'data')]\n",
    "\n",
    "r = pynumdiff.utils.simulate.__dict__[problem](timeseries_length, noise_parameters=[0, noise], \n",
    "                                                               dt=dt)\n",
    "x, x_truth, dxdt_truth, _ = r\n",
    "t = np.linspace(0, timeseries_length, len(x))\n",
    "\n",
    "ax_data.plot(t, x, '.', color='blue', zorder=-10, markersize=2)\n",
    "ax_data.set_rasterization_zorder(0)\n",
    "ax_data.set_xlim(0, timeseries_length)\n",
    "\n",
    "xlimits = {'data': [0,4]}\n",
    "ylimits = {'data': [-1.2,2]}\n",
    "\n",
    "xticks = {'data': [0,2,4]}\n",
    "yticks = {'data': [-1, 0, 1, 2]}\n",
    "\n",
    "prep_spines(layout, 'data', xlimits, ylimits, xticks, yticks)\n",
    "\n",
    "layout.append_figure_to_layer(layout.figures['data'], 'data', cleartarget=True)\n",
    "layout.write_svg(figure_layout)"
   ]
  },
  {
   "cell_type": "code",
   "execution_count": 18,
   "metadata": {},
   "outputs": [],
   "source": [
    "def go_overlay(example, dt, noise, timeseries_length, cutoff_freq, problem, method_parent, method, \n",
    "       xlimits, ylimits, xticks, yticks, read_existing=True):\n",
    "    # simulate\n",
    "    print('simulating')\n",
    "    if problem == 'pi_control':\n",
    "        r = pynumdiff.utils.simulate.__dict__[problem](timeseries_length, noise_parameters=[0, noise], \n",
    "                                                               dt=dt, simdt=0.01)\n",
    "        simdt = 0.01\n",
    "    elif problem != 'sine':\n",
    "        r = pynumdiff.utils.simulate.__dict__[problem](timeseries_length, noise_parameters=[0, noise], \n",
    "                                                               dt=dt)\n",
    "        simdt = 0.0001\n",
    "    elif problem == 'sine':\n",
    "        r = pynumdiff.utils.simulate.__dict__[problem](timeseries_length, noise_parameters=[0, noise], \n",
    "                                                               dt=dt, frequencies=[7, 10])\n",
    "        simdt = 0.0001\n",
    "        \n",
    "    x, x_truth, dxdt_truth, _ = r\n",
    "    print('done simulating')\n",
    "    \n",
    "    # get axes\n",
    "    print('EXAMPLE: ', example)\n",
    "    layout = fifi.svg_to_axes.FigureLayout(figure_layout, autogenlayers=True, \n",
    "                                           make_mplfigures=True, hide_layers=[])\n",
    "\n",
    "    method_parent_pairs = [['linear_model', 'savgoldiff'],\n",
    "                           ['smooth_finite_difference', 'butterdiff'],\n",
    "                           ['kalman_smooth', 'constant_acceleration'],\n",
    "                           ['total_variation_regularization', 'jerk']]\n",
    "    \n",
    "    colors = ['violet',\n",
    "              'lightgreen',\n",
    "              'cornflowerblue',\n",
    "              'lightsalmon']\n",
    "    \n",
    "    for i, mpp in enumerate(method_parent_pairs):\n",
    "        method_parent, method = mpp\n",
    "        color = colors[i]\n",
    "        \n",
    "        # run_pareto_analysis\n",
    "        if problem == 'sine':\n",
    "            fname = run_pareto_plot.run_pareto_analysis_on_specific(noise, dt, timeseries_length, problem, method, method_parent, simdt=simdt, frequencies=[7,10], read_existing=read_existing)\n",
    "        else:\n",
    "            fname = run_pareto_plot.run_pareto_analysis_on_specific(noise, dt, timeseries_length, problem, method, method_parent, simdt=simdt, read_existing=read_existing)\n",
    "        \n",
    "        ax_vel = layout.axes[('vel', 'vel')]\n",
    "        ax_pareto = layout.axes[('pareto', 'pareto')]\n",
    "\n",
    "        # make pos, vel, spectra plots\n",
    "        make_plot(method, method_parent, problem, dt, noise, timeseries_length, cutoff_freq, \n",
    "                      ax_data=None, ax_pos=None, ax_vel=ax_vel, ax_spectra=None, color=color)\n",
    "\n",
    "        # make pareto plot\n",
    "        data = load_data(fname)\n",
    "        ax_pareto.set_xscale(\"log\")\n",
    "        plot_rmse_errcorr(data, ax=ax_pareto, plot=True, color=color, plot_gray=False)\n",
    "        ax_pareto.set_rasterization_zorder(0)\n",
    "        plot_goldilocks_gamma(dt, cutoff_freq, x, x_truth, dxdt_truth, ax_pareto, method, method_parent, color=color)\n",
    "\n",
    "    \n",
    "    # prep spines\n",
    "    prep_spines(layout, 'vel', xlimits, ylimits, xticks, yticks)\n",
    "    prep_spines(layout, 'pareto', xlimits, ylimits, xticks, yticks)\n",
    "    \n",
    "    \n",
    "    # save\n",
    "    layout.append_figure_to_layer(layout.figures['vel'], 'vel', cleartarget=True)\n",
    "    layout.append_figure_to_layer(layout.figures['pareto'], 'pareto', cleartarget=True)\n",
    "    layout.write_svg(figure_layout)"
   ]
  },
  {
   "cell_type": "markdown",
   "metadata": {},
   "source": [
    "# overlay vel, pareto"
   ]
  },
  {
   "cell_type": "code",
   "execution_count": 19,
   "metadata": {},
   "outputs": [
    {
     "name": "stdout",
     "output_type": "stream",
     "text": [
      "simulating\n",
      "done simulating\n",
      "EXAMPLE:  none\n",
      "pareto_data/pareto_data_savgoldiff_linear_model_lorenz_x_0.5_0.01_4_auto.pickle\n",
      "found file:  pareto_data/pareto_data_savgoldiff_linear_model_lorenz_x_0.5_0.01_4_auto.pickle\n",
      "simulating\n",
      "done simulating\n",
      "tvgamma:  0.05844198239204049\n"
     ]
    },
    {
     "name": "stderr",
     "output_type": "stream",
     "text": [
      "/home/caveman/BMD2/lib/python3.5/site-packages/scipy-1.1.0-py3.5-linux-x86_64.egg/scipy/signal/_arraytools.py:45: FutureWarning: Using a non-tuple sequence for multidimensional indexing is deprecated; use `arr[tuple(seq)]` instead of `arr[seq]`. In the future this will be interpreted as an array index, `arr[np.array(seq)]`, which will result either in an error or a different result.\n",
      "  b = a[a_slice]\n",
      "/home/caveman/BMD2/lib/python3.5/site-packages/scipy-1.1.0-py3.5-linux-x86_64.egg/scipy/signal/_arraytools.py:45: FutureWarning: Using a non-tuple sequence for multidimensional indexing is deprecated; use `arr[tuple(seq)]` instead of `arr[seq]`. In the future this will be interpreted as an array index, `arr[np.array(seq)]`, which will result either in an error or a different result.\n",
      "  b = a[a_slice]\n",
      "/home/caveman/BMD2/lib/python3.5/site-packages/scipy-1.1.0-py3.5-linux-x86_64.egg/scipy/signal/_arraytools.py:45: FutureWarning: Using a non-tuple sequence for multidimensional indexing is deprecated; use `arr[tuple(seq)]` instead of `arr[seq]`. In the future this will be interpreted as an array index, `arr[np.array(seq)]`, which will result either in an error or a different result.\n",
      "  b = a[a_slice]\n",
      "/home/caveman/BMD2/lib/python3.5/site-packages/scipy-1.1.0-py3.5-linux-x86_64.egg/scipy/signal/_arraytools.py:45: FutureWarning: Using a non-tuple sequence for multidimensional indexing is deprecated; use `arr[tuple(seq)]` instead of `arr[seq]`. In the future this will be interpreted as an array index, `arr[np.array(seq)]`, which will result either in an error or a different result.\n",
      "  b = a[a_slice]\n",
      "/home/caveman/BMD2/lib/python3.5/site-packages/scipy-1.1.0-py3.5-linux-x86_64.egg/scipy/signal/_arraytools.py:45: FutureWarning: Using a non-tuple sequence for multidimensional indexing is deprecated; use `arr[tuple(seq)]` instead of `arr[seq]`. In the future this will be interpreted as an array index, `arr[np.array(seq)]`, which will result either in an error or a different result.\n",
      "  b = a[a_slice]\n",
      "/home/caveman/BMD2/lib/python3.5/site-packages/scipy-1.1.0-py3.5-linux-x86_64.egg/scipy/signal/_arraytools.py:45: FutureWarning: Using a non-tuple sequence for multidimensional indexing is deprecated; use `arr[tuple(seq)]` instead of `arr[seq]`. In the future this will be interpreted as an array index, `arr[np.array(seq)]`, which will result either in an error or a different result.\n",
      "  b = a[a_slice]\n",
      "/home/caveman/BMD2/lib/python3.5/site-packages/scipy-1.1.0-py3.5-linux-x86_64.egg/scipy/signal/_arraytools.py:45: FutureWarning: Using a non-tuple sequence for multidimensional indexing is deprecated; use `arr[tuple(seq)]` instead of `arr[seq]`. In the future this will be interpreted as an array index, `arr[np.array(seq)]`, which will result either in an error or a different result.\n",
      "  b = a[a_slice]\n",
      "/home/caveman/BMD2/lib/python3.5/site-packages/scipy-1.1.0-py3.5-linux-x86_64.egg/scipy/signal/_arraytools.py:45: FutureWarning: Using a non-tuple sequence for multidimensional indexing is deprecated; use `arr[tuple(seq)]` instead of `arr[seq]`. In the future this will be interpreted as an array index, `arr[np.array(seq)]`, which will result either in an error or a different result.\n",
      "  b = a[a_slice]\n",
      "/home/caveman/BMD2/lib/python3.5/site-packages/scipy-1.1.0-py3.5-linux-x86_64.egg/scipy/signal/_arraytools.py:45: FutureWarning: Using a non-tuple sequence for multidimensional indexing is deprecated; use `arr[tuple(seq)]` instead of `arr[seq]`. In the future this will be interpreted as an array index, `arr[np.array(seq)]`, which will result either in an error or a different result.\n",
      "  b = a[a_slice]\n",
      "/home/caveman/BMD2/lib/python3.5/site-packages/scipy-1.1.0-py3.5-linux-x86_64.egg/scipy/signal/_arraytools.py:45: FutureWarning: Using a non-tuple sequence for multidimensional indexing is deprecated; use `arr[tuple(seq)]` instead of `arr[seq]`. In the future this will be interpreted as an array index, `arr[np.array(seq)]`, which will result either in an error or a different result.\n",
      "  b = a[a_slice]\n",
      "/home/caveman/BMD2/lib/python3.5/site-packages/scipy-1.1.0-py3.5-linux-x86_64.egg/scipy/signal/_arraytools.py:45: FutureWarning: Using a non-tuple sequence for multidimensional indexing is deprecated; use `arr[tuple(seq)]` instead of `arr[seq]`. In the future this will be interpreted as an array index, `arr[np.array(seq)]`, which will result either in an error or a different result.\n",
      "  b = a[a_slice]\n",
      "/home/caveman/BMD2/lib/python3.5/site-packages/scipy-1.1.0-py3.5-linux-x86_64.egg/scipy/signal/_arraytools.py:45: FutureWarning: Using a non-tuple sequence for multidimensional indexing is deprecated; use `arr[tuple(seq)]` instead of `arr[seq]`. In the future this will be interpreted as an array index, `arr[np.array(seq)]`, which will result either in an error or a different result.\n",
      "  b = a[a_slice]\n",
      "/home/caveman/BMD2/lib/python3.5/site-packages/scipy-1.1.0-py3.5-linux-x86_64.egg/scipy/signal/_arraytools.py:45: FutureWarning: Using a non-tuple sequence for multidimensional indexing is deprecated; use `arr[tuple(seq)]` instead of `arr[seq]`. In the future this will be interpreted as an array index, `arr[np.array(seq)]`, which will result either in an error or a different result.\n",
      "  b = a[a_slice]\n",
      "/home/caveman/BMD2/lib/python3.5/site-packages/scipy-1.1.0-py3.5-linux-x86_64.egg/scipy/signal/_arraytools.py:45: FutureWarning: Using a non-tuple sequence for multidimensional indexing is deprecated; use `arr[tuple(seq)]` instead of `arr[seq]`. In the future this will be interpreted as an array index, `arr[np.array(seq)]`, which will result either in an error or a different result.\n",
      "  b = a[a_slice]\n",
      "/home/caveman/BMD2/lib/python3.5/site-packages/scipy-1.1.0-py3.5-linux-x86_64.egg/scipy/signal/_arraytools.py:45: FutureWarning: Using a non-tuple sequence for multidimensional indexing is deprecated; use `arr[tuple(seq)]` instead of `arr[seq]`. In the future this will be interpreted as an array index, `arr[np.array(seq)]`, which will result either in an error or a different result.\n",
      "  b = a[a_slice]\n",
      "/home/caveman/BMD2/lib/python3.5/site-packages/scipy-1.1.0-py3.5-linux-x86_64.egg/scipy/signal/_arraytools.py:45: FutureWarning: Using a non-tuple sequence for multidimensional indexing is deprecated; use `arr[tuple(seq)]` instead of `arr[seq]`. In the future this will be interpreted as an array index, `arr[np.array(seq)]`, which will result either in an error or a different result.\n",
      "  b = a[a_slice]\n",
      "/home/caveman/BMD2/lib/python3.5/site-packages/scipy-1.1.0-py3.5-linux-x86_64.egg/scipy/signal/_arraytools.py:45: FutureWarning: Using a non-tuple sequence for multidimensional indexing is deprecated; use `arr[tuple(seq)]` instead of `arr[seq]`. In the future this will be interpreted as an array index, `arr[np.array(seq)]`, which will result either in an error or a different result.\n",
      "  b = a[a_slice]\n",
      "/home/caveman/BMD2/lib/python3.5/site-packages/scipy-1.1.0-py3.5-linux-x86_64.egg/scipy/signal/_arraytools.py:45: FutureWarning: Using a non-tuple sequence for multidimensional indexing is deprecated; use `arr[tuple(seq)]` instead of `arr[seq]`. In the future this will be interpreted as an array index, `arr[np.array(seq)]`, which will result either in an error or a different result.\n",
      "  b = a[a_slice]\n",
      "/home/caveman/BMD2/lib/python3.5/site-packages/scipy-1.1.0-py3.5-linux-x86_64.egg/scipy/signal/_arraytools.py:45: FutureWarning: Using a non-tuple sequence for multidimensional indexing is deprecated; use `arr[tuple(seq)]` instead of `arr[seq]`. In the future this will be interpreted as an array index, `arr[np.array(seq)]`, which will result either in an error or a different result.\n",
      "  b = a[a_slice]\n",
      "/home/caveman/BMD2/lib/python3.5/site-packages/scipy-1.1.0-py3.5-linux-x86_64.egg/scipy/signal/_arraytools.py:45: FutureWarning: Using a non-tuple sequence for multidimensional indexing is deprecated; use `arr[tuple(seq)]` instead of `arr[seq]`. In the future this will be interpreted as an array index, `arr[np.array(seq)]`, which will result either in an error or a different result.\n",
      "  b = a[a_slice]\n",
      "/home/caveman/BMD2/lib/python3.5/site-packages/scipy-1.1.0-py3.5-linux-x86_64.egg/scipy/signal/_arraytools.py:45: FutureWarning: Using a non-tuple sequence for multidimensional indexing is deprecated; use `arr[tuple(seq)]` instead of `arr[seq]`. In the future this will be interpreted as an array index, `arr[np.array(seq)]`, which will result either in an error or a different result.\n",
      "  b = a[a_slice]\n"
     ]
    },
    {
     "name": "stderr",
     "output_type": "stream",
     "text": [
      "/home/caveman/BMD2/lib/python3.5/site-packages/scipy-1.1.0-py3.5-linux-x86_64.egg/scipy/signal/_arraytools.py:45: FutureWarning: Using a non-tuple sequence for multidimensional indexing is deprecated; use `arr[tuple(seq)]` instead of `arr[seq]`. In the future this will be interpreted as an array index, `arr[np.array(seq)]`, which will result either in an error or a different result.\n",
      "  b = a[a_slice]\n",
      "/home/caveman/BMD2/lib/python3.5/site-packages/scipy-1.1.0-py3.5-linux-x86_64.egg/scipy/signal/_arraytools.py:45: FutureWarning: Using a non-tuple sequence for multidimensional indexing is deprecated; use `arr[tuple(seq)]` instead of `arr[seq]`. In the future this will be interpreted as an array index, `arr[np.array(seq)]`, which will result either in an error or a different result.\n",
      "  b = a[a_slice]\n",
      "/home/caveman/BMD2/lib/python3.5/site-packages/scipy-1.1.0-py3.5-linux-x86_64.egg/scipy/signal/_arraytools.py:45: FutureWarning: Using a non-tuple sequence for multidimensional indexing is deprecated; use `arr[tuple(seq)]` instead of `arr[seq]`. In the future this will be interpreted as an array index, `arr[np.array(seq)]`, which will result either in an error or a different result.\n",
      "  b = a[a_slice]\n",
      "/home/caveman/BMD2/lib/python3.5/site-packages/scipy-1.1.0-py3.5-linux-x86_64.egg/scipy/signal/_arraytools.py:45: FutureWarning: Using a non-tuple sequence for multidimensional indexing is deprecated; use `arr[tuple(seq)]` instead of `arr[seq]`. In the future this will be interpreted as an array index, `arr[np.array(seq)]`, which will result either in an error or a different result.\n",
      "  b = a[a_slice]\n",
      "/home/caveman/BMD2/lib/python3.5/site-packages/scipy-1.1.0-py3.5-linux-x86_64.egg/scipy/signal/_arraytools.py:45: FutureWarning: Using a non-tuple sequence for multidimensional indexing is deprecated; use `arr[tuple(seq)]` instead of `arr[seq]`. In the future this will be interpreted as an array index, `arr[np.array(seq)]`, which will result either in an error or a different result.\n",
      "  b = a[a_slice]\n",
      "/home/caveman/BMD2/lib/python3.5/site-packages/scipy-1.1.0-py3.5-linux-x86_64.egg/scipy/signal/_arraytools.py:45: FutureWarning: Using a non-tuple sequence for multidimensional indexing is deprecated; use `arr[tuple(seq)]` instead of `arr[seq]`. In the future this will be interpreted as an array index, `arr[np.array(seq)]`, which will result either in an error or a different result.\n",
      "  b = a[a_slice]\n",
      "/home/caveman/BMD2/lib/python3.5/site-packages/scipy-1.1.0-py3.5-linux-x86_64.egg/scipy/signal/_arraytools.py:45: FutureWarning: Using a non-tuple sequence for multidimensional indexing is deprecated; use `arr[tuple(seq)]` instead of `arr[seq]`. In the future this will be interpreted as an array index, `arr[np.array(seq)]`, which will result either in an error or a different result.\n",
      "  b = a[a_slice]\n",
      "/home/caveman/BMD2/lib/python3.5/site-packages/scipy-1.1.0-py3.5-linux-x86_64.egg/scipy/signal/_arraytools.py:45: FutureWarning: Using a non-tuple sequence for multidimensional indexing is deprecated; use `arr[tuple(seq)]` instead of `arr[seq]`. In the future this will be interpreted as an array index, `arr[np.array(seq)]`, which will result either in an error or a different result.\n",
      "  b = a[a_slice]\n",
      "/home/caveman/BMD2/lib/python3.5/site-packages/scipy-1.1.0-py3.5-linux-x86_64.egg/scipy/signal/_arraytools.py:45: FutureWarning: Using a non-tuple sequence for multidimensional indexing is deprecated; use `arr[tuple(seq)]` instead of `arr[seq]`. In the future this will be interpreted as an array index, `arr[np.array(seq)]`, which will result either in an error or a different result.\n",
      "  b = a[a_slice]\n",
      "/home/caveman/BMD2/lib/python3.5/site-packages/scipy-1.1.0-py3.5-linux-x86_64.egg/scipy/signal/_arraytools.py:45: FutureWarning: Using a non-tuple sequence for multidimensional indexing is deprecated; use `arr[tuple(seq)]` instead of `arr[seq]`. In the future this will be interpreted as an array index, `arr[np.array(seq)]`, which will result either in an error or a different result.\n",
      "  b = a[a_slice]\n",
      "/home/caveman/BMD2/lib/python3.5/site-packages/scipy-1.1.0-py3.5-linux-x86_64.egg/scipy/signal/_arraytools.py:45: FutureWarning: Using a non-tuple sequence for multidimensional indexing is deprecated; use `arr[tuple(seq)]` instead of `arr[seq]`. In the future this will be interpreted as an array index, `arr[np.array(seq)]`, which will result either in an error or a different result.\n",
      "  b = a[a_slice]\n"
     ]
    },
    {
     "name": "stdout",
     "output_type": "stream",
     "text": [
      "optimizer params:  [9, 48, 30]\n",
      "n data pts:  5481\n"
     ]
    },
    {
     "name": "stderr",
     "output_type": "stream",
     "text": [
      "/home/caveman/BMD2/lib/python3.5/site-packages/scipy-1.1.0-py3.5-linux-x86_64.egg/scipy/signal/_arraytools.py:45: FutureWarning: Using a non-tuple sequence for multidimensional indexing is deprecated; use `arr[tuple(seq)]` instead of `arr[seq]`. In the future this will be interpreted as an array index, `arr[np.array(seq)]`, which will result either in an error or a different result.\n",
      "  b = a[a_slice]\n"
     ]
    },
    {
     "name": "stdout",
     "output_type": "stream",
     "text": [
      "[9, 48, 30]\n",
      "goldilocks rmse and errcorr:  1.9539376258676746 0.34510733510964026\n",
      "pareto_data/pareto_data_butterdiff_smooth_finite_difference_lorenz_x_0.5_0.01_4_auto.pickle\n",
      "found file:  pareto_data/pareto_data_butterdiff_smooth_finite_difference_lorenz_x_0.5_0.01_4_auto.pickle\n",
      "simulating\n",
      "done simulating\n",
      "tvgamma:  0.05844198239204049\n",
      "optimizer params:  [2, 0.06941406250000004]\n",
      "n data pts:  5000\n",
      "[2, 0.06941406250000004]\n",
      "goldilocks rmse and errcorr:  1.9045498175896676 0.2879043690929354\n",
      "pareto_data/pareto_data_constant_acceleration_kalman_smooth_lorenz_x_0.5_0.01_4_auto.pickle\n",
      "found file:  pareto_data/pareto_data_constant_acceleration_kalman_smooth_lorenz_x_0.5_0.01_4_auto.pickle\n",
      "simulating\n",
      "done simulating\n",
      "tvgamma:  0.05844198239204049\n",
      "optimizer params:  [0.0001678124999999998, 1.875]\n",
      "n data pts:  5625\n",
      "[0.0001678124999999998, 1.875]\n",
      "goldilocks rmse and errcorr:  1.8636200332579653 0.1847723339873928\n",
      "pareto_data/pareto_data_jerk_total_variation_regularization_lorenz_x_0.5_0.01_4_auto.pickle\n",
      "found file:  pareto_data/pareto_data_jerk_total_variation_regularization_lorenz_x_0.5_0.01_4_auto.pickle\n",
      "simulating\n",
      "done simulating\n",
      "tvgamma:  0.05844198239204049\n",
      "optimizer params:  [192.5]\n",
      "n data pts:  500\n",
      "[192.5]\n",
      "goldilocks rmse and errcorr:  1.804413344026917 0.0959096756548356\n"
     ]
    },
    {
     "data": {
      "image/png": "[encoded data removed]",
      "text/plain": [
       "<Figure size 540x841.89 with 3 Axes>"
      ]
     },
     "metadata": {},
     "output_type": "display_data"
    },
    {
     "data": {
      "image/png": "[encoded data removed]",
      "text/plain": [
       "<Figure size 540x841.89 with 3 Axes>"
      ]
     },
     "metadata": {},
     "output_type": "display_data"
    },
    {
     "data": {
      "image/png": "[encoded data removed]",
      "text/plain": [
       "<Figure size 540x841.89 with 3 Axes>"
      ]
     },
     "metadata": {},
     "output_type": "display_data"
    },
    {
     "data": {
      "image/png": "[encoded data removed]",
      "text/plain": [
       "<Figure size 540x841.89 with 1 Axes>"
      ]
     },
     "metadata": {},
     "output_type": "display_data"
    },
    {
     "data": {
      "image/png": "[encoded data removed]",
      "text/plain": [
       "<Figure size 540x841.89 with 3 Axes>"
      ]
     },
     "metadata": {},
     "output_type": "display_data"
    },
    {
     "data": {
      "image/png": "[encoded data removed]",
      "text/plain": [
       "<Figure size 540x841.89 with 3 Axes>"
      ]
     },
     "metadata": {},
     "output_type": "display_data"
    },
    {
     "data": {
      "image/png": "[encoded data removed]",
      "text/plain": [
       "<Figure size 540x841.89 with 1 Axes>"
      ]
     },
     "metadata": {},
     "output_type": "display_data"
    },
    {
     "data": {
      "image/png": "[encoded data removed]",
      "text/plain": [
       "<Figure size 540x841.89 with 1 Axes>"
      ]
     },
     "metadata": {},
     "output_type": "display_data"
    }
   ],
   "source": [
    "r = pynumdiff.utils.simulate.__dict__[problem](timeseries_length, noise_parameters=[0, noise], dt=dt)\n",
    "x, x_truth, dxdt_truth, _ = r\n",
    "t = np.linspace(0, timeseries_length, len(x))\n",
    "\n",
    "# define problem\n",
    "dt = 0.01\n",
    "noise = 0.5\n",
    "timeseries_length = 4\n",
    "cutoff_freq = 2\n",
    "problem = 'lorenz_x'\n",
    "\n",
    "# define limits\n",
    "xlimits = {#'data': [0,4],\n",
    "           #'pos': [0,4],\n",
    "           'vel': [0,4],\n",
    "           #'spectra': [1e-2,1e2],\n",
    "           'pareto': [5e-1, 1e2]}\n",
    "ylimits = {#'data': [-1.2,2],\n",
    "           #'pos': [-1.2,2],\n",
    "           'vel': [-10, 10],\n",
    "           #'spectra': [1e-3,1e1],\n",
    "           'pareto': [0, 1]}\n",
    "\n",
    "xticks = {#'data': [0,2,4],\n",
    "           #'pos': [0,2,4],\n",
    "           'vel': [0,2,4],\n",
    "           #'spectra': [1e-2, 1e-1, 1e0, 1e1, 1e2],\n",
    "           'pareto': [1e0, 1e1, 1e2]}\n",
    "yticks = {#'data': [-1, 0, 1, 2],\n",
    "           #'pos': [-1, 0, 1, 2],\n",
    "           'vel': [-10, -5, 0, 5, 10],\n",
    "           #'spectra': [1e-3,1e-2, 1e-1, 1e0, 1e1],\n",
    "           'pareto': [0, 1]}\n",
    "\n",
    "go_overlay('none', dt, noise, timeseries_length, cutoff_freq, problem, method_parent, method, \n",
    "   xlimits, ylimits, xticks, yticks, read_existing=read_existing)"
   ]
  },
  {
   "cell_type": "code",
   "execution_count": null,
   "metadata": {},
   "outputs": [],
   "source": []
  },
  {
   "cell_type": "code",
   "execution_count": null,
   "metadata": {},
   "outputs": [],
   "source": []
  }
 ],
 "metadata": {
  "kernelspec": {
   "display_name": "Python 3",
   "language": "python",
   "name": "python3"
  },
  "language_info": {
   "codemirror_mode": {
    "name": "ipython",
    "version": 3
   },
   "file_extension": ".py",
   "mimetype": "text/x-python",
   "name": "python",
   "nbconvert_exporter": "python",
   "pygments_lexer": "ipython3",
   "version": "3.5.2"
  }
 },
 "nbformat": 4,
 "nbformat_minor": 2
}
