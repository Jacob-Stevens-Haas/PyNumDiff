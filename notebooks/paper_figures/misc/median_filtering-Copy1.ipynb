{
 "cells": [
  {
   "cell_type": "code",
   "execution_count": 1,
   "metadata": {},
   "outputs": [],
   "source": [
    "import numpy as np\n",
    "import matplotlib.pyplot as plt\n",
    "from scipy.ndimage.interpolation import rotate\n",
    "\n"
   ]
  },
  {
   "cell_type": "code",
   "execution_count": null,
   "metadata": {},
   "outputs": [],
   "source": []
  },
  {
   "cell_type": "markdown",
   "metadata": {},
   "source": [
    "# Naive one dimensional case\n",
    "with noise"
   ]
  },
  {
   "cell_type": "code",
   "execution_count": 2,
   "metadata": {},
   "outputs": [],
   "source": [
    "num_pixels_x = 100\n",
    "a_x = np.linspace(-np.pi/2, np.pi/2, num_pixels_x)"
   ]
  },
  {
   "cell_type": "code",
   "execution_count": 3,
   "metadata": {},
   "outputs": [],
   "source": [
    "accel = 1\n",
    "v1 = 3\n",
    "d1 = 3\n",
    "dt = 0.05"
   ]
  },
  {
   "cell_type": "code",
   "execution_count": 4,
   "metadata": {},
   "outputs": [],
   "source": [
    "v2 = v1 + accel*dt\n",
    "d2 = d1 + v2*dt"
   ]
  },
  {
   "cell_type": "code",
   "execution_count": 5,
   "metadata": {},
   "outputs": [],
   "source": [
    "noise = 0.02\n",
    "\n",
    "alphadot1_x = v1/d1*(np.sin(a_x)*np.cos(a_x)) + np.random.normal(0, noise, a_x.shape)\n",
    "alphadot2_x = v2/d2*(np.sin(a_x)*np.cos(a_x)) + np.random.normal(0, noise, a_x.shape)"
   ]
  },
  {
   "cell_type": "code",
   "execution_count": 6,
   "metadata": {},
   "outputs": [
    {
     "data": {
      "text/plain": [
       "[<matplotlib.lines.Line2D at 0x7fc464da2c50>]"
      ]
     },
     "execution_count": 6,
     "metadata": {},
     "output_type": "execute_result"
    },
    {
     "data": {
      "image/png": "[encoded data removed]",
      "text/plain": [
       "<Figure size 432x288 with 1 Axes>"
      ]
     },
     "metadata": {},
     "output_type": "display_data"
    }
   ],
   "source": [
    "plt.plot(a_x, alphadot1_x)\n",
    "plt.plot(a_x, alphadot2_x)"
   ]
  },
  {
   "cell_type": "code",
   "execution_count": 7,
   "metadata": {},
   "outputs": [],
   "source": [
    "r1 = alphadot1_x / (np.sin(a_x)*np.cos(a_x))\n",
    "r2 = alphadot2_x / (np.sin(a_x)*np.cos(a_x))"
   ]
  },
  {
   "cell_type": "code",
   "execution_count": 8,
   "metadata": {},
   "outputs": [],
   "source": [
    "rdot = (r2-r1) / dt"
   ]
  },
  {
   "cell_type": "code",
   "execution_count": 9,
   "metadata": {},
   "outputs": [],
   "source": [
    "r = np.mean([r1, r2], axis=0)\n",
    "v_over_a_x = r / (r**2 + rdot)"
   ]
  },
  {
   "cell_type": "code",
   "execution_count": 10,
   "metadata": {},
   "outputs": [
    {
     "name": "stdout",
     "output_type": "stream",
     "text": [
      "vel / accel =  -1.5787220809994034\n",
      "vel / accel =  0.11301660431165658\n",
      "should be:  3.025\n"
     ]
    }
   ],
   "source": [
    "print('vel / accel = ', np.mean(v_over_a_x))\n",
    "print('vel / accel = ', np.median(v_over_a_x))\n",
    "print('should be: ', np.mean([v1, v2]))"
   ]
  },
  {
   "cell_type": "markdown",
   "metadata": {},
   "source": [
    "# Mean\n",
    "Doesn't work\n",
    "Take the mean of r before calculating the derivative"
   ]
  },
  {
   "cell_type": "code",
   "execution_count": 11,
   "metadata": {},
   "outputs": [],
   "source": [
    "r1 = np.mean(alphadot1_x / (np.sin(a_x)*np.cos(a_x)))\n",
    "r2 = np.mean(alphadot2_x / (np.sin(a_x)*np.cos(a_x)))"
   ]
  },
  {
   "cell_type": "code",
   "execution_count": 12,
   "metadata": {},
   "outputs": [],
   "source": [
    "rdot = (r2-r1) / dt"
   ]
  },
  {
   "cell_type": "code",
   "execution_count": 13,
   "metadata": {},
   "outputs": [],
   "source": [
    "r = np.mean([r1, r2], axis=0)\n",
    "v_over_a_x = r / (r**2 + rdot)"
   ]
  },
  {
   "cell_type": "code",
   "execution_count": 14,
   "metadata": {
    "scrolled": true
   },
   "outputs": [
    {
     "name": "stdout",
     "output_type": "stream",
     "text": [
      "vel / accel =  -3.6996036207244115e-13\n",
      "should be:  3.025\n"
     ]
    }
   ],
   "source": [
    "print('vel / accel = ', v_over_a_x)\n",
    "print('should be: ', np.mean([v1, v2]))"
   ]
  },
  {
   "cell_type": "code",
   "execution_count": null,
   "metadata": {},
   "outputs": [],
   "source": []
  },
  {
   "cell_type": "markdown",
   "metadata": {},
   "source": [
    "# Median\n",
    "Works much better\n",
    "Take the mean of r before calculating the derivative"
   ]
  },
  {
   "cell_type": "code",
   "execution_count": 15,
   "metadata": {},
   "outputs": [],
   "source": [
    "r1 = np.median(alphadot1_x / (np.sin(a_x)*np.cos(a_x)))\n",
    "r2 = np.median(alphadot2_x / (np.sin(a_x)*np.cos(a_x)))"
   ]
  },
  {
   "cell_type": "code",
   "execution_count": 16,
   "metadata": {},
   "outputs": [],
   "source": [
    "rdot = (r2-r1) / dt"
   ]
  },
  {
   "cell_type": "code",
   "execution_count": 17,
   "metadata": {},
   "outputs": [],
   "source": [
    "r = np.mean([r1, r2], axis=0)\n",
    "v_over_a_x = r / (r**2 + rdot)"
   ]
  },
  {
   "cell_type": "code",
   "execution_count": 18,
   "metadata": {
    "scrolled": true
   },
   "outputs": [
    {
     "name": "stdout",
     "output_type": "stream",
     "text": [
      "vel / accel =  4.906088692613301\n",
      "should be:  3.025\n"
     ]
    }
   ],
   "source": [
    "print('vel / accel = ', v_over_a_x)\n",
    "print('should be: ', np.mean([v1, v2]))"
   ]
  },
  {
   "cell_type": "code",
   "execution_count": null,
   "metadata": {},
   "outputs": [],
   "source": []
  },
  {
   "cell_type": "code",
   "execution_count": null,
   "metadata": {},
   "outputs": [],
   "source": []
  },
  {
   "cell_type": "code",
   "execution_count": null,
   "metadata": {},
   "outputs": [],
   "source": []
  },
  {
   "cell_type": "markdown",
   "metadata": {},
   "source": [
    "# Now in 2D"
   ]
  },
  {
   "cell_type": "code",
   "execution_count": null,
   "metadata": {},
   "outputs": [],
   "source": []
  },
  {
   "cell_type": "code",
   "execution_count": 73,
   "metadata": {},
   "outputs": [],
   "source": [
    "num_pixels_x = 60\n",
    "num_pixels_y = 40"
   ]
  },
  {
   "cell_type": "code",
   "execution_count": 74,
   "metadata": {},
   "outputs": [
    {
     "data": {
      "text/plain": [
       "<matplotlib.image.AxesImage at 0x7fc460b2e240>"
      ]
     },
     "execution_count": 74,
     "metadata": {},
     "output_type": "execute_result"
    },
    {
     "data": {
      "image/png": "[encoded data removed]",
      "text/plain": [
       "<Figure size 432x288 with 1 Axes>"
      ]
     },
     "metadata": {},
     "output_type": "display_data"
    }
   ],
   "source": [
    "a_x = np.vstack([np.linspace(-np.pi/2, np.pi/2, num_pixels_x)]*num_pixels_y)\n",
    "plt.imshow(a_x, cmap='seismic', origin='lower')"
   ]
  },
  {
   "cell_type": "code",
   "execution_count": 75,
   "metadata": {},
   "outputs": [
    {
     "data": {
      "text/plain": [
       "<matplotlib.image.AxesImage at 0x7fc460b66128>"
      ]
     },
     "execution_count": 75,
     "metadata": {},
     "output_type": "execute_result"
    },
    {
     "data": {
      "image/png": "[encoded data removed]",
      "text/plain": [
       "<Figure size 432x288 with 1 Axes>"
      ]
     },
     "metadata": {},
     "output_type": "display_data"
    }
   ],
   "source": [
    "a_y = np.vstack([np.linspace(-np.pi/2, np.pi/2, num_pixels_y)]*num_pixels_x).T\n",
    "plt.imshow(a_y, cmap='seismic', origin='lower')"
   ]
  },
  {
   "cell_type": "code",
   "execution_count": 76,
   "metadata": {},
   "outputs": [],
   "source": [
    "noise = 0.05"
   ]
  },
  {
   "cell_type": "code",
   "execution_count": 77,
   "metadata": {},
   "outputs": [],
   "source": [
    "alphadot1_x = v1/d1*(np.sin(a_x)*np.cos(a_x)) + np.random.normal(0, noise, a_x.shape)\n",
    "alphadot1_y = v1/d1*(np.sin(a_y)*np.cos(a_y)) + np.random.normal(0, noise, a_x.shape)"
   ]
  },
  {
   "cell_type": "code",
   "execution_count": 78,
   "metadata": {},
   "outputs": [],
   "source": [
    "alphadot2_x = v2/d2*(np.sin(a_x)*np.cos(a_x)) + np.random.normal(0, noise, a_x.shape)\n",
    "alphadot2_y = v2/d2*(np.sin(a_y)*np.cos(a_y)) + np.random.normal(0, noise, a_x.shape)"
   ]
  },
  {
   "cell_type": "code",
   "execution_count": 79,
   "metadata": {},
   "outputs": [
    {
     "data": {
      "text/plain": [
       "<matplotlib.colorbar.Colorbar at 0x7fc460a3a0b8>"
      ]
     },
     "execution_count": 79,
     "metadata": {},
     "output_type": "execute_result"
    },
    {
     "data": {
      "image/png": "[encoded data removed]",
      "text/plain": [
       "<Figure size 1080x360 with 6 Axes>"
      ]
     },
     "metadata": {},
     "output_type": "display_data"
    }
   ],
   "source": [
    "fig = plt.figure(figsize=(15,5))\n",
    "ax = fig.add_subplot(1,3,1)\n",
    "a1 = ax.imshow(alphadot1_x)\n",
    "ax.set_xlabel('alpha')\n",
    "ax.set_ylabel('alphadot 1, x direction')\n",
    "fig.colorbar(a1, ax=ax)\n",
    "\n",
    "ax = fig.add_subplot(1,3,2)\n",
    "a2 = ax.imshow(alphadot2_x)\n",
    "ax.set_xlabel('alpha')\n",
    "ax.set_ylabel('alphadot 2, x direction')\n",
    "fig.colorbar(a1, ax=ax)\n",
    "\n",
    "ax = fig.add_subplot(1,3,3)\n",
    "a3 = ax.imshow(alphadot2_x - alphadot1_x)\n",
    "ax.set_xlabel('alpha')\n",
    "ax.set_ylabel('d/dt alphadot, x direction')\n",
    "fig.colorbar(a3, ax=ax)"
   ]
  },
  {
   "cell_type": "markdown",
   "metadata": {},
   "source": [
    "# Along the horizontal"
   ]
  },
  {
   "cell_type": "code",
   "execution_count": 80,
   "metadata": {},
   "outputs": [],
   "source": [
    "midx = int(a_x.shape[0]/2)\n",
    "alphadot1_x0 = alphadot1_x[midx, :]\n",
    "alphadot2_x0 = alphadot2_x[midx, :]"
   ]
  },
  {
   "cell_type": "code",
   "execution_count": 81,
   "metadata": {},
   "outputs": [
    {
     "data": {
      "text/plain": [
       "[<matplotlib.lines.Line2D at 0x7fc460b3e2e8>]"
      ]
     },
     "execution_count": 81,
     "metadata": {},
     "output_type": "execute_result"
    },
    {
     "data": {
      "image/png": "[encoded data removed]",
      "text/plain": [
       "<Figure size 432x288 with 1 Axes>"
      ]
     },
     "metadata": {},
     "output_type": "display_data"
    }
   ],
   "source": [
    "plt.plot(alphadot1_x0)\n",
    "plt.plot(alphadot2_x0)"
   ]
  },
  {
   "cell_type": "code",
   "execution_count": 82,
   "metadata": {},
   "outputs": [],
   "source": [
    "r1 = np.nanmedian(alphadot1_x0 / (np.sin(a_x[0,:])*np.cos(a_x[0,:])))\n",
    "r2 = np.nanmedian(alphadot2_x0 / (np.sin(a_x[0,:])*np.cos(a_x[0,:])))"
   ]
  },
  {
   "cell_type": "code",
   "execution_count": 83,
   "metadata": {},
   "outputs": [],
   "source": [
    "rdot = (r2-r1) / dt"
   ]
  },
  {
   "cell_type": "code",
   "execution_count": 84,
   "metadata": {},
   "outputs": [],
   "source": [
    "r = np.mean([r1, r2], axis=0)\n",
    "v_over_a_x = r / (r**2 + rdot)"
   ]
  },
  {
   "cell_type": "code",
   "execution_count": 85,
   "metadata": {
    "scrolled": true
   },
   "outputs": [
    {
     "name": "stdout",
     "output_type": "stream",
     "text": [
      "vel / accel =  0.8593756556289153\n",
      "should be:  3.025\n"
     ]
    }
   ],
   "source": [
    "print('vel / accel = ', v_over_a_x)\n",
    "print('should be: ', np.mean([v1, v2]))"
   ]
  },
  {
   "cell_type": "markdown",
   "metadata": {},
   "source": [
    "# Along the vertical"
   ]
  },
  {
   "cell_type": "code",
   "execution_count": 86,
   "metadata": {},
   "outputs": [],
   "source": [
    "midy = int(a_x.shape[1]/2)\n",
    "alphadot1_y0 = alphadot1_y[:, midy]\n",
    "alphadot2_y0 = alphadot2_y[:, midy]"
   ]
  },
  {
   "cell_type": "code",
   "execution_count": 87,
   "metadata": {},
   "outputs": [
    {
     "data": {
      "text/plain": [
       "[<matplotlib.lines.Line2D at 0x7fc4609de898>]"
      ]
     },
     "execution_count": 87,
     "metadata": {},
     "output_type": "execute_result"
    },
    {
     "data": {
      "image/png": "[encoded data removed]",
      "text/plain": [
       "<Figure size 432x288 with 1 Axes>"
      ]
     },
     "metadata": {},
     "output_type": "display_data"
    }
   ],
   "source": [
    "plt.plot(alphadot1_y0)\n",
    "plt.plot(alphadot2_y0)"
   ]
  },
  {
   "cell_type": "code",
   "execution_count": 88,
   "metadata": {},
   "outputs": [],
   "source": [
    "r1 = np.nanmedian(alphadot1_y0 / (np.sin(a_y[:,0])*np.cos(a_y[:,0])))\n",
    "r2 = np.nanmedian(alphadot2_y0 / (np.sin(a_y[:,0])*np.cos(a_y[:,0])))"
   ]
  },
  {
   "cell_type": "code",
   "execution_count": 89,
   "metadata": {},
   "outputs": [],
   "source": [
    "rdot = (r2-r1) / dt"
   ]
  },
  {
   "cell_type": "code",
   "execution_count": 90,
   "metadata": {},
   "outputs": [],
   "source": [
    "r = np.mean([r1, r2], axis=0)\n",
    "v_over_a_x = r / (r**2 + rdot)"
   ]
  },
  {
   "cell_type": "code",
   "execution_count": 91,
   "metadata": {
    "scrolled": true
   },
   "outputs": [
    {
     "name": "stdout",
     "output_type": "stream",
     "text": [
      "vel / accel =  -1.8407120344357428\n",
      "should be:  3.025\n"
     ]
    }
   ],
   "source": [
    "print('vel / accel = ', v_over_a_x)\n",
    "print('should be: ', np.mean([v1, v2]))"
   ]
  },
  {
   "cell_type": "code",
   "execution_count": null,
   "metadata": {},
   "outputs": [],
   "source": []
  },
  {
   "cell_type": "markdown",
   "metadata": {},
   "source": [
    "# Now generalize.. along any line that goes through the center of expansion"
   ]
  },
  {
   "cell_type": "code",
   "execution_count": 92,
   "metadata": {},
   "outputs": [],
   "source": [
    "def get_alphadot_transect(angle, a_x, a_y, alphadot_x, alphadot_y): # angle in degrees\n",
    "    rotated_alphadot_x = rotate(alphadot_x, angle=angle)\n",
    "    rotated_a_x = rotate(a_x, angle=angle)\n",
    "    \n",
    "    r1 = np.median(alphadot1_x0[0, :] / (np.sin(a_x[0,:])*np.cos(a_x[0,:])))\n",
    "    r2 = np.median(alphadot2_x0[0, :] / (np.sin(a_x[0,:])*np.cos(a_x[0,:])))"
   ]
  },
  {
   "cell_type": "code",
   "execution_count": 93,
   "metadata": {},
   "outputs": [],
   "source": [
    "def get_rx_for_transect_at_angle(angle, a_x, alphadot_x):\n",
    "    rotated_alphadot_x = rotate(alphadot_x, angle=angle, cval=np.nan)\n",
    "    rotated_a_x = rotate(a_x, angle=angle, cval=np.nan)\n",
    "\n",
    "    midx = int(rotated_a_x.shape[0]/2)\n",
    "\n",
    "    rx = np.nanmedian(rotated_alphadot_x[midx, :] / (np.sin(rotated_a_x[midx,:])*np.cos(rotated_a_x[midx,:])))\n",
    "    \n",
    "    return rx\n",
    "\n",
    "\n",
    "def get_ry_for_transect_at_angle(angle, a_y, alphadot_y):\n",
    "    rotated_alphadot_y = rotate(alphadot_y, angle=angle, cval=np.nan)\n",
    "    rotated_a_y = rotate(a_y, angle=angle, cval=np.nan)\n",
    "\n",
    "    midy = int(rotated_a_y.shape[1]/2)\n",
    "\n",
    "    ry = np.nanmedian(rotated_alphadot_y[midy, :] / (np.sin(rotated_a_y[midy, :])*np.cos(rotated_a_y[midy, :])))\n",
    "    \n",
    "    return ry"
   ]
  },
  {
   "cell_type": "code",
   "execution_count": 94,
   "metadata": {},
   "outputs": [],
   "source": [
    "def get_v_over_a_for_angle(angle, a_x, a_y, alphadot1_x, alphadot2_x, alphadot1_y, alphadot2_y):\n",
    "    r1x = get_rx_for_transect_at_angle(angle, a_x, alphadot1_x)\n",
    "    r2x = get_rx_for_transect_at_angle(angle, a_x, alphadot2_x)\n",
    "\n",
    "    r1y = get_rx_for_transect_at_angle(angle, a_y, alphadot1_y)\n",
    "    r2y = get_rx_for_transect_at_angle(angle, a_y, alphadot2_y)\n",
    "\n",
    "    rdotx = (r2x-r1x) / dt\n",
    "    rdoty = (r2y-r1y) / dt\n",
    "\n",
    "    rx = np.mean([r1x, r2x], axis=0)\n",
    "    v_over_a_x = rx / (rx**2 + rdotx)\n",
    "\n",
    "    ry = np.mean([r1y, r2y], axis=0)\n",
    "    v_over_a_y = ry / (ry**2 + rdoty)\n",
    "\n",
    "    return np.max([v_over_a_x, v_over_a_y])"
   ]
  },
  {
   "cell_type": "code",
   "execution_count": 95,
   "metadata": {},
   "outputs": [],
   "source": [
    "values = []\n",
    "angles = np.linspace(0, 360, 50).astype(float)\n",
    "\n",
    "for angle in angles:\n",
    "    values.append(get_v_over_a_for_angle(angle, a_x, a_y, alphadot1_x, alphadot2_x, alphadot1_y, alphadot2_y))"
   ]
  },
  {
   "cell_type": "code",
   "execution_count": 96,
   "metadata": {},
   "outputs": [
    {
     "data": {
      "text/plain": [
       "1.533172748274854"
      ]
     },
     "execution_count": 96,
     "metadata": {},
     "output_type": "execute_result"
    }
   ],
   "source": [
    "np.median(values)"
   ]
  },
  {
   "cell_type": "code",
   "execution_count": null,
   "metadata": {},
   "outputs": [],
   "source": []
  },
  {
   "cell_type": "code",
   "execution_count": null,
   "metadata": {},
   "outputs": [],
   "source": []
  },
  {
   "cell_type": "code",
   "execution_count": null,
   "metadata": {},
   "outputs": [],
   "source": []
  },
  {
   "cell_type": "code",
   "execution_count": null,
   "metadata": {},
   "outputs": [],
   "source": []
  }
 ],
 "metadata": {
  "kernelspec": {
   "display_name": "Python 3",
   "language": "python",
   "name": "python3"
  },
  "language_info": {
   "codemirror_mode": {
    "name": "ipython",
    "version": 3
   },
   "file_extension": ".py",
   "mimetype": "text/x-python",
   "name": "python",
   "nbconvert_exporter": "python",
   "pygments_lexer": "ipython3",
   "version": "3.5.2"
  }
 },
 "nbformat": 4,
 "nbformat_minor": 2
}
