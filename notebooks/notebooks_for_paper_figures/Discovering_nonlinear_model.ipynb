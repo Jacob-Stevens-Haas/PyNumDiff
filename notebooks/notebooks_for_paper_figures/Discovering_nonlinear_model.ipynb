{
 "cells": [
  {
   "cell_type": "code",
   "execution_count": 1,
   "metadata": {},
   "outputs": [],
   "source": [
    "import pynumdiff\n",
    "simulate = pynumdiff.utils.simulate\n",
    "evaluate = pynumdiff.utils.evaluate\n",
    "import matplotlib.pyplot as plt\n",
    "import numpy as np\n",
    "import figurefirst"
   ]
  },
  {
   "cell_type": "code",
   "execution_count": 2,
   "metadata": {},
   "outputs": [],
   "source": [
    "# simulation parameters\n",
    "\n",
    "# noise is generated using np.random, e.g. np.random.normal, np.random.uniform, np.random.poisson\n",
    "# noise_type and noise_parameters should be compatible with np.random functions \n",
    "noise_type = 'normal'\n",
    "noise_parameters = [0, 0.2]\n",
    "\n",
    "# time step and time series length\n",
    "dt = 0.01\n",
    "timeseries_length = 4 # steps"
   ]
  },
  {
   "cell_type": "markdown",
   "metadata": {},
   "source": [
    "# Compare nonlinear model to un-augmented methods"
   ]
  },
  {
   "cell_type": "code",
   "execution_count": 3,
   "metadata": {},
   "outputs": [],
   "source": [
    "def plot_comparison(ax_dxdt, noise_level, optimize=True):\n",
    "    # simulate\n",
    "    X, X_truth, _ = simulate.rk4_lorenz_xyz( dt=dt,\n",
    "                                         timeseries_length=timeseries_length,\n",
    "                                         noise_type=noise_type, \n",
    "                                         noise_parameters=[0, noise_level]) \n",
    "    x,y,z = X\n",
    "    dxdt_truth = np.ravel(X_truth[3,:])\n",
    "    x_truth = np.ravel(X_truth[0,:])\n",
    "    \n",
    "    t = np.arange(0,len(dxdt_truth))*dt\n",
    "    \n",
    "    # nonlinearmodel\n",
    "    params = [1, 1e-6, 1e-1, 20]\n",
    "    library = [x, y, z, x**2, y**2, z**2, x*y, x*z, y*z, np.sin(x), np.sin(y), np.sin(z)]\n",
    "    x_hat, dxdt_hat = pynumdiff.augmented_data.linearmodel(x, library, dt, params, options={'smooth': True})\n",
    "    ax_dxdt.plot(t, dxdt_hat, color='red')\n",
    "    ax_dxdt.plot(t, dxdt_truth, '--', color='black')\n",
    "    \n",
    "    rms_rec_x, rms_x, rms_model = evaluate.metrics(x, dt, x_hat, dxdt_hat, x_truth, dxdt_truth)\n",
    "    print('RMS error in velocity: ', rms_model)\n",
    "    \n",
    "    # TVRj\n",
    "    if optimize:\n",
    "        params, val = pynumdiff.optimize.total_variation_regularization.jerk(x, dt, params=None, \n",
    "                                                                         tvgamma=0,\n",
    "                                                                        dxdt_truth=dxdt_truth)\n",
    "    else:\n",
    "        params = [31]\n",
    "    print('TVRj Optimal parameters: ', params)\n",
    "    x_hat, dxdt_hat = pynumdiff.total_variation_regularization.jerk(x, dt, params)\n",
    "    ax_dxdt.plot(t, dxdt_hat, color='purple', zorder=-5)\n",
    "    \n",
    "    rms_rec_x, rms_x, rms_tvrj = evaluate.metrics(x, dt, x_hat, dxdt_hat, x_truth, dxdt_truth)\n",
    "    print('RMS error in velocity: ', rms_tvrj)\n",
    "    \n",
    "    # SavGolDiff\n",
    "    if optimize:\n",
    "        params, val = pynumdiff.optimize.linear_model.savgoldiff(x, dt, params=None, options={'smooth': True}, \n",
    "                                                                 tvgamma=0,\n",
    "                                                                 dxdt_truth=dxdt_truth)\n",
    "    else:\n",
    "        params = [3, 22]\n",
    "    print('SavGolDiff Optimal parameters: ', params)\n",
    "    x_hat, dxdt_hat = pynumdiff.linear_model.savgoldiff(x, dt, params, options={'smooth': True})\n",
    "    ax_dxdt.plot(t, dxdt_hat, color='blue', zorder=-10)\n",
    "    \n",
    "    rms_rec_x, rms_x, rms_savgol = evaluate.metrics(x, dt, x_hat, dxdt_hat, x_truth, dxdt_truth)\n",
    "    print('RMS error in velocity: ', rms_savgol)\n",
    "    print('--------------')\n",
    "    \n",
    "    return rms_model, rms_tvrj, rms_savgol"
   ]
  },
  {
   "cell_type": "code",
   "execution_count": 4,
   "metadata": {},
   "outputs": [
    {
     "name": "stdout",
     "output_type": "stream",
     "text": [
      "RMS error in velocity:  0.7864475254453618\n",
      "TVRj Optimal parameters:  [5.129500000000007]\n",
      "RMS error in velocity:  0.83861756481418\n",
      "SavGolDiff Optimal parameters:  [3, 16]\n",
      "RMS error in velocity:  0.9181611759656779\n",
      "--------------\n",
      "RMS error in velocity:  0.9072111108613246\n",
      "TVRj Optimal parameters:  [41.4459228515625]\n",
      "RMS error in velocity:  1.4738999860113442\n",
      "SavGolDiff Optimal parameters:  [3, 21]\n",
      "RMS error in velocity:  1.3350094710003182\n",
      "--------------\n",
      "RMS error in velocity:  1.6210407031797749\n",
      "TVRj Optimal parameters:  [375.0244140625]\n",
      "RMS error in velocity:  2.2894714708546187\n",
      "SavGolDiff Optimal parameters:  [2, 22]\n",
      "RMS error in velocity:  2.1197860415062877\n",
      "--------------\n"
     ]
    },
    {
     "data": {
      "image/png": "[encoded data removed]",
      "text/plain": [
       "<Figure size 360x126 with 6 Axes>"
      ]
     },
     "metadata": {},
     "output_type": "display_data"
    }
   ],
   "source": [
    "noise_levels = [0.1, 0.2, 0.5]\n",
    "\n",
    "fig = plt.figure(figsize=(5,1.75))\n",
    "plt.subplots_adjust(top=0.7, bottom=0.2)\n",
    "xlim = [0, 4]\n",
    "ylim=[-10, 10]\n",
    "spines=['left','bottom']\n",
    "\n",
    "for i in range(len(noise_levels)):\n",
    "    ax_dxdt = fig.add_subplot(1,len(noise_levels), i+1)\n",
    "    rms_model, rms_tvrj, rms_savgol = plot_comparison(ax_dxdt, noise_levels[i])\n",
    "    \n",
    "    # format plot\n",
    "    t = np.arange(0,int(timeseries_length/dt))*dt\n",
    "    if xlim is None:\n",
    "        xlim = [0, t[-1]]\n",
    "    \n",
    "    if i == 0:\n",
    "        ticklabels = ['left', 'bottom']\n",
    "    else:\n",
    "        ticklabels = []\n",
    "        \n",
    "    ax_dxdt.set_xlim(xlim[0], xlim[-1])\n",
    "    ax_dxdt.set_ylim(ylim[0], ylim[-1])\n",
    "        \n",
    "    xticks = [0, 1, 2, 3, 4]\n",
    "    yticks = [-10, 0, 10]\n",
    "    spine_locations = {spine: 6 for spine in spines}\n",
    "    figurefirst.mpl_functions.adjust_spines(ax_dxdt, spines, xticks=xticks, yticks=yticks, spine_locations=spine_locations, tick_length=2.5, linewidth=0.5)\n",
    "\n",
    "    if 'left' not in ticklabels:\n",
    "        ax_dxdt.set_yticklabels(['', '', '', '', ''])\n",
    "    else:\n",
    "        ax_dxdt.set_yticklabels([str(ylim[0]), '', str(ylim[-1])])\n",
    "        ax_dxdt.set_ylabel('Velocity')\n",
    "        ax_dxdt.yaxis.labelpad = -9\n",
    "\n",
    "    if 'bottom' not in ticklabels:\n",
    "        ax_dxdt.set_xticklabels(['', '', '', '', ''])\n",
    "    else:\n",
    "        ax_dxdt.set_xticklabels(['0', '', '', '', '4'])\n",
    "        ax_dxdt.set_xlabel('Time')\n",
    "        ax_dxdt.xaxis.labelpad = -3.5\n",
    "\n",
    "    \n",
    "    \n",
    "    # plot errors\n",
    "    ax = fig.add_axes([0.25+i*0.27, 0.7, 0.1, 0.2])\n",
    "    ax.bar(0, rms_model, width=0.8, color='red')\n",
    "    ax.bar(1, rms_tvrj, width=0.8, color='purple')\n",
    "    ax.bar(2, rms_savgol, width=0.8, color='blue')\n",
    "    ax.set_ylim(0,3)\n",
    "    figurefirst.mpl_functions.adjust_spines(ax, ['left', 'bottom'], xticks=[0,1,2], yticks=[0, 1, 2, 3], \n",
    "                                            spine_locations= {spine: 3 for spine in ['left', 'bottom']}, \n",
    "                                            tick_length=2.5, linewidth=0.5)\n",
    "    ax.set_xticklabels(['','',''])\n",
    "    if i == 0:\n",
    "        ax.set_ylabel('RMS error\\nin velocity')\n",
    "    \n",
    "figurefirst.mpl_functions.set_fontsize(ax_dxdt.figure, 6)\n",
    "#plt.tight_layout()\n",
    "    \n",
    "fig.savefig('../figures/fig_augmenteddata_nonlinearmodel.pdf')"
   ]
  },
  {
   "cell_type": "markdown",
   "metadata": {},
   "source": [
    "# Plot noisy x position"
   ]
  },
  {
   "cell_type": "code",
   "execution_count": 5,
   "metadata": {},
   "outputs": [
    {
     "data": {
      "image/png": "[encoded data removed]",
      "text/plain": [
       "<Figure size 360x108 with 3 Axes>"
      ]
     },
     "metadata": {},
     "output_type": "display_data"
    }
   ],
   "source": [
    "noise_levels = [0.1, 0.2, 0.5]\n",
    "\n",
    "fig = plt.figure(figsize=(5,1.5))\n",
    "xlim = [0, 4]\n",
    "ylim=[-1, 1]\n",
    "spines=['left','bottom']\n",
    "\n",
    "for i in range(len(noise_levels)):\n",
    "    ax_x = fig.add_subplot(1,len(noise_levels), i+1)\n",
    "    # simulate\n",
    "    X, X_truth, _ = simulate.rk4_lorenz_xyz( dt=dt,\n",
    "                                         timeseries_length=timeseries_length,\n",
    "                                         noise_type=noise_type, \n",
    "                                         noise_parameters=[0, noise_levels[i]]) \n",
    "    x,y,z = X\n",
    "    dxdt_truth = np.ravel(X_truth[3,:])\n",
    "    x_truth = np.ravel(X_truth[0,:])\n",
    "    t = np.arange(0,len(dxdt_truth))*dt\n",
    "    \n",
    "    ax_x.plot(t, x, 'o', color='blue', zorder=-100, markersize=0.5)\n",
    "    ax_x.plot(t, x_truth, '--', color='black', linewidth=0.5)\n",
    "    \n",
    "    # format plot\n",
    "    t = np.arange(0,len(dxdt_truth))*dt\n",
    "    if xlim is None:\n",
    "        xlim = [0, t[-1]]\n",
    "    \n",
    "    if i == 0:\n",
    "        ticklabels = ['left', 'bottom']\n",
    "    else:\n",
    "        ticklabels = []\n",
    "        \n",
    "    ax_x.set_xlim(xlim[0], xlim[-1])\n",
    "    ax_x.set_ylim(ylim[0], ylim[-1])\n",
    "        \n",
    "    xticks = [0, 1, 2, 3, 4]\n",
    "    yticks = [-1, 0, 1]\n",
    "    spine_locations = {spine: 6 for spine in spines}\n",
    "    figurefirst.mpl_functions.adjust_spines(ax_x, spines, xticks=xticks, yticks=yticks, spine_locations=spine_locations, tick_length=2.5, linewidth=0.5)\n",
    "\n",
    "    if 'left' not in ticklabels:\n",
    "        ax_x.set_yticklabels(['', '', '', '', ''])\n",
    "    else:\n",
    "        ax_x.set_yticklabels([str(ylim[0]), '', str(ylim[-1])])\n",
    "        ax_x.set_ylabel('Velocity')\n",
    "        ax_x.yaxis.labelpad = -9\n",
    "\n",
    "    if 'bottom' not in ticklabels:\n",
    "        ax_x.set_xticklabels(['', '', '', '', ''])\n",
    "    else:\n",
    "        ax_x.set_xticklabels(['0', '', '', '', '4'])\n",
    "        ax_x.set_xlabel('Time')\n",
    "        ax_x.xaxis.labelpad = -3.5\n",
    "\n",
    "    figurefirst.mpl_functions.set_fontsize(ax_x.figure, 6)\n",
    "    plt.tight_layout()\n",
    "    \n",
    "fig.savefig('../figures/fig_augmenteddata_nonlinearmodel_pos.pdf')"
   ]
  },
  {
   "cell_type": "code",
   "execution_count": null,
   "metadata": {},
   "outputs": [],
   "source": []
  },
  {
   "cell_type": "code",
   "execution_count": null,
   "metadata": {},
   "outputs": [],
   "source": []
  }
 ],
 "metadata": {
  "kernelspec": {
   "display_name": "Python 3",
   "language": "python",
   "name": "python3"
  },
  "language_info": {
   "codemirror_mode": {
    "name": "ipython",
    "version": 3
   },
   "file_extension": ".py",
   "mimetype": "text/x-python",
   "name": "python",
   "nbconvert_exporter": "python",
   "pygments_lexer": "ipython3",
   "version": "3.5.2"
  }
 },
 "nbformat": 4,
 "nbformat_minor": 2
}
