{
 "cells": [
  {
   "cell_type": "code",
   "execution_count": 1,
   "metadata": {},
   "outputs": [
    {
     "name": "stderr",
     "output_type": "stream",
     "text": [
      "/home/caveman/BMD2/lib/python3.5/site-packages/tensorflow/python/framework/dtypes.py:523: FutureWarning: Passing (type, 1) or '1type' as a synonym of type is deprecated; in a future version of numpy, it will be understood as (type, (1,)) / '(1,)type'.\n",
      "  _np_qint8 = np.dtype([(\"qint8\", np.int8, 1)])\n",
      "/home/caveman/BMD2/lib/python3.5/site-packages/tensorflow/python/framework/dtypes.py:524: FutureWarning: Passing (type, 1) or '1type' as a synonym of type is deprecated; in a future version of numpy, it will be understood as (type, (1,)) / '(1,)type'.\n",
      "  _np_quint8 = np.dtype([(\"quint8\", np.uint8, 1)])\n",
      "/home/caveman/BMD2/lib/python3.5/site-packages/tensorflow/python/framework/dtypes.py:525: FutureWarning: Passing (type, 1) or '1type' as a synonym of type is deprecated; in a future version of numpy, it will be understood as (type, (1,)) / '(1,)type'.\n",
      "  _np_qint16 = np.dtype([(\"qint16\", np.int16, 1)])\n",
      "/home/caveman/BMD2/lib/python3.5/site-packages/tensorflow/python/framework/dtypes.py:526: FutureWarning: Passing (type, 1) or '1type' as a synonym of type is deprecated; in a future version of numpy, it will be understood as (type, (1,)) / '(1,)type'.\n",
      "  _np_quint16 = np.dtype([(\"quint16\", np.uint16, 1)])\n",
      "/home/caveman/BMD2/lib/python3.5/site-packages/tensorflow/python/framework/dtypes.py:527: FutureWarning: Passing (type, 1) or '1type' as a synonym of type is deprecated; in a future version of numpy, it will be understood as (type, (1,)) / '(1,)type'.\n",
      "  _np_qint32 = np.dtype([(\"qint32\", np.int32, 1)])\n",
      "/home/caveman/BMD2/lib/python3.5/site-packages/tensorflow/python/framework/dtypes.py:532: FutureWarning: Passing (type, 1) or '1type' as a synonym of type is deprecated; in a future version of numpy, it will be understood as (type, (1,)) / '(1,)type'.\n",
      "  np_resource = np.dtype([(\"resource\", np.ubyte, 1)])\n"
     ]
    }
   ],
   "source": [
    "import pynumdiff\n",
    "import matplotlib.pyplot as plt\n",
    "import numpy as np\n",
    "import scipy.integrate\n",
    "scipy.stats\n",
    "import copy"
   ]
  },
  {
   "cell_type": "code",
   "execution_count": 76,
   "metadata": {},
   "outputs": [],
   "source": [
    "import statsmodels.api as sm\n",
    "from statsmodels.formula.api import ols\n",
    "import pandas"
   ]
  },
  {
   "cell_type": "code",
   "execution_count": null,
   "metadata": {},
   "outputs": [],
   "source": []
  },
  {
   "cell_type": "code",
   "execution_count": null,
   "metadata": {},
   "outputs": [],
   "source": []
  },
  {
   "cell_type": "code",
   "execution_count": 2,
   "metadata": {},
   "outputs": [],
   "source": [
    "dt = 0.01\n",
    "xyz, xyz_dxyzdt_truth, extras = pynumdiff.utils.simulate.rk4_lorenz_xyz(4, dt=dt, noise_parameters=[0, 0.0001])"
   ]
  },
  {
   "cell_type": "code",
   "execution_count": 77,
   "metadata": {},
   "outputs": [],
   "source": [
    "def get_library(x, y, z, dt, integrations=0):\n",
    "    \n",
    "    base_library = [x, y, z, x**2, y**2, z**2, x*y, x*z, y*z, \n",
    "                    np.sin(x), np.sin(y), np.sin(z),\n",
    "                    np.cos(x), np.cos(y), np.cos(z),\n",
    "                    np.sin(2*x), np.sin(2*y), np.sin(2*z),\n",
    "                    np.cos(2*x), np.cos(2*y), np.cos(2*z),\n",
    "                    x**3, y**3, z**3, x**2*y, x**2*z, y**2*x, y**2*z, z**2*x, z**2*y,\n",
    "                    x**5, y**5, z**5, x**4*y, x**4*z, y**4*x, y**4*z, z**4*x, z**4*y,\n",
    "                    np.sin(4*x), np.sin(4*y), np.sin(4*z),\n",
    "                    np.cos(4*x), np.cos(4*y), np.cos(4*z),\n",
    "                    np.cos(4*x+0.5), np.cos(4*y+0.5), np.cos(4*z+0.5),\n",
    "                    x**6, y**6, z**6, x**5*y, x**5*z, y**5*x, y**5*z, z**5*x, z**5*y,\n",
    "                    np.sin(3*x), np.sin(3*y), np.sin(3*z),\n",
    "                    np.cos(3*x), np.cos(3*y), np.cos(3*z),\n",
    "                    np.sin(5*x), np.sin(5*y), np.sin(5*z),\n",
    "                    np.cos(5*x), np.cos(5*y), np.cos(5*z),]\n",
    "    \n",
    "    return base_library"
   ]
  },
  {
   "cell_type": "code",
   "execution_count": 80,
   "metadata": {},
   "outputs": [],
   "source": [
    "def integrate(x, dt):\n",
    "    y = scipy.integrate.cumtrapz( x )*dt\n",
    "    y = np.hstack((y[0]-x[0]*dt, y))\n",
    "    return y\n",
    "\n",
    "def integrate_library(library, dt):\n",
    "    library = [integrate(l, dt) for l in library]\n",
    "    library.append(np.ones_like(library[0]))\n",
    "    return library"
   ]
  },
  {
   "cell_type": "code",
   "execution_count": 81,
   "metadata": {},
   "outputs": [],
   "source": [
    "def get_coeff_correlations(phi, state, lib):\n",
    "    rvals = []\n",
    "    for i in range(phi.shape[1]):\n",
    "        p = copy.copy(phi)\n",
    "        p[0,i] = 0\n",
    "        r = scipy.stats.linregress(np.ravel(p*lib), np.ravel(state.T))\n",
    "        rvals.append (r.rvalue)\n",
    "    return rvals"
   ]
  },
  {
   "cell_type": "code",
   "execution_count": 348,
   "metadata": {},
   "outputs": [],
   "source": [
    "def integral_sindy(states, library, dt, eps=1e-1, pval=1e-2, num_iter=10):\n",
    "    '''\n",
    "    states  - list of 1d arrays of time-series data\n",
    "    library - \n",
    "    \n",
    "    \n",
    "    dx/dt = phi*library\n",
    "    \n",
    "    this function solves the integral formulation \n",
    "    \n",
    "    \n",
    "    Returns\n",
    "    -------\n",
    "    \n",
    "    phis - list of arrays, one for each state, an array of coefficients corresponding to the library\n",
    "    \n",
    "    '''\n",
    "    integral_library = integrate_library(library, dt)\n",
    "    \n",
    "    int_lib = np.matrix(np.vstack(integral_library))\n",
    "    \n",
    "    \n",
    "    phis_for_states = []\n",
    "    idxs_for_states = []\n",
    "    for N, state in enumerate(states):\n",
    "\n",
    "        state = np.matrix(state)\n",
    "        num_iter = 20\n",
    "\n",
    "        threshold = eps*10**(-1*int(num_iter/2))\n",
    "        idx = np.arange(0,int_lib.shape[0])\n",
    "        lib_idx = np.ones(int_lib.shape[0]).astype(int)\n",
    "        for i in range(num_iter):\n",
    "            if threshold < eps:\n",
    "                threshold *= 10\n",
    "            phi0 = state*np.linalg.pinv(np.matrix(np.diag(lib_idx))*int_lib)\n",
    "            idx = np.where(np.abs(np.array(phi0)[0,:])<threshold)[0]\n",
    "            lib_idx[idx] = 0\n",
    "            phi0[:, idx] = 0\n",
    "\n",
    "        phi0 = np.ravel(phi0)\n",
    "        phi0[-1] = 0 # throw out the intercept\n",
    "        original_indices = np.arange(0, len(integral_library))\n",
    "        idx = np.where(np.abs(phi0)>threshold)[0]\n",
    "\n",
    "        select_integral_library = integral_library\n",
    "\n",
    "        for i in range(2):\n",
    "            select_integral_library = [select_integral_library[i] for i in idx]\n",
    "            original_indices = [original_indices[i] for i in idx]\n",
    "            df = pandas.DataFrame(np.vstack(select_integral_library).T, columns=['input_'+str(i) for i in range(len(select_integral_library))])\n",
    "            df['state'] = np.ravel(state)\n",
    "\n",
    "            inputs = ''.join([k+'+' for k in df.keys()[0:-1]])[0:-1]\n",
    "            mod = ols('state ~ ' + inputs,\n",
    "                            data=df).fit()\n",
    "            \n",
    "            idx = np.where( (mod.pvalues[1:]<pval) )[0]\n",
    "\n",
    "        select_integral_library = [select_integral_library[i] for i in idx]\n",
    "        original_indices = [original_indices[i] for i in idx]\n",
    "        phi0 = mod.params[1:]\n",
    "\n",
    "        phis_for_states.append(phi0)\n",
    "        idxs_for_states.append(original_indices)\n",
    "    \n",
    "    return idxs_for_states, phis_for_states, mod.rsquared_adj"
   ]
  },
  {
   "cell_type": "code",
   "execution_count": 355,
   "metadata": {},
   "outputs": [
    {
     "name": "stdout",
     "output_type": "stream",
     "text": [
      "0.9985801842910986\n"
     ]
    }
   ],
   "source": [
    "dt = 0.01\n",
    "xyz, xyz_dxyzdt_truth, extras = pynumdiff.utils.simulate.rk4_lorenz_xyz(4, dt=dt, noise_parameters=[0, 0.5],\n",
    "                                                                       normalize=False)\n",
    "states = [np.ravel(xyz[s,:]) for s in range(xyz.shape[0])]\n",
    "library = get_library(states[0], states[1], states[2], dt)\n",
    "idxs_for_states, phis_for_states, r_squared = integral_sindy(states, library, dt, \n",
    "                                                             eps=1e-2, pval=.00001)\n",
    "print(r_squared)"
   ]
  },
  {
   "cell_type": "code",
   "execution_count": 356,
   "metadata": {},
   "outputs": [
    {
     "data": {
      "text/plain": [
       "[input_0   -10.165296\n",
       " input_1    10.094793\n",
       " dtype: float64, input_0    45.782941\n",
       " input_1    -1.201987\n",
       " input_2    -1.011818\n",
       " dtype: float64, input_0   -2.658416\n",
       " input_1    1.002893\n",
       " dtype: float64]"
      ]
     },
     "execution_count": 356,
     "metadata": {},
     "output_type": "execute_result"
    }
   ],
   "source": [
    "phis_for_states"
   ]
  },
  {
   "cell_type": "code",
   "execution_count": 357,
   "metadata": {},
   "outputs": [
    {
     "data": {
      "text/plain": [
       "[[0, 1], [0, 1, 7], [2, 6]]"
      ]
     },
     "execution_count": 357,
     "metadata": {},
     "output_type": "execute_result"
    }
   ],
   "source": [
    "idxs_for_states"
   ]
  },
  {
   "cell_type": "code",
   "execution_count": 358,
   "metadata": {},
   "outputs": [],
   "source": [
    "integral_library = integrate_library(library, dt)"
   ]
  },
  {
   "cell_type": "code",
   "execution_count": 359,
   "metadata": {},
   "outputs": [],
   "source": [
    "P = np.matrix(phis_for_states[0])\n",
    "L = np.matrix(np.array(integral_library)[idxs_for_states[0]])"
   ]
  },
  {
   "cell_type": "code",
   "execution_count": 360,
   "metadata": {},
   "outputs": [
    {
     "data": {
      "text/plain": [
       "[<matplotlib.lines.Line2D at 0x7f6e15db2f28>]"
      ]
     },
     "execution_count": 360,
     "metadata": {},
     "output_type": "execute_result"
    },
    {
     "data": {
      "image/png": "[encoded data removed]",
      "text/plain": [
       "<Figure size 432x288 with 1 Axes>"
      ]
     },
     "metadata": {},
     "output_type": "display_data"
    }
   ],
   "source": [
    "plt.plot((P*L).T)\n",
    "plt.plot(states[0])"
   ]
  },
  {
   "cell_type": "code",
   "execution_count": null,
   "metadata": {},
   "outputs": [],
   "source": []
  },
  {
   "cell_type": "code",
   "execution_count": null,
   "metadata": {},
   "outputs": [],
   "source": []
  },
  {
   "cell_type": "code",
   "execution_count": 361,
   "metadata": {},
   "outputs": [
    {
     "data": {
      "text/plain": [
       "[<matplotlib.lines.Line2D at 0x7f6e15db4f98>]"
      ]
     },
     "execution_count": 361,
     "metadata": {},
     "output_type": "execute_result"
    },
    {
     "data": {
      "image/png": "[encoded data removed]",
      "text/plain": [
       "<Figure size 432x288 with 1 Axes>"
      ]
     },
     "metadata": {},
     "output_type": "display_data"
    }
   ],
   "source": [
    "plt.plot(xyz_dxyzdt_truth[3])\n",
    "\n",
    "P = np.matrix(phis_for_states[0])\n",
    "L = np.matrix(np.array(library)[idxs_for_states[0]])\n",
    "\n",
    "plt.plot(np.ravel(P*L))"
   ]
  }
 ],
 "metadata": {
  "kernelspec": {
   "display_name": "Python 3",
   "language": "python",
   "name": "python3"
  },
  "language_info": {
   "codemirror_mode": {
    "name": "ipython",
    "version": 3
   },
   "file_extension": ".py",
   "mimetype": "text/x-python",
   "name": "python",
   "nbconvert_exporter": "python",
   "pygments_lexer": "ipython3",
   "version": "3.5.2"
  }
 },
 "nbformat": 4,
 "nbformat_minor": 2
}
