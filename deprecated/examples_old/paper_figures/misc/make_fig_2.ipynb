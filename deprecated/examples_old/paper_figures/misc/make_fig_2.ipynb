{
 "cells": [
  {
   "cell_type": "code",
   "execution_count": 123,
   "metadata": {},
   "outputs": [],
   "source": [
    "import numpy as np\n",
    "import matplotlib.pyplot as plt\n",
    "import pickle\n",
    "import os\n",
    "import pandas\n",
    "import pynumdiff\n",
    "import scipy.fftpack\n",
    "from IPython.display import display,SVG\n",
    "import figurefirst\n",
    "fifi = figurefirst\n",
    "\n",
    "import copy"
   ]
  },
  {
   "cell_type": "code",
   "execution_count": 124,
   "metadata": {},
   "outputs": [],
   "source": [
    "import run_pareto_plot"
   ]
  },
  {
   "cell_type": "code",
   "execution_count": 140,
   "metadata": {},
   "outputs": [],
   "source": [
    "def get_gamma(dt, freq, timeseries_length=None):\n",
    "    try:\n",
    "        if dt == 0.1:\n",
    "            log_g = np.log(freq)*(-1.5) -4\n",
    "        if dt == 0.01:\n",
    "            log_g = np.log(freq)*(-1.5) -1.8\n",
    "        if dt == 0.001:\n",
    "            log_g = np.log(freq)*(-1.5) -0.5\n",
    "            \n",
    "        return np.exp(log_g)\n",
    "    \n",
    "    except:\n",
    "        log_gs = []\n",
    "        for f in freq:\n",
    "            if dt == 0.1:\n",
    "                log_gs.append(np.log(freq)*(-1.5) -4) \n",
    "            if dt == 0.01:\n",
    "                log_gs.append(np.log(freq)*(-1.5) -1.8) \n",
    "            if dt == 0.001:\n",
    "                log_gs.append(np.log(freq)*(-1.5) -0.5) \n",
    "            \n",
    "        return np.exp(np.array(log_gs))\n",
    "            \n"
   ]
  },
  {
   "cell_type": "code",
   "execution_count": 141,
   "metadata": {},
   "outputs": [],
   "source": [
    "def load_data(fname):\n",
    "    f = open(fname, 'rb')\n",
    "    data = pickle.load(f)\n",
    "    f.close()\n",
    "    return data"
   ]
  },
  {
   "cell_type": "code",
   "execution_count": 142,
   "metadata": {},
   "outputs": [],
   "source": [
    "def get_goldilocks_gamma(data):\n",
    "    rmses = data['rmses_gamma']\n",
    "    errcorrs = data['errcorrs_gamma']\n",
    "\n",
    "    threshold = 0.25\n",
    "    while len(np.where(errcorrs<threshold)[0]) < 1:\n",
    "        threshold += 0.05\n",
    "        \n",
    "    idx_errcorr_okay = np.where(errcorrs<threshold)\n",
    "\n",
    "    idx_opt =  idx_errcorr_okay[0][np.argmin(rmses[idx_errcorr_okay])]\n",
    "\n",
    "    opt_rmse = rmses[idx_opt]\n",
    "    opt_errcorr = errcorrs[idx_opt]\n",
    "    \n",
    "    return data['metadata']['gammas'][idx_opt], opt_rmse, opt_errcorr, idx_opt\n",
    "\n",
    "def plot_direct_goldilocks_gamma(ax, data, color):\n",
    "    goldgamma, opt_rmse, opt_errcorr, idx_opt = get_goldilocks_gamma(data)\n",
    "\n",
    "    print('goldilocks gamma: ', goldgamma)\n",
    "    print('goldilocks rmse and errcorr: ', opt_rmse, opt_errcorr)\n",
    "    print('opt params: ', data['metadata']['params'][idx_opt])\n",
    "    \n",
    "    ax.plot(opt_rmse, opt_errcorr, '*', color=color, markersize=20, markeredgecolor='black')\n",
    "    \n",
    "    #ax.set_xlim(1e-1, 1e2)"
   ]
  },
  {
   "cell_type": "code",
   "execution_count": 143,
   "metadata": {},
   "outputs": [],
   "source": [
    "def plot_xdots(ax, data, x, dxdt_truth, t, color):\n",
    "    idx_best = np.argmin(data['rmses'])\n",
    "    params = run_pareto_plot.get_params_for_method('savgoldiff', 'linear_model')\n",
    "    print('best params: ', params[idx_best])\n",
    "    x_hat, xdot_hat = pynumdiff.linear_model.savgoldiff(x, dt, params[idx_best])\n",
    "    ax.plot(t, xdot_hat, color='gray', linewidth=4, zorder=-10, alpha=0.5)\n",
    "    \n",
    "    \n",
    "    goldgamma, _, _, goldidx = get_goldilocks_gamma(data)\n",
    "    params = data['metadata']['params']\n",
    "    print('goldilocks gamma params: ', params[goldidx])\n",
    "    x_hat, xdot_hat = pynumdiff.linear_model.savgoldiff(x, dt, params[goldidx])\n",
    "    ax.plot(t, xdot_hat, color=color, linewidth=1, zorder=-5)\n",
    "    \n",
    "    ax.plot(t, dxdt_truth, '--', color='black', zorder=-1, linewidth=0.5)\n",
    "    \n",
    "    ax.set_rasterization_zorder(0)"
   ]
  },
  {
   "cell_type": "code",
   "execution_count": 129,
   "metadata": {},
   "outputs": [],
   "source": [
    "def plot_example(example, x, x_truth, dxdt_truth, t, color, data, xlimits, ylimits, xticks, yticks):\n",
    "    layout = fifi.svg_to_axes.FigureLayout(figure_layout, autogenlayers=True, \n",
    "                                       make_mplfigures=True, hide_layers=[])\n",
    "\n",
    "    \n",
    "    ax_pareto = layout.axes[(example, 'pareto')]\n",
    "    ax_pos = layout.axes[(example, 'sine')]\n",
    "    ax_vel = layout.axes[(example, 'vel')]\n",
    "    \n",
    "    ax_pos.plot(t, x, '.', color='blue', zorder=-10, markersize=2)\n",
    "    ax_pos.set_rasterization_zorder(0)\n",
    "    ax_pos.plot(t, x_truth, '--', color='black', linewidth=0.5)\n",
    "    \n",
    "    plot_xdots(ax_vel, data, x, dxdt_truth, t, color)\n",
    "    \n",
    "    ax_pareto.plot((data['rmses']), data['errcorrs'], '.', color='gray', zorder=-10, markersize=2)\n",
    "    try:\n",
    "        ax_pareto.set_rasterization_zorder(0)\n",
    "    except:\n",
    "        print('could not rasterize')\n",
    "        \n",
    "    ax_pareto.plot((data['rmses_gamma']), data['errcorrs_gamma'], '.', color=color, zorder=1, markersize=2)\n",
    "    ax_pareto.plot((data['rmses_gamma']), data['errcorrs_gamma'], '-', color=color)\n",
    "    plot_direct_goldilocks_gamma(ax_pareto, data, color)\n",
    "    \n",
    "    ax_pos.set_xlim(xlimits['pos'][0], xlimits['pos'][-1])\n",
    "    ax_pos.set_ylim(ylimits['pos'][0], ylimits['pos'][-1])\n",
    "    \n",
    "    ax_vel.set_xlim(xlimits['vel'][0], xlimits['vel'][-1])\n",
    "    ax_vel.set_ylim(ylimits['vel'][0], ylimits['vel'][-1])\n",
    "    \n",
    "    if example == 'freq_1':\n",
    "        fifi.mpl_functions.adjust_spines(ax_pos, ['left'], \n",
    "                                     xticks=xticks['pos'], \n",
    "                                     yticks=yticks['pos'],\n",
    "                                     tick_length=2.5,\n",
    "                                     spine_locations={'left': 4, 'bottom': 4})\n",
    "        fifi.mpl_functions.adjust_spines(ax_vel, ['left', 'bottom'], \n",
    "                                     xticks=xticks['vel'], \n",
    "                                     yticks=yticks['vel'],\n",
    "                                     tick_length=2.5,\n",
    "                                     spine_locations={'left': 4, 'bottom': 4})\n",
    "    else:\n",
    "        fifi.mpl_functions.adjust_spines(ax_pos, ['left'], \n",
    "                                     xticks=xticks['pos'],\n",
    "                                     yticks=yticks['pos'],\n",
    "                                     tick_length=2.5,\n",
    "                                     spine_locations={'left': 4, 'bottom': 4})\n",
    "        fifi.mpl_functions.adjust_spines(ax_vel, ['left', 'bottom'], \n",
    "                                     xticks=xticks['vel'], \n",
    "                                     yticks=yticks['vel'],\n",
    "                                     tick_length=2.5,\n",
    "                                     spine_locations={'left': 4, 'bottom': 4})\n",
    "        \n",
    "    exp = int(np.log10(yticks['vel'][-1]))\n",
    "    ax_vel.set_yticklabels(['$-10^{'+str(exp)+'}$', '$0$', '$10^{'+str(exp)+'}$'])\n",
    "        \n",
    "    ax_pareto.set_xscale('log')\n",
    "    ax_pareto.minorticks_off()\n",
    "    ax_pareto.set_xlim(xlimits['pareto'][0], xlimits['pareto'][1])\n",
    "    ax_pareto.set_ylim(ylimits['pareto'][0], ylimits['pareto'][1])\n",
    "    \n",
    "    if example == 'freq_1':\n",
    "        fifi.mpl_functions.adjust_spines(ax_pareto, ['left', 'bottom'], \n",
    "                                         xticks=xticks['pareto'], \n",
    "                                         yticks=yticks['pareto'],\n",
    "                                         tick_length=2.5,\n",
    "                                         spine_locations={'left': 4, 'bottom': 4})\n",
    "    else:\n",
    "        fifi.mpl_functions.adjust_spines(ax_pareto, ['bottom'], \n",
    "                                         xticks=xticks['pareto'], \n",
    "                                         tick_length=2.5,\n",
    "                                         spine_locations={'bottom': 4})\n",
    "    \n",
    "    fifi.mpl_functions.set_fontsize(ax_pareto, 6)\n",
    "\n",
    "    layout.append_figure_to_layer(layout.figures[example], example, cleartarget=True)\n",
    "    layout.write_svg(figure_layout)"
   ]
  },
  {
   "cell_type": "code",
   "execution_count": 130,
   "metadata": {},
   "outputs": [],
   "source": [
    "figure_layout = 'fig_2.svg'"
   ]
  },
  {
   "cell_type": "code",
   "execution_count": 131,
   "metadata": {},
   "outputs": [
    {
     "name": "stdout",
     "output_type": "stream",
     "text": [
      "done simulating\n",
      "pareto_specific_sine_freq_data_varpadding/pareto_data_savgoldiff_linear_model_sine_1_0.5_0.01_4_auto.pickle\n",
      "best params:  [8, 177, 4]\n",
      "goldilocks gamma params:  [10, 32, 33]\n",
      "goldilocks gamma:  0.08858667904100838\n",
      "goldilocks rmse and errcorr:  1.4015676863716802 0.08347298277381841\n",
      "opt params:  [10, 32, 33]\n"
     ]
    },
    {
     "name": "stderr",
     "output_type": "stream",
     "text": [
      "/home/caveman/BMD2/lib/python3.5/site-packages/scipy-1.1.0-py3.5-linux-x86_64.egg/scipy/signal/_arraytools.py:45: FutureWarning: Using a non-tuple sequence for multidimensional indexing is deprecated; use `arr[tuple(seq)]` instead of `arr[seq]`. In the future this will be interpreted as an array index, `arr[np.array(seq)]`, which will result either in an error or a different result.\n",
      "  b = a[a_slice]\n"
     ]
    },
    {
     "name": "stdout",
     "output_type": "stream",
     "text": [
      "Better RMSE than % randos: 88.12260536398468%\n",
      "Better Err Corr than % randos: 75.27823389892355%\n"
     ]
    },
    {
     "name": "stderr",
     "output_type": "stream",
     "text": [
      "/home/caveman/BMD2/lib/python3.5/site-packages/matplotlib-2.2.2-py3.5-linux-x86_64.egg/matplotlib/axis.py:1086: UserWarning: Unable to find pixel distance along axis for interval padding of ticks; assuming no interval padding needed.\n",
      "  warnings.warn(\"Unable to find pixel distance along axis \"\n"
     ]
    },
    {
     "data": {
      "image/png": "[encoded data removed]",
      "text/plain": [
       "<Figure size 595.276x841.89 with 3 Axes>"
      ]
     },
     "metadata": {},
     "output_type": "display_data"
    },
    {
     "data": {
      "image/png": "[encoded data removed]",
      "text/plain": [
       "<Figure size 595.276x841.89 with 3 Axes>"
      ]
     },
     "metadata": {},
     "output_type": "display_data"
    },
    {
     "data": {
      "image/png": "[encoded data removed]",
      "text/plain": [
       "<Figure size 595.276x841.89 with 3 Axes>"
      ]
     },
     "metadata": {},
     "output_type": "display_data"
    },
    {
     "data": {
      "image/png": "[encoded data removed]",
      "text/plain": [
       "<Figure size 595.276x841.89 with 3 Axes>"
      ]
     },
     "metadata": {},
     "output_type": "display_data"
    },
    {
     "data": {
      "image/png": "[encoded data removed]",
      "text/plain": [
       "<Figure size 595.276x841.89 with 3 Axes>"
      ]
     },
     "metadata": {},
     "output_type": "display_data"
    },
    {
     "data": {
      "image/png": "[encoded data removed]",
      "text/plain": [
       "<Figure size 595.276x841.89 with 1 Axes>"
      ]
     },
     "metadata": {},
     "output_type": "display_data"
    }
   ],
   "source": [
    "# define problem\n",
    "example = 'freq_2'\n",
    "dt = 0.01\n",
    "noise = 0.5\n",
    "timeseries_length = 4\n",
    "problem = 'sine'\n",
    "freq = 1\n",
    "\n",
    "if timeseries_length < np.pi/freq:\n",
    "    raise ValueError()\n",
    "if dt > 1/freq/2.:\n",
    "    raise ValueError()\n",
    "    \n",
    "read_existing = True\n",
    "simdt = 0.0001\n",
    "color = 'dodgerblue'\n",
    "\n",
    "\n",
    "\n",
    "# define method\n",
    "method_parent = 'linear_model'\n",
    "method = 'savgoldiff'\n",
    "\n",
    "# define limits\n",
    "xlimits = {'pos': [0,4],\n",
    "           'vel': [0,4],\n",
    "           'pareto': [5e-1, 1e1]}\n",
    "ylimits = {'pos': [-0.2,2.2],\n",
    "           'vel': [-10, 10],\n",
    "           'pareto': [-.1, 1.1]}\n",
    "\n",
    "xticks = { 'pos': [0,2,4],\n",
    "           'vel': [0,2,4],\n",
    "           'pareto': [5e-1, 1e0, 1e1]}\n",
    "\n",
    "yticks = { 'pos': [0, 1, 2],\n",
    "           'vel': [-10, 0, 10],\n",
    "           'pareto': [0, 1]}\n",
    "\n",
    "r = pynumdiff.utils.simulate.sine(timeseries_length=timeseries_length, \n",
    "                                  noise_parameters=[0, noise], \n",
    "                                  dt=dt, \n",
    "                                  frequencies=[freq])\n",
    "\n",
    "x, x_truth, dxdt_truth, _ = r\n",
    "t = np.arange(0, timeseries_length, dt)\n",
    "print('done simulating')\n",
    "padding = 'auto'\n",
    "\n",
    "fname = run_pareto_plot.run_pareto_analysis_on_specific_sine(noise, dt, timeseries_length, problem, freq, method, method_parent, simdt=simdt, read_existing=read_existing, num_gammas=40, padding=padding)\n",
    "print(fname)\n",
    "data = load_data(fname)\n",
    "\n",
    "plot_example(example, x, x_truth, dxdt_truth, t, color, data, xlimits, ylimits, xticks, yticks) #0.0001_0.1_0.01_4_1\n",
    "\n",
    "freq_1_gg, opt_rmse, opt_errcorr, opt_idx = get_goldilocks_gamma(data)\n",
    "freq_1 = copy.copy(freq)\n",
    "freq_1_color = copy.copy(color)\n",
    "\n",
    "print('Better RMSE than % randos: ' + str(len(np.where( (opt_rmse<data['rmses']) )[0]) / len(data['rmses']) * 100) + '%')\n",
    "print('Better Err Corr than % randos: ' + str(len(np.where( (opt_errcorr<data['errcorrs']) )[0]) / len(data['errcorrs']) * 100) + '%')"
   ]
  },
  {
   "cell_type": "code",
   "execution_count": 119,
   "metadata": {},
   "outputs": [
    {
     "name": "stdout",
     "output_type": "stream",
     "text": [
      "done simulating\n",
      "pareto_specific_sine_freq_data_varpadding/pareto_data_savgoldiff_linear_model_sine_10_0.1_0.001_0.5_auto.pickle\n",
      "best params:  [8, 143, 2]\n",
      "goldilocks gamma params:  [3, 32, 16]\n",
      "goldilocks gamma:  0.033598182862837875\n",
      "goldilocks rmse and errcorr:  3.977439911554012 0.05500761613603217\n",
      "opt params:  [3, 32, 16]\n"
     ]
    },
    {
     "name": "stderr",
     "output_type": "stream",
     "text": [
      "/home/caveman/BMD2/lib/python3.5/site-packages/scipy-1.1.0-py3.5-linux-x86_64.egg/scipy/signal/_arraytools.py:45: FutureWarning: Using a non-tuple sequence for multidimensional indexing is deprecated; use `arr[tuple(seq)]` instead of `arr[seq]`. In the future this will be interpreted as an array index, `arr[np.array(seq)]`, which will result either in an error or a different result.\n",
      "  b = a[a_slice]\n",
      "/home/caveman/BMD2/lib/python3.5/site-packages/matplotlib-2.2.2-py3.5-linux-x86_64.egg/matplotlib/axes/_base.py:3129: UserWarning: Attempted to set non-positive xlimits for log-scale axis; invalid limits will be ignored.\n",
      "  'Attempted to set non-positive xlimits for log-scale axis; '\n"
     ]
    },
    {
     "name": "stdout",
     "output_type": "stream",
     "text": [
      "Better RMSE than % randos: 94.92793285896735%\n",
      "Better Err Corr than % randos: 83.37894544791097%\n"
     ]
    },
    {
     "data": {
      "image/png": "[encoded data removed]",
      "text/plain": [
       "<Figure size 595.276x841.89 with 3 Axes>"
      ]
     },
     "metadata": {},
     "output_type": "display_data"
    },
    {
     "data": {
      "image/png": "[encoded data removed]",
      "text/plain": [
       "<Figure size 595.276x841.89 with 3 Axes>"
      ]
     },
     "metadata": {},
     "output_type": "display_data"
    },
    {
     "data": {
      "image/png": "[encoded data removed]",
      "text/plain": [
       "<Figure size 595.276x841.89 with 3 Axes>"
      ]
     },
     "metadata": {},
     "output_type": "display_data"
    },
    {
     "data": {
      "image/png": "[encoded data removed]",
      "text/plain": [
       "<Figure size 595.276x841.89 with 3 Axes>"
      ]
     },
     "metadata": {},
     "output_type": "display_data"
    },
    {
     "data": {
      "image/png": "[encoded data removed]",
      "text/plain": [
       "<Figure size 595.276x841.89 with 3 Axes>"
      ]
     },
     "metadata": {},
     "output_type": "display_data"
    },
    {
     "data": {
      "image/png": "[encoded data removed]",
      "text/plain": [
       "<Figure size 595.276x841.89 with 1 Axes>"
      ]
     },
     "metadata": {},
     "output_type": "display_data"
    }
   ],
   "source": [
    "# define problem\n",
    "example = 'freq_3'\n",
    "dt = 0.001\n",
    "noise = 0.1\n",
    "timeseries_length = 0.5\n",
    "problem = 'sine'\n",
    "freq = 10\n",
    "\n",
    "\n",
    "if timeseries_length < np.pi/freq:\n",
    "    raise ValueError()\n",
    "if dt > 1/freq/2.:\n",
    "    raise ValueError()\n",
    "    \n",
    "read_existing = True\n",
    "simdt = 0.0001\n",
    "color = 'forestgreen'\n",
    "\n",
    "# define method\n",
    "method_parent = 'linear_model'\n",
    "method = 'savgoldiff'\n",
    "\n",
    "# define limits\n",
    "xlimits = {'pos': [0,0.5],\n",
    "           'vel': [0,0.5],\n",
    "           'pareto': [0, 1e2]}\n",
    "ylimits = {'pos': [-0.2,2.2],\n",
    "           'vel': [-100, 100],\n",
    "           'pareto': [-.1, 1.1]}\n",
    "\n",
    "xticks = { 'pos': [0,.25, 0.5],\n",
    "           'vel': [0,.25, 0.5],\n",
    "           'pareto': [1e0, 1e1, 1e2]}\n",
    "\n",
    "yticks = { 'pos': [0, 1, 2],\n",
    "           'vel': [-100, 0, 100],\n",
    "           'pareto': [0, 1]}\n",
    "\n",
    "r = pynumdiff.utils.simulate.sine(timeseries_length=timeseries_length, \n",
    "                                  noise_parameters=[0, noise], \n",
    "                                  dt=dt, \n",
    "                                  frequencies=[freq])\n",
    "\n",
    "x, x_truth, dxdt_truth, _ = r\n",
    "t = np.arange(0, timeseries_length, dt)\n",
    "print('done simulating')\n",
    "padding = 'auto'\n",
    "\n",
    "fname = run_pareto_plot.run_pareto_analysis_on_specific_sine(noise, dt, timeseries_length, problem, freq, method, method_parent, simdt=simdt, read_existing=read_existing, num_gammas=40, padding=padding)\n",
    "print(fname)\n",
    "data = load_data(fname)\n",
    "\n",
    "plot_example(example, x, x_truth, dxdt_truth, t, color, data, xlimits, ylimits, xticks, yticks)\n",
    "\n",
    "freq_2_gg, opt_rmse, opt_errcorr, opt_idx = get_goldilocks_gamma(data)\n",
    "freq_2 = copy.copy(freq)\n",
    "freq_2_color = copy.copy(color)\n",
    "\n",
    "print('Better RMSE than % randos: ' + str(len(np.where( (opt_rmse<data['rmses']) )[0]) / len(data['rmses']) * 100) + '%')\n",
    "print('Better Err Corr than % randos: ' + str(len(np.where( (opt_errcorr<data['errcorrs']) )[0]) / len(data['errcorrs']) * 100) + '%')"
   ]
  },
  {
   "cell_type": "code",
   "execution_count": 120,
   "metadata": {
    "scrolled": true
   },
   "outputs": [
    {
     "name": "stdout",
     "output_type": "stream",
     "text": [
      "done simulating\n",
      "pareto_specific_sine_freq_data_varpadding/pareto_data_savgoldiff_linear_model_sine_0.01_0.1_0.1_100_auto.pickle\n",
      "best params:  [5, 805, 31]\n",
      "goldilocks gamma params:  [1, 120, 55]\n",
      "goldilocks gamma:  78.47599703514625\n",
      "goldilocks rmse and errcorr:  0.003328879786912185 0.1471563328130401\n",
      "opt params:  [1, 120, 55]\n"
     ]
    },
    {
     "name": "stderr",
     "output_type": "stream",
     "text": [
      "/home/caveman/BMD2/lib/python3.5/site-packages/scipy-1.1.0-py3.5-linux-x86_64.egg/scipy/signal/_arraytools.py:45: FutureWarning: Using a non-tuple sequence for multidimensional indexing is deprecated; use `arr[tuple(seq)]` instead of `arr[seq]`. In the future this will be interpreted as an array index, `arr[np.array(seq)]`, which will result either in an error or a different result.\n",
      "  b = a[a_slice]\n"
     ]
    },
    {
     "name": "stdout",
     "output_type": "stream",
     "text": [
      "Better RMSE than % randos: 88.94362342638205%\n",
      "Better Err Corr than % randos: 43.56869184455391%\n"
     ]
    },
    {
     "data": {
      "image/png": "[encoded data removed]",
      "text/plain": [
       "<Figure size 595.276x841.89 with 3 Axes>"
      ]
     },
     "metadata": {},
     "output_type": "display_data"
    },
    {
     "data": {
      "image/png": "[encoded data removed]",
      "text/plain": [
       "<Figure size 595.276x841.89 with 3 Axes>"
      ]
     },
     "metadata": {},
     "output_type": "display_data"
    },
    {
     "data": {
      "image/png": "[encoded data removed]",
      "text/plain": [
       "<Figure size 595.276x841.89 with 3 Axes>"
      ]
     },
     "metadata": {},
     "output_type": "display_data"
    },
    {
     "data": {
      "image/png": "[encoded data removed]",
      "text/plain": [
       "<Figure size 595.276x841.89 with 3 Axes>"
      ]
     },
     "metadata": {},
     "output_type": "display_data"
    },
    {
     "data": {
      "image/png": "[encoded data removed]",
      "text/plain": [
       "<Figure size 595.276x841.89 with 3 Axes>"
      ]
     },
     "metadata": {},
     "output_type": "display_data"
    },
    {
     "data": {
      "image/png": "[encoded data removed]",
      "text/plain": [
       "<Figure size 595.276x841.89 with 1 Axes>"
      ]
     },
     "metadata": {},
     "output_type": "display_data"
    }
   ],
   "source": [
    "# define problem\n",
    "example = 'freq_1'\n",
    "dt = 0.1\n",
    "noise = 0.1\n",
    "timeseries_length = 100\n",
    "problem = 'sine'\n",
    "freq = 0.01\n",
    "\n",
    "\n",
    "if timeseries_length < 1/freq:\n",
    "    raise ValueError()\n",
    "if dt > 1/freq/2.:\n",
    "    raise ValueError()\n",
    "    \n",
    "read_existing = True\n",
    "simdt = 0.0001\n",
    "color = 'darkorchid'\n",
    "\n",
    "# define method\n",
    "method_parent = 'linear_model'\n",
    "method = 'savgoldiff'\n",
    "\n",
    "# define limits\n",
    "xlimits = {'pos': [0,100],\n",
    "           'vel': [0,100],\n",
    "           'pareto': [1e-3, 1e1]}\n",
    "ylimits = {'pos': [-0.2,2.2],\n",
    "           'vel': [-.1, .1],\n",
    "           'pareto': [-.1, 1.1]}\n",
    "\n",
    "xticks = { 'pos': [0, 50, 100],\n",
    "           'vel': [0, 50, 100],\n",
    "           'pareto': [1e-3, 1e-1, 1e1]}\n",
    "\n",
    "yticks = { 'pos': [0, 1, 2],\n",
    "           'vel': [-0.1, 0, 0.1],\n",
    "           'pareto': [0, 1]}\n",
    "\n",
    "r = pynumdiff.utils.simulate.sine(timeseries_length=timeseries_length, \n",
    "                                  noise_parameters=[0, noise], \n",
    "                                  dt=dt, \n",
    "                                  frequencies=[freq])\n",
    "\n",
    "x, x_truth, dxdt_truth, _ = r\n",
    "t = np.arange(0, timeseries_length, dt)\n",
    "print('done simulating')\n",
    "padding = 'auto'\n",
    "\n",
    "fname = run_pareto_plot.run_pareto_analysis_on_specific_sine(noise, dt, timeseries_length, problem, freq, method, method_parent, simdt=simdt, read_existing=read_existing, num_gammas=40, padding=padding)\n",
    "print(fname)\n",
    "data = load_data(fname)\n",
    "\n",
    "plot_example(example, x, x_truth, dxdt_truth, t, color, data, xlimits, ylimits, xticks, yticks)\n",
    "\n",
    "freq_3_gg, opt_rmse, opt_errcorr, opt_idx = get_goldilocks_gamma(data)\n",
    "freq_3 = copy.copy(freq)\n",
    "freq_3_color = copy.copy(color)\n",
    "\n",
    "print('Better RMSE than % randos: ' + str(len(np.where( (opt_rmse<data['rmses']) )[0]) / len(data['rmses']) * 100) + '%')\n",
    "print('Better Err Corr than % randos: ' + str(len(np.where( (opt_errcorr<data['errcorrs']) )[0]) / len(data['errcorrs']) * 100) + '%')"
   ]
  },
  {
   "cell_type": "code",
   "execution_count": 121,
   "metadata": {},
   "outputs": [
    {
     "name": "stdout",
     "output_type": "stream",
     "text": [
      "done simulating\n",
      "pareto_specific_sine_freq_data_varpadding/pareto_data_savgoldiff_linear_model_sine_100_0.1_0.001_0.05_auto.pickle\n",
      "best params:  [7, 16, 3]\n",
      "goldilocks gamma params:  [9, 13, 3]\n",
      "goldilocks gamma:  0.0018329807108324375\n",
      "goldilocks rmse and errcorr:  90.40117359692111 0.00475724191375546\n",
      "opt params:  [9, 13, 3]\n"
     ]
    },
    {
     "name": "stderr",
     "output_type": "stream",
     "text": [
      "/home/caveman/BMD2/lib/python3.5/site-packages/scipy-1.1.0-py3.5-linux-x86_64.egg/scipy/signal/_arraytools.py:45: FutureWarning: Using a non-tuple sequence for multidimensional indexing is deprecated; use `arr[tuple(seq)]` instead of `arr[seq]`. In the future this will be interpreted as an array index, `arr[np.array(seq)]`, which will result either in an error or a different result.\n",
      "  b = a[a_slice]\n"
     ]
    },
    {
     "name": "stdout",
     "output_type": "stream",
     "text": [
      "Better RMSE than % randos: 97.11731435869368%\n",
      "Better Err Corr than % randos: 99.41616493340632%\n"
     ]
    },
    {
     "data": {
      "image/png": "[encoded data removed]",
      "text/plain": [
       "<Figure size 595.276x841.89 with 3 Axes>"
      ]
     },
     "metadata": {},
     "output_type": "display_data"
    },
    {
     "data": {
      "image/png": "[encoded data removed]",
      "text/plain": [
       "<Figure size 595.276x841.89 with 3 Axes>"
      ]
     },
     "metadata": {},
     "output_type": "display_data"
    },
    {
     "data": {
      "image/png": "[encoded data removed]",
      "text/plain": [
       "<Figure size 595.276x841.89 with 3 Axes>"
      ]
     },
     "metadata": {},
     "output_type": "display_data"
    },
    {
     "data": {
      "image/png": "[encoded data removed]",
      "text/plain": [
       "<Figure size 595.276x841.89 with 3 Axes>"
      ]
     },
     "metadata": {},
     "output_type": "display_data"
    },
    {
     "data": {
      "image/png": "[encoded data removed]",
      "text/plain": [
       "<Figure size 595.276x841.89 with 3 Axes>"
      ]
     },
     "metadata": {},
     "output_type": "display_data"
    },
    {
     "data": {
      "image/png": "[encoded data removed]",
      "text/plain": [
       "<Figure size 595.276x841.89 with 1 Axes>"
      ]
     },
     "metadata": {},
     "output_type": "display_data"
    }
   ],
   "source": [
    "# define problem\n",
    "example = 'freq_4'\n",
    "noise = 0.1\n",
    "dt = 0.001\n",
    "timeseries_length = 0.05\n",
    "problem = 'sine'\n",
    "freq = 100\n",
    "\n",
    "\n",
    "if timeseries_length < np.pi/freq:\n",
    "    raise ValueError()\n",
    "if dt > 1/freq/2.:\n",
    "    raise ValueError()\n",
    "    \n",
    "read_existing = True\n",
    "simdt = 0.0001\n",
    "color = 'peru'\n",
    "\n",
    "# define method\n",
    "method_parent = 'linear_model'\n",
    "method = 'savgoldiff'\n",
    "\n",
    "# define method\n",
    "xlimits = {'pos': [0,0.05],\n",
    "           'vel': [0,0.05],\n",
    "           'pareto': [1e1, 1e3]}\n",
    "ylimits = {'pos': [-0.2,2.2],\n",
    "           'vel': [-1000, 1000],\n",
    "           'pareto': [-.1, 1.1]}\n",
    "\n",
    "xticks = { 'pos': [0, 0.025, 0.05],\n",
    "           'vel': [0, 0.025, 0.05],\n",
    "           'pareto': [1e1, 1e2, 1e3]}\n",
    "\n",
    "yticks = { 'pos': [0, 1, 2],\n",
    "           'vel': [-1000, 0, 1000],\n",
    "           'pareto': [0, 1]}\n",
    "\n",
    "r = pynumdiff.utils.simulate.sine(timeseries_length=timeseries_length, \n",
    "                                  noise_parameters=[0, noise], \n",
    "                                  dt=dt, \n",
    "                                  frequencies=[freq])\n",
    "x, x_truth, dxdt_truth, _ = r\n",
    "t = np.arange(0, timeseries_length, dt)\n",
    "print('done simulating')\n",
    "padding = 'auto'\n",
    "\n",
    "fname = run_pareto_plot.run_pareto_analysis_on_specific_sine(noise, dt, timeseries_length, problem, freq, method, method_parent, simdt=simdt, read_existing=read_existing, num_gammas=40, padding=padding)\n",
    "print(fname)\n",
    "data = load_data(fname)\n",
    "\n",
    "plot_example(example, x, x_truth, dxdt_truth, t, color, data, xlimits, ylimits, xticks, yticks)\n",
    "\n",
    "freq_4_gg, opt_rmse, opt_errcorr, opt_idx = get_goldilocks_gamma(data)\n",
    "freq_4 = copy.copy(freq)\n",
    "freq_4_color = copy.copy(color)\n",
    "\n",
    "print('Better RMSE than % randos: ' + str(len(np.where( (opt_rmse<data['rmses']) )[0]) / len(data['rmses']) * 100) + '%')\n",
    "print('Better Err Corr than % randos: ' + str(len(np.where( (opt_errcorr<data['errcorrs']) )[0]) / len(data['errcorrs']) * 100) + '%')"
   ]
  },
  {
   "cell_type": "code",
   "execution_count": 122,
   "metadata": {},
   "outputs": [],
   "source": [
    "# make freq plots"
   ]
  },
  {
   "cell_type": "code",
   "execution_count": 79,
   "metadata": {},
   "outputs": [],
   "source": [
    "def get_filenames(path, contains, does_not_contain=['~', '.pyc']):\n",
    "    cmd = 'ls ' + '\"' + path + '\"'\n",
    "    ls = os.popen(cmd).read()\n",
    "    all_filelist = ls.split('\\n')\n",
    "    try:\n",
    "        all_filelist.remove('')\n",
    "    except:\n",
    "        pass\n",
    "    filelist = []\n",
    "    for i, filename in enumerate(all_filelist):\n",
    "        if contains in filename:\n",
    "            fileok = True\n",
    "            for nc in does_not_contain:\n",
    "                if nc in filename:\n",
    "                    fileok = False\n",
    "            if fileok:\n",
    "                filelist.append( os.path.join(path, filename) )\n",
    "    return filelist"
   ]
  },
  {
   "cell_type": "code",
   "execution_count": 80,
   "metadata": {},
   "outputs": [],
   "source": [
    "def get_freq_dt_noise_for_files(dirname, method, method_parent):\n",
    "    filenames = get_filenames(dirname, method)\n",
    "    freqs = []\n",
    "    dt = []\n",
    "    noises = []\n",
    "    fnames = []\n",
    "    paddings = []\n",
    "    timeseries_length = []\n",
    "    goldgammas = []\n",
    "    \n",
    "    for fname in filenames:\n",
    "        data = load_data(fname)\n",
    "        if method == data['metadata']['method']:\n",
    "            if method_parent == data['metadata']['method_parent']:\n",
    "                try:\n",
    "                    freqs.append(data['metadata']['freq'])\n",
    "                except:\n",
    "                    freqs.append(None)\n",
    "                dt.append(data['metadata']['dt'])\n",
    "                noises.append(data['metadata']['noise'])\n",
    "                fnames.append(fname)\n",
    "                paddings.append(data['metadata']['padding'])\n",
    "                timeseries_length.append(data['metadata']['timeseries_length'])\n",
    "                goldgammas.append(get_goldilocks_gamma(data)[0])\n",
    "                \n",
    "        \n",
    "    df = pandas.DataFrame({'freq': freqs,\n",
    "                           'dt': dt,\n",
    "                           'noise': noises,\n",
    "                           'fname': fnames,\n",
    "                           'padding': paddings,\n",
    "                           'timeseries_length': timeseries_length,\n",
    "                           'goldgammas': goldgammas})\n",
    "    return df"
   ]
  },
  {
   "cell_type": "code",
   "execution_count": 132,
   "metadata": {},
   "outputs": [],
   "source": [
    "dirname = 'pareto_sine_freq_data_varpadding'\n",
    "method = 'savgoldiff'\n",
    "method_parent = 'linear_model'\n",
    "df = get_freq_dt_noise_for_files(dirname, method, method_parent)"
   ]
  },
  {
   "cell_type": "code",
   "execution_count": null,
   "metadata": {},
   "outputs": [],
   "source": []
  },
  {
   "cell_type": "code",
   "execution_count": 163,
   "metadata": {},
   "outputs": [
    {
     "data": {
      "text/plain": [
       "array([   4,  100, 1000,  500,   25,    1,    5])"
      ]
     },
     "execution_count": 163,
     "metadata": {},
     "output_type": "execute_result"
    }
   ],
   "source": [
    "df.timeseries_length.unique() "
   ]
  },
  {
   "cell_type": "code",
   "execution_count": 149,
   "metadata": {},
   "outputs": [],
   "source": [
    "def plot_gamma_vs_freq(ax, df, color, marker):\n",
    "    dfq = df[df.timeseries_length >= 1/df.freq]\n",
    "    dfq = dfq[dfq.dt <= 1/dfq.freq/2.]\n",
    "    print(len(dfq))\n",
    "          \n",
    "    ax.plot(dfq.freq.values + np.random.uniform(-.5, 0.5, len(dfq.freq.values))*np.abs(dfq.freq.values), \n",
    "            dfq.goldgammas.values + np.random.uniform(-0.5, 0.5, len(dfq.freq.values))*np.abs(dfq.goldgammas.values), \n",
    "            marker, color=color)\n",
    "    \n",
    "    dfq = df[df.timeseries_length < 1/df.freq]    \n",
    "    ax.plot(dfq.freq.values + np.random.uniform(-.5, 0.5, len(dfq.freq.values))*np.abs(dfq.freq.values), \n",
    "            dfq.goldgammas.values + np.random.uniform(-0.5, 0.5, len(dfq.freq.values))*np.abs(dfq.goldgammas.values), \n",
    "            '+', color=color)\n",
    "    \n",
    "    #dfq = dfq[dfq.dt > 1/dfq.freq/2.]\n",
    "    #ax.plot(dfq.freq.values + np.random.uniform(-.5, 0.5, len(dfq.freq.values))*np.abs(dfq.freq.values), \n",
    "    #        dfq.goldgammas.values + np.random.uniform(-0.5, 0.5, len(dfq.freq.values))*np.abs(dfq.goldgammas.values), \n",
    "    #        '+', color=color)"
   ]
  },
  {
   "cell_type": "code",
   "execution_count": 211,
   "metadata": {},
   "outputs": [
    {
     "name": "stdout",
     "output_type": "stream",
     "text": [
      "46\n",
      "38\n",
      "29\n"
     ]
    },
    {
     "data": {
      "image/png": "[encoded data removed]",
      "text/plain": [
       "<Figure size 595.276x841.89 with 3 Axes>"
      ]
     },
     "metadata": {},
     "output_type": "display_data"
    },
    {
     "data": {
      "image/png": "[encoded data removed]",
      "text/plain": [
       "<Figure size 595.276x841.89 with 3 Axes>"
      ]
     },
     "metadata": {},
     "output_type": "display_data"
    },
    {
     "data": {
      "image/png": "[encoded data removed]",
      "text/plain": [
       "<Figure size 595.276x841.89 with 3 Axes>"
      ]
     },
     "metadata": {},
     "output_type": "display_data"
    },
    {
     "data": {
      "image/png": "[encoded data removed]",
      "text/plain": [
       "<Figure size 595.276x841.89 with 3 Axes>"
      ]
     },
     "metadata": {},
     "output_type": "display_data"
    },
    {
     "data": {
      "image/png": "[encoded data removed]",
      "text/plain": [
       "<Figure size 595.276x841.89 with 3 Axes>"
      ]
     },
     "metadata": {},
     "output_type": "display_data"
    },
    {
     "data": {
      "image/png": "[encoded data removed]",
      "text/plain": [
       "<Figure size 595.276x841.89 with 1 Axes>"
      ]
     },
     "metadata": {},
     "output_type": "display_data"
    }
   ],
   "source": [
    "layout = fifi.svg_to_axes.FigureLayout(figure_layout, autogenlayers=True, \n",
    "                                   make_mplfigures=True, hide_layers=[])\n",
    "\n",
    "ax4 = layout.axes[('gamma_vs_freq_4', 'gamma_vs_freq')]\n",
    "\n",
    "df_dt1 = df.query('dt == 0.1')\n",
    "plot_gamma_vs_freq(ax4, df_dt1, \"coral\", \"^\")\n",
    "#plot_gamma_vs_freq(ax4, df_dt1[df_dt1.timeseries_length >= 1/df_dt1.freq], \"coral\", \"s\")\n",
    "\n",
    "df_dt01 = df.query('dt == 0.01')\n",
    "plot_gamma_vs_freq(ax4, df_dt01, \"orangered\", \"^\")\n",
    "#plot_gamma_vs_freq(ax4, df_dt01[df_dt01.timeseries_length >= 1/df_dt01.freq], \"orangered\", \"s\")\n",
    "\n",
    "df_dt001 = df.query('dt == 0.001')\n",
    "plot_gamma_vs_freq(ax4, df_dt001, \"firebrick\", \"^\")\n",
    "#plot_gamma_vs_freq(ax4, df_dt001[df_dt001.timeseries_length >= 1/df_dt001.freq], \"firebrick\", \"s\")\n",
    "\n",
    "\n",
    "# empirical relationship\n",
    "freqs = np.logspace(-4, 2)\n",
    "gg = get_gamma(0.1, freqs)\n",
    "gg = np.exp(-0.71*np.log(0.1) -1.59*np.log(freqs) -5.1)\n",
    "ax4.plot(freqs, gg, color='coral')\n",
    "\n",
    "freqs = np.logspace(-4, 2)\n",
    "gg = get_gamma(0.01, freqs)\n",
    "gg = np.exp(-0.71*np.log(0.01) -1.59*np.log(freqs) -5.1)\n",
    "ax4.plot(freqs, gg, color='orangered')\n",
    "\n",
    "freqs = np.logspace(-4, 2)\n",
    "gg = get_gamma(0.001, freqs)\n",
    "gg = np.exp(-0.71*np.log(0.001) -1.59*np.log(freqs) -5.1)\n",
    "ax4.plot(freqs, gg, color='firebrick')\n",
    "\n",
    "\n",
    "# plot stars\n",
    "try:\n",
    "    ax4.plot(freq_1, freq_1_gg, '*', color=freq_1_color, markersize=15, markeredgecolor='black')\n",
    "    ax4.plot(freq_2, freq_2_gg, '*', color=freq_2_color, markersize=15, markeredgecolor='black')\n",
    "    ax4.plot(freq_3, freq_3_gg, '*', color=freq_3_color, markersize=15, markeredgecolor='black')\n",
    "    ax4.plot(freq_4, freq_4_gg, '*', color=freq_4_color, markersize=15, markeredgecolor='black')\n",
    "except:\n",
    "    pass\n",
    "\n",
    "for ax in [ax4]:\n",
    "    ax.set_xscale('log')\n",
    "    ax.set_yscale('log')\n",
    "\n",
    "    ax.set_ylim(5e-6,5e4)\n",
    "    ax.set_xlim(5e-5,5e2)\n",
    "\n",
    "    ax.minorticks_off()\n",
    "\n",
    "    fifi.mpl_functions.adjust_spines(ax, ['left', 'bottom'], \n",
    "                                 tick_length=2.5,\n",
    "                                 xticks = [1e-4, 1e-3, 1e-2, 1e-1, 1e0, 1e1, 1e2],\n",
    "                                 yticks = [1e-5, 1e-4, 1e-3, 1e-2, 1e-1, 1e-0, 1e1, 1e2, 1e3, 1e4],\n",
    "                                 spine_locations={'left': 4, 'bottom': 4})\n",
    "\n",
    "\n",
    "    fifi.mpl_functions.set_fontsize(ax, 6)\n",
    "\n",
    "layout.append_figure_to_layer(layout.figures['gamma_vs_freq_4'], 'gamma_vs_freq_4', cleartarget=True)\n",
    "layout.write_svg(figure_layout)"
   ]
  },
  {
   "cell_type": "code",
   "execution_count": null,
   "metadata": {},
   "outputs": [],
   "source": []
  },
  {
   "cell_type": "code",
   "execution_count": null,
   "metadata": {},
   "outputs": [],
   "source": []
  },
  {
   "cell_type": "code",
   "execution_count": null,
   "metadata": {},
   "outputs": [],
   "source": []
  },
  {
   "cell_type": "code",
   "execution_count": null,
   "metadata": {},
   "outputs": [],
   "source": []
  },
  {
   "cell_type": "code",
   "execution_count": 135,
   "metadata": {},
   "outputs": [],
   "source": [
    "def get_correlation(df):\n",
    "    dfq = df[df.timeseries_length >= 1/df.freq]\n",
    "    dfq = dfq[dfq.dt <= 1/dfq.freq/2.]\n",
    "    return scipy.stats.linregress(np.log(dfq.freq), np.log(dfq.goldgammas) )"
   ]
  },
  {
   "cell_type": "code",
   "execution_count": 136,
   "metadata": {},
   "outputs": [
    {
     "data": {
      "text/plain": [
       "LinregressResult(slope=-1.4299267862827156, intercept=-1.845128629576643, rvalue=-0.8195867636466607, pvalue=1.3008626700197654e-28, stderr=0.09488071733709989)"
      ]
     },
     "execution_count": 136,
     "metadata": {},
     "output_type": "execute_result"
    }
   ],
   "source": [
    "get_correlation(df)"
   ]
  },
  {
   "cell_type": "code",
   "execution_count": null,
   "metadata": {},
   "outputs": [],
   "source": []
  },
  {
   "cell_type": "code",
   "execution_count": 137,
   "metadata": {},
   "outputs": [
    {
     "data": {
      "text/plain": [
       "LinregressResult(slope=-2.0081307467736202, intercept=-4.405010951416615, rvalue=-0.9029212347534962, pvalue=9.637689148795385e-18, stderr=0.1441080723278107)"
      ]
     },
     "execution_count": 137,
     "metadata": {},
     "output_type": "execute_result"
    }
   ],
   "source": [
    "df_dt01 = df.query('dt == 0.1')\n",
    "get_correlation(df_dt01)"
   ]
  },
  {
   "cell_type": "code",
   "execution_count": 138,
   "metadata": {},
   "outputs": [
    {
     "data": {
      "text/plain": [
       "LinregressResult(slope=-1.4780571607059185, intercept=-1.331996749094163, rvalue=-0.9195466642492454, pvalue=3.568653359372674e-16, stderr=0.10527798669400695)"
      ]
     },
     "execution_count": 138,
     "metadata": {},
     "output_type": "execute_result"
    }
   ],
   "source": [
    "df_dt01 = df.query('dt == 0.01')\n",
    "get_correlation(df_dt01)"
   ]
  },
  {
   "cell_type": "code",
   "execution_count": 139,
   "metadata": {},
   "outputs": [
    {
     "data": {
      "text/plain": [
       "LinregressResult(slope=-1.1650011103708622, intercept=-0.2607857866815348, rvalue=-0.8417038952655274, pvalue=1.0578445480471267e-08, stderr=0.1438235941500216)"
      ]
     },
     "execution_count": 139,
     "metadata": {},
     "output_type": "execute_result"
    }
   ],
   "source": [
    "df_dt01 = df.query('dt == 0.001 ')\n",
    "get_correlation(df_dt01)"
   ]
  },
  {
   "cell_type": "code",
   "execution_count": 165,
   "metadata": {},
   "outputs": [
    {
     "data": {
      "text/plain": [
       "Index(['dt', 'fname', 'freq', 'goldgammas', 'noise', 'padding',\n",
       "       'timeseries_length'],\n",
       "      dtype='object')"
      ]
     },
     "execution_count": 165,
     "metadata": {},
     "output_type": "execute_result"
    }
   ],
   "source": [
    "df.columns"
   ]
  },
  {
   "cell_type": "code",
   "execution_count": 209,
   "metadata": {},
   "outputs": [],
   "source": [
    "import statsmodels.formula.api as smf\n",
    "def show_ols(df, formula):\n",
    "    dfq = df[df.timeseries_length >= 1/df.freq]\n",
    "    dfq = dfq[dfq.dt <= 1/dfq.freq/2.]\n",
    "    #dfq = dfq[dfq.dt == 0.001]\n",
    "    \n",
    "    logdfq_dict = {}\n",
    "    for col in dfq.columns:\n",
    "        if col == 'padding' or col == 'fname':\n",
    "            logdfq_dict[col] = dfq[col]\n",
    "        else:\n",
    "            logdfq_dict[col] = np.log(dfq[col])\n",
    "    logdfq = pandas.DataFrame(logdfq_dict)\n",
    "    \n",
    "    est = smf.ols(formula=formula, data=logdfq).fit()\n",
    "    return est"
   ]
  },
  {
   "cell_type": "code",
   "execution_count": 210,
   "metadata": {},
   "outputs": [
    {
     "data": {
      "text/html": [
       "<table class=\"simpletable\">\n",
       "<tr>\n",
       "        <td>Model:</td>               <td>OLS</td>         <td>Adj. R-squared:</td>     <td>0.761</td> \n",
       "</tr>\n",
       "<tr>\n",
       "  <td>Dependent Variable:</td>    <td>goldgammas</td>           <td>AIC:</td>         <td>485.8970</td>\n",
       "</tr>\n",
       "<tr>\n",
       "         <td>Date:</td>        <td>2020-05-18 15:44</td>        <td>BIC:</td>         <td>499.5339</td>\n",
       "</tr>\n",
       "<tr>\n",
       "   <td>No. Observations:</td>         <td>113</td>         <td>Log-Likelihood:</td>    <td>-237.95</td>\n",
       "</tr>\n",
       "<tr>\n",
       "       <td>Df Model:</td>              <td>4</td>           <td>F-statistic:</td>       <td>90.15</td> \n",
       "</tr>\n",
       "<tr>\n",
       "     <td>Df Residuals:</td>           <td>108</td>       <td>Prob (F-statistic):</td> <td>1.63e-33</td>\n",
       "</tr>\n",
       "<tr>\n",
       "      <td>R-squared:</td>            <td>0.770</td>            <td>Scale:</td>         <td>4.1324</td> \n",
       "</tr>\n",
       "</table>\n",
       "<table class=\"simpletable\">\n",
       "<tr>\n",
       "          <td></td>           <th>Coef.</th>  <th>Std.Err.</th>     <th>t</th>     <th>P>|t|</th> <th>[0.025</th>  <th>0.975]</th> \n",
       "</tr>\n",
       "<tr>\n",
       "  <th>Intercept</th>         <td>-5.5088</td>  <td>0.7715</td>   <td>-7.1401</td> <td>0.0000</td> <td>-7.0382</td> <td>-3.9795</td>\n",
       "</tr>\n",
       "<tr>\n",
       "  <th>freq</th>              <td>-1.5085</td>  <td>0.1069</td>  <td>-14.1064</td> <td>0.0000</td> <td>-1.7204</td> <td>-1.2965</td>\n",
       "</tr>\n",
       "<tr>\n",
       "  <th>dt</th>                <td>-0.7542</td>  <td>0.1119</td>   <td>-6.7368</td> <td>0.0000</td> <td>-0.9761</td> <td>-0.5323</td>\n",
       "</tr>\n",
       "<tr>\n",
       "  <th>noise</th>             <td>0.0760</td>   <td>0.1217</td>   <td>0.6241</td>  <td>0.5339</td> <td>-0.1653</td> <td>0.3172</td> \n",
       "</tr>\n",
       "<tr>\n",
       "  <th>timeseries_length</th> <td>0.1502</td>   <td>0.1210</td>   <td>1.2413</td>  <td>0.2172</td> <td>-0.0896</td> <td>0.3900</td> \n",
       "</tr>\n",
       "</table>\n",
       "<table class=\"simpletable\">\n",
       "<tr>\n",
       "     <td>Omnibus:</td>    <td>52.234</td>  <td>Durbin-Watson:</td>    <td>1.446</td> \n",
       "</tr>\n",
       "<tr>\n",
       "  <td>Prob(Omnibus):</td>  <td>0.000</td> <td>Jarque-Bera (JB):</td> <td>115.598</td>\n",
       "</tr>\n",
       "<tr>\n",
       "       <td>Skew:</td>     <td>-1.940</td>     <td>Prob(JB):</td>      <td>0.000</td> \n",
       "</tr>\n",
       "<tr>\n",
       "     <td>Kurtosis:</td>    <td>6.081</td>  <td>Condition No.:</td>     <td>27</td>   \n",
       "</tr>\n",
       "</table>"
      ],
      "text/plain": [
       "<class 'statsmodels.iolib.summary2.Summary'>\n",
       "\"\"\"\n",
       "                 Results: Ordinary least squares\n",
       "==================================================================\n",
       "Model:               OLS              Adj. R-squared:     0.761   \n",
       "Dependent Variable:  goldgammas       AIC:                485.8970\n",
       "Date:                2020-05-18 15:44 BIC:                499.5339\n",
       "No. Observations:    113              Log-Likelihood:     -237.95 \n",
       "Df Model:            4                F-statistic:        90.15   \n",
       "Df Residuals:        108              Prob (F-statistic): 1.63e-33\n",
       "R-squared:           0.770            Scale:              4.1324  \n",
       "------------------------------------------------------------------\n",
       "                   Coef.  Std.Err.    t     P>|t|   [0.025  0.975]\n",
       "------------------------------------------------------------------\n",
       "Intercept         -5.5088   0.7715  -7.1401 0.0000 -7.0382 -3.9795\n",
       "freq              -1.5085   0.1069 -14.1064 0.0000 -1.7204 -1.2965\n",
       "dt                -0.7542   0.1119  -6.7368 0.0000 -0.9761 -0.5323\n",
       "noise              0.0760   0.1217   0.6241 0.5339 -0.1653  0.3172\n",
       "timeseries_length  0.1502   0.1210   1.2413 0.2172 -0.0896  0.3900\n",
       "------------------------------------------------------------------\n",
       "Omnibus:              52.234       Durbin-Watson:          1.446  \n",
       "Prob(Omnibus):        0.000        Jarque-Bera (JB):       115.598\n",
       "Skew:                 -1.940       Prob(JB):               0.000  \n",
       "Kurtosis:             6.081        Condition No.:          27     \n",
       "==================================================================\n",
       "\n",
       "\"\"\""
      ]
     },
     "execution_count": 210,
     "metadata": {},
     "output_type": "execute_result"
    }
   ],
   "source": [
    "formula = 'goldgammas ~ freq + dt + noise + timeseries_length'\n",
    "est = show_ols(df, formula)\n",
    "est.summary2()"
   ]
  },
  {
   "cell_type": "code",
   "execution_count": 197,
   "metadata": {
    "scrolled": false
   },
   "outputs": [
    {
     "data": {
      "text/html": [
       "<table class=\"simpletable\">\n",
       "<tr>\n",
       "        <td>Model:</td>               <td>OLS</td>         <td>Adj. R-squared:</td>     <td>0.761</td> \n",
       "</tr>\n",
       "<tr>\n",
       "  <td>Dependent Variable:</td>    <td>goldgammas</td>           <td>AIC:</td>         <td>483.8101</td>\n",
       "</tr>\n",
       "<tr>\n",
       "         <td>Date:</td>        <td>2020-05-18 15:23</td>        <td>BIC:</td>         <td>491.9922</td>\n",
       "</tr>\n",
       "<tr>\n",
       "   <td>No. Observations:</td>         <td>113</td>         <td>Log-Likelihood:</td>    <td>-238.91</td>\n",
       "</tr>\n",
       "<tr>\n",
       "       <td>Df Model:</td>              <td>2</td>           <td>F-statistic:</td>       <td>179.6</td> \n",
       "</tr>\n",
       "<tr>\n",
       "     <td>Df Residuals:</td>           <td>110</td>       <td>Prob (F-statistic):</td> <td>2.24e-35</td>\n",
       "</tr>\n",
       "<tr>\n",
       "      <td>R-squared:</td>            <td>0.766</td>            <td>Scale:</td>         <td>4.1265</td> \n",
       "</tr>\n",
       "</table>\n",
       "<table class=\"simpletable\">\n",
       "<tr>\n",
       "      <td></td>       <th>Coef.</th>  <th>Std.Err.</th>     <th>t</th>     <th>P>|t|</th> <th>[0.025</th>  <th>0.975]</th> \n",
       "</tr>\n",
       "<tr>\n",
       "  <th>Intercept</th> <td>-5.1041</td>  <td>0.5367</td>   <td>-9.5106</td> <td>0.0000</td> <td>-6.1677</td> <td>-4.0405</td>\n",
       "</tr>\n",
       "<tr>\n",
       "  <th>freq</th>      <td>-1.5895</td>  <td>0.0841</td>  <td>-18.9105</td> <td>0.0000</td> <td>-1.7561</td> <td>-1.4229</td>\n",
       "</tr>\n",
       "<tr>\n",
       "  <th>dt</th>        <td>-0.7179</td>  <td>0.1082</td>   <td>-6.6365</td> <td>0.0000</td> <td>-0.9323</td> <td>-0.5035</td>\n",
       "</tr>\n",
       "</table>\n",
       "<table class=\"simpletable\">\n",
       "<tr>\n",
       "     <td>Omnibus:</td>    <td>54.953</td>  <td>Durbin-Watson:</td>    <td>1.455</td> \n",
       "</tr>\n",
       "<tr>\n",
       "  <td>Prob(Omnibus):</td>  <td>0.000</td> <td>Jarque-Bera (JB):</td> <td>126.717</td>\n",
       "</tr>\n",
       "<tr>\n",
       "       <td>Skew:</td>     <td>-2.029</td>     <td>Prob(JB):</td>      <td>0.000</td> \n",
       "</tr>\n",
       "<tr>\n",
       "     <td>Kurtosis:</td>    <td>6.233</td>  <td>Condition No.:</td>     <td>14</td>   \n",
       "</tr>\n",
       "</table>"
      ],
      "text/plain": [
       "<class 'statsmodels.iolib.summary2.Summary'>\n",
       "\"\"\"\n",
       "                 Results: Ordinary least squares\n",
       "=================================================================\n",
       "Model:              OLS              Adj. R-squared:     0.761   \n",
       "Dependent Variable: goldgammas       AIC:                483.8101\n",
       "Date:               2020-05-18 15:23 BIC:                491.9922\n",
       "No. Observations:   113              Log-Likelihood:     -238.91 \n",
       "Df Model:           2                F-statistic:        179.6   \n",
       "Df Residuals:       110              Prob (F-statistic): 2.24e-35\n",
       "R-squared:          0.766            Scale:              4.1265  \n",
       "------------------------------------------------------------------\n",
       "              Coef.   Std.Err.     t      P>|t|    [0.025   0.975]\n",
       "------------------------------------------------------------------\n",
       "Intercept    -5.1041    0.5367   -9.5106  0.0000  -6.1677  -4.0405\n",
       "freq         -1.5895    0.0841  -18.9105  0.0000  -1.7561  -1.4229\n",
       "dt           -0.7179    0.1082   -6.6365  0.0000  -0.9323  -0.5035\n",
       "-----------------------------------------------------------------\n",
       "Omnibus:             54.953       Durbin-Watson:          1.455  \n",
       "Prob(Omnibus):       0.000        Jarque-Bera (JB):       126.717\n",
       "Skew:                -2.029       Prob(JB):               0.000  \n",
       "Kurtosis:            6.233        Condition No.:          14     \n",
       "=================================================================\n",
       "\n",
       "\"\"\""
      ]
     },
     "execution_count": 197,
     "metadata": {},
     "output_type": "execute_result"
    }
   ],
   "source": [
    "formula = 'goldgammas ~ freq + dt'\n",
    "est = show_ols(df, formula)\n",
    "est.summary2()"
   ]
  },
  {
   "cell_type": "code",
   "execution_count": null,
   "metadata": {},
   "outputs": [],
   "source": []
  }
 ],
 "metadata": {
  "kernelspec": {
   "display_name": "Python 3",
   "language": "python",
   "name": "python3"
  },
  "language_info": {
   "codemirror_mode": {
    "name": "ipython",
    "version": 3
   },
   "file_extension": ".py",
   "mimetype": "text/x-python",
   "name": "python",
   "nbconvert_exporter": "python",
   "pygments_lexer": "ipython3",
   "version": "3.5.2"
  }
 },
 "nbformat": 4,
 "nbformat_minor": 2
}
