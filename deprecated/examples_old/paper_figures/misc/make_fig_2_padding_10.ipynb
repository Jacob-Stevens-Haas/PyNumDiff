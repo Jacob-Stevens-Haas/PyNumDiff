{
 "cells": [
  {
   "cell_type": "code",
   "execution_count": 1,
   "metadata": {},
   "outputs": [
    {
     "name": "stderr",
     "output_type": "stream",
     "text": [
      "/home/caveman/BMD2/lib/python3.5/site-packages/tensorflow/python/framework/dtypes.py:523: FutureWarning: Passing (type, 1) or '1type' as a synonym of type is deprecated; in a future version of numpy, it will be understood as (type, (1,)) / '(1,)type'.\n",
      "  _np_qint8 = np.dtype([(\"qint8\", np.int8, 1)])\n",
      "/home/caveman/BMD2/lib/python3.5/site-packages/tensorflow/python/framework/dtypes.py:524: FutureWarning: Passing (type, 1) or '1type' as a synonym of type is deprecated; in a future version of numpy, it will be understood as (type, (1,)) / '(1,)type'.\n",
      "  _np_quint8 = np.dtype([(\"quint8\", np.uint8, 1)])\n",
      "/home/caveman/BMD2/lib/python3.5/site-packages/tensorflow/python/framework/dtypes.py:525: FutureWarning: Passing (type, 1) or '1type' as a synonym of type is deprecated; in a future version of numpy, it will be understood as (type, (1,)) / '(1,)type'.\n",
      "  _np_qint16 = np.dtype([(\"qint16\", np.int16, 1)])\n",
      "/home/caveman/BMD2/lib/python3.5/site-packages/tensorflow/python/framework/dtypes.py:526: FutureWarning: Passing (type, 1) or '1type' as a synonym of type is deprecated; in a future version of numpy, it will be understood as (type, (1,)) / '(1,)type'.\n",
      "  _np_quint16 = np.dtype([(\"quint16\", np.uint16, 1)])\n",
      "/home/caveman/BMD2/lib/python3.5/site-packages/tensorflow/python/framework/dtypes.py:527: FutureWarning: Passing (type, 1) or '1type' as a synonym of type is deprecated; in a future version of numpy, it will be understood as (type, (1,)) / '(1,)type'.\n",
      "  _np_qint32 = np.dtype([(\"qint32\", np.int32, 1)])\n",
      "/home/caveman/BMD2/lib/python3.5/site-packages/tensorflow/python/framework/dtypes.py:532: FutureWarning: Passing (type, 1) or '1type' as a synonym of type is deprecated; in a future version of numpy, it will be understood as (type, (1,)) / '(1,)type'.\n",
      "  np_resource = np.dtype([(\"resource\", np.ubyte, 1)])\n"
     ]
    }
   ],
   "source": [
    "import numpy as np\n",
    "import matplotlib.pyplot as plt\n",
    "import pickle\n",
    "import os\n",
    "import pandas\n",
    "import pynumdiff\n",
    "import scipy.fftpack\n",
    "from IPython.display import display,SVG\n",
    "import figurefirst\n",
    "fifi = figurefirst"
   ]
  },
  {
   "cell_type": "code",
   "execution_count": 2,
   "metadata": {},
   "outputs": [],
   "source": [
    "import run_pareto_plot"
   ]
  },
  {
   "cell_type": "code",
   "execution_count": 3,
   "metadata": {},
   "outputs": [],
   "source": [
    "def get_gamma(dt, freq):\n",
    "    try:\n",
    "        g = np.min([100, np.exp(np.log10(freq)*(-3)-1) ])\n",
    "        \n",
    "        \n",
    "        if dt == 0.001:\n",
    "            return g\n",
    "        if dt == 0.01:\n",
    "            return g / 2.5\n",
    "        if dt == 0.1:\n",
    "            return g / 5.\n",
    "        \n",
    "    except:\n",
    "        g = [np.min([1000, np.exp(np.log10(f)*(-3)-1) ]) for f in freq]\n",
    "        \n",
    "        g = np.array(g)\n",
    "        \n",
    "        if dt == 0.001:\n",
    "            return g\n",
    "        if dt == 0.01:\n",
    "            return g / 2.5\n",
    "        if dt == 0.1:\n",
    "            return g / 5.\n"
   ]
  },
  {
   "cell_type": "code",
   "execution_count": 4,
   "metadata": {},
   "outputs": [],
   "source": [
    "def load_data(fname):\n",
    "    f = open(fname, 'rb')\n",
    "    data = pickle.load(f)\n",
    "    f.close()\n",
    "    return data"
   ]
  },
  {
   "cell_type": "code",
   "execution_count": 5,
   "metadata": {},
   "outputs": [],
   "source": [
    "def get_goldilocks_gamma(data):\n",
    "    rmses = data['rmses_gamma']\n",
    "    errcorrs = data['errcorrs_gamma']\n",
    "\n",
    "    threshold = 0.2\n",
    "    while len(np.where(errcorrs<threshold)[0]) < 1:\n",
    "        threshold += 0.05\n",
    "        \n",
    "    idx_errcorr_okay = np.where(errcorrs<threshold)\n",
    "\n",
    "    idx_opt =  idx_errcorr_okay[0][np.argmin(rmses[idx_errcorr_okay])]\n",
    "\n",
    "    opt_rmse = rmses[idx_opt]\n",
    "    opt_errcorr = errcorrs[idx_opt]\n",
    "    \n",
    "    return data['metadata']['gammas'][idx_opt], opt_rmse, opt_errcorr, idx_opt\n",
    "\n",
    "def plot_direct_goldilocks_gamma(ax, data, color):\n",
    "    goldgamma, opt_rmse, opt_errcorr, idx_opt = get_goldilocks_gamma(data)\n",
    "\n",
    "    print('goldilocks rmse and errcorr: ', opt_rmse, opt_errcorr)\n",
    "    print('opt params: ', data['metadata']['params'][idx_opt])\n",
    "    \n",
    "    ax.plot(opt_rmse, opt_errcorr, '*', color=color, markersize=20, markeredgecolor='black')\n",
    "    \n",
    "    #ax.set_xlim(1e-1, 1e2)"
   ]
  },
  {
   "cell_type": "code",
   "execution_count": 6,
   "metadata": {},
   "outputs": [],
   "source": [
    "def plot_example(example, x, x_truth, t, color, data):\n",
    "    layout = fifi.svg_to_axes.FigureLayout(figure_layout, autogenlayers=True, \n",
    "                                       make_mplfigures=True, hide_layers=[])\n",
    "\n",
    "    \n",
    "    ax_pareto = layout.axes[(example, 'pareto')]\n",
    "    ax_pos = layout.axes[(example, 'sine')]\n",
    "    \n",
    "    ax_pos.plot(t, x, '.', color='blue', zorder=-10, markersize=2)\n",
    "    ax_pos.set_rasterization_zorder(0)\n",
    "    ax_pos.plot(t, x_truth, '--', color='black')\n",
    "    \n",
    "    ax_pareto.plot((data['rmses']), data['errcorrs'], '.', color='gray', zorder=-10, markersize=2)\n",
    "    ax_pareto.set_rasterization_zorder(0)\n",
    "\n",
    "    ax_pareto.plot((data['rmses_gamma']), data['errcorrs_gamma'], '.', color=color, zorder=1, markersize=2)\n",
    "    ax_pareto.plot((data['rmses_gamma']), data['errcorrs_gamma'], '-', color=color)\n",
    "    plot_direct_goldilocks_gamma(ax_pareto, data, color)\n",
    "    \n",
    "    fifi.mpl_functions.adjust_spines(ax_pos, ['left', 'bottom'], \n",
    "                                 xticks=xticks['pos'], \n",
    "                                 yticks=yticks['pos'],\n",
    "                                 tick_length=2.5,\n",
    "                                 spine_locations={'left': 4, 'bottom': 4})\n",
    "\n",
    "    ax_pareto.set_xscale('log')\n",
    "    ax_pareto.minorticks_off()\n",
    "    ax_pareto.set_xlim(xlimits['pareto'][0], xlimits['pareto'][1])\n",
    "    ax_pareto.set_ylim(ylimits['pareto'][0], ylimits['pareto'][1])\n",
    "    fifi.mpl_functions.adjust_spines(ax_pareto, ['left', 'bottom'], \n",
    "                                     xticks=xticks['pareto'], \n",
    "                                     yticks=yticks['pareto'],\n",
    "                                     tick_length=2.5,\n",
    "                                     spine_locations={'left': 4, 'bottom': 4})\n",
    "    \n",
    "    fifi.mpl_functions.set_fontsize(ax_pareto, 6)\n",
    "\n",
    "    layout.append_figure_to_layer(layout.figures[example], example, cleartarget=True)\n",
    "    layout.write_svg(figure_layout)"
   ]
  },
  {
   "cell_type": "code",
   "execution_count": 7,
   "metadata": {},
   "outputs": [],
   "source": [
    "figure_layout = 'fig_2_pad10.svg'"
   ]
  },
  {
   "cell_type": "code",
   "execution_count": 8,
   "metadata": {},
   "outputs": [],
   "source": [
    "padding = 10"
   ]
  },
  {
   "cell_type": "code",
   "execution_count": 9,
   "metadata": {},
   "outputs": [
    {
     "name": "stdout",
     "output_type": "stream",
     "text": [
      "done simulating\n",
      "pareto_specific_sine_freq_data_varpadding/pareto_data_savgoldiff_linear_model_sine_1_0.1_0.01_4_10.pickle\n",
      "goldilocks rmse and errcorr:  0.4137226447122677 0.012876558875156914\n",
      "opt params:  [3, 34, 12]\n"
     ]
    },
    {
     "data": {
      "image/png": "[encoded data removed]",
      "text/plain": [
       "<Figure size 595.276x841.89 with 2 Axes>"
      ]
     },
     "metadata": {},
     "output_type": "display_data"
    },
    {
     "data": {
      "image/png": "[encoded data removed]",
      "text/plain": [
       "<Figure size 595.276x841.89 with 1 Axes>"
      ]
     },
     "metadata": {},
     "output_type": "display_data"
    },
    {
     "data": {
      "image/png": "[encoded data removed]",
      "text/plain": [
       "<Figure size 595.276x841.89 with 2 Axes>"
      ]
     },
     "metadata": {},
     "output_type": "display_data"
    },
    {
     "data": {
      "image/png": "[encoded data removed]",
      "text/plain": [
       "<Figure size 595.276x841.89 with 2 Axes>"
      ]
     },
     "metadata": {},
     "output_type": "display_data"
    },
    {
     "data": {
      "image/png": "[encoded data removed]",
      "text/plain": [
       "<Figure size 595.276x841.89 with 2 Axes>"
      ]
     },
     "metadata": {},
     "output_type": "display_data"
    },
    {
     "data": {
      "image/png": "[encoded data removed]",
      "text/plain": [
       "<Figure size 595.276x841.89 with 2 Axes>"
      ]
     },
     "metadata": {},
     "output_type": "display_data"
    }
   ],
   "source": [
    "# define problem\n",
    "example = 'freq_1'\n",
    "dt = 0.01\n",
    "noise = 0.1\n",
    "timeseries_length = 4\n",
    "problem = 'sine'\n",
    "freq = 1\n",
    "read_existing = True\n",
    "simdt = 0.0001\n",
    "color = 'dodgerblue'\n",
    "\n",
    "# define method\n",
    "method_parent = 'linear_model'\n",
    "method = 'savgoldiff'\n",
    "\n",
    "# define limits\n",
    "xlimits = {'pos': [0,4],\n",
    "           'vel': [0,4],\n",
    "           'pareto': [1e-1, 1e1]}\n",
    "ylimits = {'pos': [-0.2,2.2],\n",
    "           'vel': [-10, 10],\n",
    "           'pareto': [-.1, 1.1]}\n",
    "\n",
    "xticks = { 'pos': [0,2,4],\n",
    "           'vel': [0,2,4],\n",
    "           'pareto': [1e-1, 1e0, 1e1]}\n",
    "\n",
    "yticks = { 'pos': [-1, 0, 1, 2],\n",
    "           'vel': [-10, -5, 0, 5, 10],\n",
    "           'pareto': [0, 1]}\n",
    "\n",
    "r = pynumdiff.utils.simulate.sine(timeseries_length=timeseries_length, \n",
    "                                  noise_parameters=[0, noise], \n",
    "                                  dt=dt, \n",
    "                                  frequencies=[freq])\n",
    "\n",
    "x, x_truth, dxdt_truth, _ = r\n",
    "t = np.arange(0, timeseries_length, dt)\n",
    "print('done simulating')\n",
    "\n",
    "fname = run_pareto_plot.run_pareto_analysis_on_specific_sine(noise, dt, timeseries_length, problem, freq, method, method_parent, simdt=simdt, read_existing=read_existing, num_gammas=40, padding=padding)\n",
    "print(fname)\n",
    "data = load_data(fname)\n",
    "\n",
    "plot_example(example, x, x_truth, t, color, data)"
   ]
  },
  {
   "cell_type": "code",
   "execution_count": 10,
   "metadata": {},
   "outputs": [
    {
     "name": "stdout",
     "output_type": "stream",
     "text": [
      "done simulating\n",
      "pareto_specific_sine_freq_data_varpadding/pareto_data_savgoldiff_linear_model_sine_10_0.1_0.001_1_10.pickle\n",
      "goldilocks rmse and errcorr:  4.007194640962197 0.07026960435800468\n",
      "opt params:  [3, 33, 18]\n"
     ]
    },
    {
     "name": "stderr",
     "output_type": "stream",
     "text": [
      "/home/caveman/BMD2/lib/python3.5/site-packages/matplotlib-2.2.2-py3.5-linux-x86_64.egg/matplotlib/axes/_base.py:3129: UserWarning: Attempted to set non-positive xlimits for log-scale axis; invalid limits will be ignored.\n",
      "  'Attempted to set non-positive xlimits for log-scale axis; '\n"
     ]
    },
    {
     "data": {
      "image/png": "[encoded data removed]",
      "text/plain": [
       "<Figure size 595.276x841.89 with 2 Axes>"
      ]
     },
     "metadata": {},
     "output_type": "display_data"
    },
    {
     "data": {
      "image/png": "[encoded data removed]",
      "text/plain": [
       "<Figure size 595.276x841.89 with 1 Axes>"
      ]
     },
     "metadata": {},
     "output_type": "display_data"
    },
    {
     "data": {
      "image/png": "[encoded data removed]",
      "text/plain": [
       "<Figure size 595.276x841.89 with 2 Axes>"
      ]
     },
     "metadata": {},
     "output_type": "display_data"
    },
    {
     "data": {
      "image/png": "[encoded data removed]",
      "text/plain": [
       "<Figure size 595.276x841.89 with 2 Axes>"
      ]
     },
     "metadata": {},
     "output_type": "display_data"
    },
    {
     "data": {
      "image/png": "[encoded data removed]",
      "text/plain": [
       "<Figure size 595.276x841.89 with 2 Axes>"
      ]
     },
     "metadata": {},
     "output_type": "display_data"
    },
    {
     "data": {
      "image/png": "[encoded data removed]",
      "text/plain": [
       "<Figure size 595.276x841.89 with 2 Axes>"
      ]
     },
     "metadata": {},
     "output_type": "display_data"
    }
   ],
   "source": [
    "# define problem\n",
    "example = 'freq_2'\n",
    "dt = 0.001\n",
    "noise = 0.1\n",
    "timeseries_length = 1\n",
    "problem = 'sine'\n",
    "freq = 10\n",
    "read_existing = True\n",
    "simdt = 0.0001\n",
    "color = 'forestgreen'\n",
    "\n",
    "# define method\n",
    "method_parent = 'linear_model'\n",
    "method = 'savgoldiff'\n",
    "\n",
    "# define limits\n",
    "xlimits = {'pos': [0,1],\n",
    "           'vel': [0,1],\n",
    "           'pareto': [0, 1e2]}\n",
    "ylimits = {'pos': [-0.2,2.2],\n",
    "           'vel': [-10, 10],\n",
    "           'pareto': [-.1, 1.1]}\n",
    "\n",
    "xticks = { 'pos': [0,.5, 1],\n",
    "           'vel': [0,.5, 1],\n",
    "           'pareto': [1e0, 1e1, 1e2]}\n",
    "\n",
    "yticks = { 'pos': [-1, 0, 1, 2],\n",
    "           'vel': [-10, -5, 0, 5, 10],\n",
    "           'pareto': [0, 1]}\n",
    "\n",
    "r = pynumdiff.utils.simulate.sine(timeseries_length=timeseries_length, \n",
    "                                  noise_parameters=[0, noise], \n",
    "                                  dt=dt, \n",
    "                                  frequencies=[freq])\n",
    "\n",
    "x, x_truth, dxdt_truth, _ = r\n",
    "t = np.arange(0, timeseries_length, dt)\n",
    "print('done simulating')\n",
    "\n",
    "fname = run_pareto_plot.run_pareto_analysis_on_specific_sine(noise, dt, timeseries_length, problem, freq, method, method_parent, simdt=simdt, read_existing=read_existing, num_gammas=40, padding=padding)\n",
    "print(fname)\n",
    "data = load_data(fname)\n",
    "\n",
    "plot_example(example, x, x_truth, t, color, data)"
   ]
  },
  {
   "cell_type": "code",
   "execution_count": 12,
   "metadata": {},
   "outputs": [
    {
     "name": "stdout",
     "output_type": "stream",
     "text": [
      "done simulating\n",
      "pareto_specific_sine_freq_data_varpadding/pareto_data_savgoldiff_linear_model_sine_0.1_0.1_0.01_10_10.pickle\n",
      "goldilocks rmse and errcorr:  0.02734700269743006 0.02224414411739778\n",
      "opt params:  [1, 106, 84]\n"
     ]
    },
    {
     "data": {
      "image/png": "[encoded data removed]",
      "text/plain": [
       "<Figure size 595.276x841.89 with 2 Axes>"
      ]
     },
     "metadata": {},
     "output_type": "display_data"
    },
    {
     "data": {
      "image/png": "[encoded data removed]",
      "text/plain": [
       "<Figure size 595.276x841.89 with 1 Axes>"
      ]
     },
     "metadata": {},
     "output_type": "display_data"
    },
    {
     "data": {
      "image/png": "[encoded data removed]",
      "text/plain": [
       "<Figure size 595.276x841.89 with 2 Axes>"
      ]
     },
     "metadata": {},
     "output_type": "display_data"
    },
    {
     "data": {
      "image/png": "[encoded data removed]",
      "text/plain": [
       "<Figure size 595.276x841.89 with 2 Axes>"
      ]
     },
     "metadata": {},
     "output_type": "display_data"
    },
    {
     "data": {
      "image/png": "[encoded data removed]",
      "text/plain": [
       "<Figure size 595.276x841.89 with 2 Axes>"
      ]
     },
     "metadata": {},
     "output_type": "display_data"
    },
    {
     "data": {
      "image/png": "[encoded data removed]",
      "text/plain": [
       "<Figure size 595.276x841.89 with 2 Axes>"
      ]
     },
     "metadata": {},
     "output_type": "display_data"
    }
   ],
   "source": [
    "# define problem\n",
    "example = 'freq_3'\n",
    "dt = 0.01\n",
    "noise = 0.1\n",
    "timeseries_length = 10\n",
    "problem = 'sine'\n",
    "freq = 0.1\n",
    "read_existing = True\n",
    "simdt = 0.0001\n",
    "color = 'darkorchid'\n",
    "\n",
    "# define method\n",
    "method_parent = 'linear_model'\n",
    "method = 'savgoldiff'\n",
    "\n",
    "# define limits\n",
    "xlimits = {'pos': [0,10],\n",
    "           'vel': [0,10],\n",
    "           'pareto': [1e-3, 1e1]}\n",
    "ylimits = {'pos': [-0.2,2.2],\n",
    "           'vel': [-10, 10],\n",
    "           'pareto': [-.1, 1.1]}\n",
    "\n",
    "xticks = { 'pos': [0,0, 10],\n",
    "           'vel': [0,0, 10],\n",
    "           'pareto': [1e-3, 1e-2, 1e-1, 1e0, 1e1]}\n",
    "\n",
    "yticks = { 'pos': [-1, 0, 1, 2],\n",
    "           'vel': [-10, -5, 0, 5, 10],\n",
    "           'pareto': [0, 1]}\n",
    "\n",
    "r = pynumdiff.utils.simulate.sine(timeseries_length=timeseries_length, \n",
    "                                  noise_parameters=[0, noise], \n",
    "                                  dt=dt, \n",
    "                                  frequencies=[freq])\n",
    "\n",
    "x, x_truth, dxdt_truth, _ = r\n",
    "t = np.arange(0, timeseries_length, dt)\n",
    "print('done simulating')\n",
    "\n",
    "fname = run_pareto_plot.run_pareto_analysis_on_specific_sine(noise, dt, timeseries_length, problem, freq, method, method_parent, simdt=simdt, read_existing=read_existing, num_gammas=40, padding=padding)\n",
    "print(fname)\n",
    "data = load_data(fname)\n",
    "\n",
    "plot_example(example, x, x_truth, t, color, data)"
   ]
  },
  {
   "cell_type": "code",
   "execution_count": 13,
   "metadata": {},
   "outputs": [
    {
     "name": "stdout",
     "output_type": "stream",
     "text": [
      "done simulating\n",
      "pareto_specific_sine_freq_data_varpadding/pareto_data_savgoldiff_linear_model_sine_0.0001_0.1_0.01_4_10.pickle\n",
      "goldilocks rmse and errcorr:  0.07646558648086296 0.15172794891044852\n",
      "opt params:  [1, 50, 54]\n"
     ]
    },
    {
     "data": {
      "image/png": "[encoded data removed]",
      "text/plain": [
       "<Figure size 595.276x841.89 with 2 Axes>"
      ]
     },
     "metadata": {},
     "output_type": "display_data"
    },
    {
     "data": {
      "image/png": "[encoded data removed]",
      "text/plain": [
       "<Figure size 595.276x841.89 with 1 Axes>"
      ]
     },
     "metadata": {},
     "output_type": "display_data"
    },
    {
     "data": {
      "image/png": "[encoded data removed]",
      "text/plain": [
       "<Figure size 595.276x841.89 with 2 Axes>"
      ]
     },
     "metadata": {},
     "output_type": "display_data"
    },
    {
     "data": {
      "image/png": "[encoded data removed]",
      "text/plain": [
       "<Figure size 595.276x841.89 with 2 Axes>"
      ]
     },
     "metadata": {},
     "output_type": "display_data"
    },
    {
     "data": {
      "image/png": "[encoded data removed]",
      "text/plain": [
       "<Figure size 595.276x841.89 with 2 Axes>"
      ]
     },
     "metadata": {},
     "output_type": "display_data"
    },
    {
     "data": {
      "image/png": "[encoded data removed]",
      "text/plain": [
       "<Figure size 595.276x841.89 with 2 Axes>"
      ]
     },
     "metadata": {},
     "output_type": "display_data"
    }
   ],
   "source": [
    "# define problem\n",
    "example = 'freq_4'\n",
    "noise = 0.1\n",
    "dt = 0.01\n",
    "timeseries_length = 4\n",
    "problem = 'sine'\n",
    "freq = 0.0001\n",
    "read_existing = True\n",
    "simdt = 0.0001\n",
    "color = 'peru'\n",
    "\n",
    "# define method\n",
    "method_parent = 'linear_model'\n",
    "method = 'savgoldiff'\n",
    "\n",
    "# define method\n",
    "xlimits = {'pos': [0,4],\n",
    "           'vel': [0,4],\n",
    "           'pareto': [1e-3, 1e1]}\n",
    "ylimits = {'pos': [-0.2,2.2],\n",
    "           'vel': [-10, 10],\n",
    "           'pareto': [-.1, 1.1]}\n",
    "\n",
    "xticks = { 'pos': [0,2,4],\n",
    "           'vel': [0,2,4],\n",
    "           'pareto': [1e-1, 1e0, 1e1]}\n",
    "\n",
    "yticks = { 'pos': [-1, 0, 1, 2],\n",
    "           'vel': [-10, -5, 0, 5, 10],\n",
    "           'pareto': [0, 1]}\n",
    "\n",
    "r = pynumdiff.utils.simulate.sine(timeseries_length=timeseries_length, \n",
    "                                  noise_parameters=[0, noise], \n",
    "                                  dt=dt, \n",
    "                                  frequencies=[freq])\n",
    "x, x_truth, dxdt_truth, _ = r\n",
    "t = np.arange(0, timeseries_length, dt)\n",
    "print('done simulating')\n",
    "\n",
    "\n",
    "fname = run_pareto_plot.run_pareto_analysis_on_specific_sine(noise, dt, timeseries_length, problem, freq, method, method_parent, simdt=simdt, read_existing=read_existing, num_gammas=40, padding=padding)\n",
    "print(fname)\n",
    "data = load_data(fname)\n",
    "\n",
    "plot_example(example, x, x_truth, t, color, data)"
   ]
  },
  {
   "cell_type": "code",
   "execution_count": null,
   "metadata": {},
   "outputs": [],
   "source": [
    "raise ValueError()"
   ]
  },
  {
   "cell_type": "code",
   "execution_count": null,
   "metadata": {},
   "outputs": [],
   "source": []
  },
  {
   "cell_type": "code",
   "execution_count": null,
   "metadata": {},
   "outputs": [],
   "source": [
    "# make freq plots"
   ]
  },
  {
   "cell_type": "code",
   "execution_count": null,
   "metadata": {},
   "outputs": [],
   "source": [
    "def get_filenames(path, contains, does_not_contain=['~', '.pyc']):\n",
    "    cmd = 'ls ' + '\"' + path + '\"'\n",
    "    ls = os.popen(cmd).read()\n",
    "    all_filelist = ls.split('\\n')\n",
    "    try:\n",
    "        all_filelist.remove('')\n",
    "    except:\n",
    "        pass\n",
    "    filelist = []\n",
    "    for i, filename in enumerate(all_filelist):\n",
    "        if contains in filename:\n",
    "            fileok = True\n",
    "            for nc in does_not_contain:\n",
    "                if nc in filename:\n",
    "                    fileok = False\n",
    "            if fileok:\n",
    "                filelist.append( os.path.join(path, filename) )\n",
    "    return filelist"
   ]
  },
  {
   "cell_type": "code",
   "execution_count": null,
   "metadata": {},
   "outputs": [],
   "source": [
    "def get_freq_dt_noise_for_files(dirname, method, method_parent):\n",
    "    filenames = get_filenames(dirname, method)\n",
    "    freq = []\n",
    "    dt = []\n",
    "    noise = []\n",
    "    fnames = []\n",
    "    paddings = []\n",
    "    timeseries_length = []\n",
    "    \n",
    "    for fname in filenames:\n",
    "        data = load_data(fname)\n",
    "        if method == data['metadata']['method']:\n",
    "            if method_parent == data['metadata']['method_parent']:\n",
    "                try:\n",
    "                    freq.append(data['metadata']['freq'])\n",
    "                except:\n",
    "                    freq = None\n",
    "                dt.append(data['metadata']['dt'])\n",
    "                noise.append(data['metadata']['noise'])\n",
    "                fnames.append(fname)\n",
    "                paddings.append(data['metadata']['padding'])\n",
    "                timeseries_length.append(data['metadata']['timeseries_length'])\n",
    "                \n",
    "        \n",
    "    df = pandas.DataFrame({'freq': freq,\n",
    "                           'dt': dt,\n",
    "                           'noise': noise,\n",
    "                           'fname': fnames,\n",
    "                           'padding': paddings,\n",
    "                           'timeseries_length': timeseries_length})\n",
    "    return df"
   ]
  },
  {
   "cell_type": "code",
   "execution_count": null,
   "metadata": {},
   "outputs": [],
   "source": [
    "noise = 0.1\n",
    "dt = 0.01\n",
    "timeseries_length = 4\n",
    "freq = None\n",
    "method = 'savgoldiff'\n",
    "method_parent = 'linear_model'"
   ]
  },
  {
   "cell_type": "code",
   "execution_count": null,
   "metadata": {},
   "outputs": [],
   "source": [
    "df = get_freq_dt_noise_for_files('pareto_sine_freq_data_varpadding/', 'savgoldiff', 'linear_model')"
   ]
  },
  {
   "cell_type": "code",
   "execution_count": null,
   "metadata": {},
   "outputs": [],
   "source": [
    "query = 'noise == ' + str(noise) + ' and dt == ' + str(dt) + ' and timeseries_length == ' + str(timeseries_length) \n",
    "if freq is not None:\n",
    "    query += ' and freq == ' + str(freq)\n",
    "dfq = df.query(query)"
   ]
  },
  {
   "cell_type": "code",
   "execution_count": null,
   "metadata": {},
   "outputs": [],
   "source": [
    "dfq"
   ]
  },
  {
   "cell_type": "code",
   "execution_count": null,
   "metadata": {},
   "outputs": [],
   "source": []
  },
  {
   "cell_type": "code",
   "execution_count": null,
   "metadata": {},
   "outputs": [],
   "source": [
    "padding = 1\n",
    "freq = 0.0001\n",
    "query = 'freq == ' + str(freq) + ' and padding == ' + str(padding)\n",
    "fname = dfq.query(query).fname.values[0]\n",
    "data = load_data(fname)\n",
    "\n",
    "fig = plt.figure()\n",
    "ax = fig.add_subplot(111)\n",
    "ax.plot(data['rmses'], data['errcorrs'], '.', color='gray')\n",
    "ax.plot(data['rmses_gamma'], data['errcorrs_gamma'], '.')\n",
    "ax.plot(data['rmses_gamma'], data['errcorrs_gamma'])\n",
    "goldgamma, opt_rmse, opt_errcorr = get_goldilocks_gamma(data)\n",
    "print(goldgamma)\n",
    "ax.plot(opt_rmse, opt_errcorr, '*')\n",
    "ax.set_xscale('log')\n",
    "ax.set_xlabel('log rmse')\n",
    "ax.set_ylabel('err corr')\n",
    "ax.set_title('freq: ' + str(freq) + ' padding: ' + str(padding))"
   ]
  },
  {
   "cell_type": "code",
   "execution_count": null,
   "metadata": {},
   "outputs": [],
   "source": [
    "r = pynumdiff.utils.simulate.sine(timeseries_length=timeseries_length, \n",
    "                                  noise_parameters=[0, noise], \n",
    "                                  dt=dt, \n",
    "                                  frequencies=[freq])\n",
    "\n",
    "x, x_truth, dxdt_truth, _ = r\n",
    "t = np.arange(0, timeseries_length, dt)\n",
    "\n",
    "goldgamma, opt_rmse, opt_errcorr = get_goldilocks_gamma(data)\n",
    "idxopt = np.argmin( np.abs(data['metadata']['gammas'] - goldgamma) )\n",
    "params = data['metadata']['params'][idxopt]\n",
    "print('optimizer params: ', params)\n",
    "x_smooth, xdot_smooth = pynumdiff.__dict__[method_parent].__dict__[method](x, dt, params)\n",
    "plt.plot(xdot_smooth, color='red')\n",
    "plt.plot(dxdt_truth, '--', color='black')"
   ]
  },
  {
   "cell_type": "code",
   "execution_count": null,
   "metadata": {},
   "outputs": [],
   "source": [
    "padding = 10\n",
    "freq = 0.0001\n",
    "query = 'freq == ' + str(freq) + ' and padding == ' + str(padding)\n",
    "fname = dfq.query(query).fname.values[0]\n",
    "data = load_data(fname)\n",
    "\n",
    "fig = plt.figure()\n",
    "ax = fig.add_subplot(111)\n",
    "ax.plot(data['rmses'], data['errcorrs'], '.', color='gray')\n",
    "ax.plot(data['rmses_gamma'], data['errcorrs_gamma'], '.')\n",
    "ax.plot(data['rmses_gamma'], data['errcorrs_gamma'])\n",
    "goldgamma, opt_rmse, opt_errcorr = get_goldilocks_gamma(data)\n",
    "print(goldgamma)\n",
    "ax.plot(opt_rmse, opt_errcorr, '*')\n",
    "ax.set_xscale('log')\n",
    "ax.set_xlabel('log rmse')\n",
    "ax.set_ylabel('err corr')\n",
    "ax.set_title('freq: ' + str(freq) + ' padding: ' + str(padding))"
   ]
  },
  {
   "cell_type": "code",
   "execution_count": null,
   "metadata": {},
   "outputs": [],
   "source": [
    "r = pynumdiff.utils.simulate.sine(timeseries_length=timeseries_length, \n",
    "                                  noise_parameters=[0, noise], \n",
    "                                  dt=dt, \n",
    "                                  frequencies=[freq])\n",
    "\n",
    "x, x_truth, dxdt_truth, _ = r\n",
    "t = np.arange(0, timeseries_length, dt)\n",
    "\n",
    "goldgamma, opt_rmse, opt_errcorr = get_goldilocks_gamma(data)\n",
    "idxopt = np.argmin( np.abs(data['metadata']['gammas'] - goldgamma) )\n",
    "params = data['metadata']['params'][idxopt]\n",
    "print('optimizer params: ', params)\n",
    "x_smooth, xdot_smooth = pynumdiff.__dict__[method_parent].__dict__[method](x, dt, params)\n",
    "plt.plot(xdot_smooth, color='red')\n",
    "plt.plot(dxdt_truth, '--', color='black')"
   ]
  },
  {
   "cell_type": "code",
   "execution_count": null,
   "metadata": {},
   "outputs": [],
   "source": []
  },
  {
   "cell_type": "code",
   "execution_count": null,
   "metadata": {},
   "outputs": [],
   "source": [
    "padding = 40\n",
    "freq = 0.0001\n",
    "query = 'freq == ' + str(freq) + ' and padding == ' + str(padding)\n",
    "fname = dfq.query(query).fname.values[0]\n",
    "data = load_data(fname)\n",
    "\n",
    "fig = plt.figure()\n",
    "ax = fig.add_subplot(111)\n",
    "ax.plot(data['rmses'], data['errcorrs'], '.', color='gray')\n",
    "ax.plot(data['rmses_gamma'], data['errcorrs_gamma'], '.')\n",
    "ax.plot(data['rmses_gamma'], data['errcorrs_gamma'])\n",
    "goldgamma, opt_rmse, opt_errcorr = get_goldilocks_gamma(data)\n",
    "print(goldgamma)\n",
    "ax.plot(opt_rmse, opt_errcorr, '*')\n",
    "ax.set_xscale('log')\n",
    "ax.set_xlabel('log rmse')\n",
    "ax.set_ylabel('err corr')\n",
    "ax.set_title('freq: ' + str(freq) + ' padding: ' + str(padding))"
   ]
  },
  {
   "cell_type": "code",
   "execution_count": null,
   "metadata": {},
   "outputs": [],
   "source": [
    "r = pynumdiff.utils.simulate.sine(timeseries_length=timeseries_length, \n",
    "                                  noise_parameters=[0, noise], \n",
    "                                  dt=dt, \n",
    "                                  frequencies=[freq])\n",
    "\n",
    "x, x_truth, dxdt_truth, _ = r\n",
    "t = np.arange(0, timeseries_length, dt)\n",
    "\n",
    "goldgamma, opt_rmse, opt_errcorr = get_goldilocks_gamma(data)\n",
    "idxopt = np.argmin( np.abs(data['metadata']['gammas'] - goldgamma) )\n",
    "params = data['metadata']['params'][idxopt]\n",
    "print('optimizer params: ', params)\n",
    "x_smooth, xdot_smooth = pynumdiff.__dict__[method_parent].__dict__[method](x, dt, params)\n",
    "plt.plot(xdot_smooth, color='red')\n",
    "plt.plot(dxdt_truth, '--', color='black')"
   ]
  },
  {
   "cell_type": "code",
   "execution_count": null,
   "metadata": {},
   "outputs": [],
   "source": []
  },
  {
   "cell_type": "code",
   "execution_count": null,
   "metadata": {},
   "outputs": [],
   "source": []
  },
  {
   "cell_type": "code",
   "execution_count": null,
   "metadata": {},
   "outputs": [],
   "source": []
  },
  {
   "cell_type": "code",
   "execution_count": null,
   "metadata": {},
   "outputs": [],
   "source": []
  },
  {
   "cell_type": "code",
   "execution_count": null,
   "metadata": {},
   "outputs": [],
   "source": []
  },
  {
   "cell_type": "code",
   "execution_count": null,
   "metadata": {},
   "outputs": [],
   "source": []
  },
  {
   "cell_type": "code",
   "execution_count": null,
   "metadata": {},
   "outputs": [],
   "source": [
    "data['metadata']['params']"
   ]
  },
  {
   "cell_type": "code",
   "execution_count": null,
   "metadata": {},
   "outputs": [],
   "source": [
    "padding = 1\n",
    "fname = dfq[dfq.padding==padding].fname.values[0]\n",
    "data = load_data(fname)\n",
    "\n",
    "fig = plt.figure()\n",
    "ax = fig.add_subplot(111)\n",
    "ax.plot(data['rmses'], data['errcorrs'], '.', color='gray')\n",
    "ax.plot(data['rmses_gamma'], data['errcorrs_gamma'], '.')\n",
    "ax.plot(data['rmses_gamma'], data['errcorrs_gamma'])\n",
    "goldgamma, opt_rmse, opt_errcorr = get_goldilocks_gamma(data)\n",
    "print(goldgamma)\n",
    "ax.plot(opt_rmse, opt_errcorr, '*')\n",
    "ax.set_xscale('log')\n",
    "ax.set_xlabel('log rmse')\n",
    "ax.set_ylabel('err corr')\n",
    "ax.set_title('padding: ' + str(padding))"
   ]
  },
  {
   "cell_type": "code",
   "execution_count": null,
   "metadata": {},
   "outputs": [],
   "source": [
    "data['metadata']['params']"
   ]
  },
  {
   "cell_type": "code",
   "execution_count": null,
   "metadata": {},
   "outputs": [],
   "source": [
    "data['errcorrs_gamma']"
   ]
  },
  {
   "cell_type": "code",
   "execution_count": null,
   "metadata": {},
   "outputs": [],
   "source": [
    "paramset = run_pareto_plot.get_params_for_method('savgoldiff', 'linear_model')"
   ]
  },
  {
   "cell_type": "code",
   "execution_count": null,
   "metadata": {},
   "outputs": [],
   "source": [
    "paramset"
   ]
  },
  {
   "cell_type": "code",
   "execution_count": null,
   "metadata": {},
   "outputs": [],
   "source": []
  },
  {
   "cell_type": "code",
   "execution_count": null,
   "metadata": {},
   "outputs": [],
   "source": []
  },
  {
   "cell_type": "code",
   "execution_count": null,
   "metadata": {},
   "outputs": [],
   "source": [
    "padding = 5\n",
    "fname = dfq[dfq.padding==padding].fname.values[0]\n",
    "data = load_data(fname)\n",
    "\n",
    "fig = plt.figure()\n",
    "ax = fig.add_subplot(111)\n",
    "ax.plot(data['rmses'], data['errcorrs'], '.', color='gray')\n",
    "ax.plot(data['rmses_gamma'], data['errcorrs_gamma'], '.')\n",
    "ax.plot(data['rmses_gamma'], data['errcorrs_gamma'])\n",
    "goldgamma, opt_rmse, opt_errcorr = get_goldilocks_gamma(data)\n",
    "print(goldgamma)\n",
    "ax.plot(opt_rmse, opt_errcorr, '*')\n",
    "ax.set_xscale('log')\n",
    "ax.set_xlabel('log rmse')\n",
    "ax.set_ylabel('err corr')\n",
    "ax.set_title('padding: ' + str(padding))"
   ]
  },
  {
   "cell_type": "code",
   "execution_count": null,
   "metadata": {},
   "outputs": [],
   "source": []
  },
  {
   "cell_type": "code",
   "execution_count": null,
   "metadata": {},
   "outputs": [],
   "source": []
  },
  {
   "cell_type": "code",
   "execution_count": null,
   "metadata": {},
   "outputs": [],
   "source": [
    "freqs = []\n",
    "goldgammas = []"
   ]
  },
  {
   "cell_type": "code",
   "execution_count": null,
   "metadata": {},
   "outputs": [],
   "source": [
    "for idx in dfq.index:\n",
    "    row = dfq.loc[idx]\n",
    "    freqs.append(row.freq)\n",
    "    data = load_data(row.fname)\n",
    "    goldgamma, opt_rmse, opt_errcorr = get_goldilocks_gamma(data)\n",
    "    goldgammas.append(goldgamma)"
   ]
  },
  {
   "cell_type": "code",
   "execution_count": null,
   "metadata": {},
   "outputs": [],
   "source": [
    "freqs"
   ]
  },
  {
   "cell_type": "code",
   "execution_count": null,
   "metadata": {},
   "outputs": [],
   "source": [
    "goldgammas"
   ]
  },
  {
   "cell_type": "code",
   "execution_count": null,
   "metadata": {},
   "outputs": [],
   "source": [
    "idx = 6"
   ]
  },
  {
   "cell_type": "code",
   "execution_count": null,
   "metadata": {},
   "outputs": [],
   "source": [
    "data = load_data(dfq.fname.values[idx])"
   ]
  },
  {
   "cell_type": "code",
   "execution_count": null,
   "metadata": {},
   "outputs": [],
   "source": [
    "data"
   ]
  },
  {
   "cell_type": "code",
   "execution_count": null,
   "metadata": {},
   "outputs": [],
   "source": [
    "fig = plt.figure()\n",
    "ax = fig.add_subplot(111)\n",
    "ax.plot(data['rmses'], data['errcorrs'], '.', color='gray')\n",
    "ax.plot(data['rmses_gamma'], data['errcorrs_gamma'], '.')\n",
    "ax.plot(data['rmses_gamma'], data['errcorrs_gamma'])\n",
    "goldgamma, opt_rmse, opt_errcorr = get_goldilocks_gamma(data)\n",
    "print(goldgamma)\n",
    "ax.plot(opt_rmse, opt_errcorr, '*')\n",
    "ax.set_xscale('log')"
   ]
  },
  {
   "cell_type": "code",
   "execution_count": null,
   "metadata": {},
   "outputs": [],
   "source": [
    "data['metadata']['gammas']"
   ]
  },
  {
   "cell_type": "code",
   "execution_count": null,
   "metadata": {},
   "outputs": [],
   "source": []
  },
  {
   "cell_type": "code",
   "execution_count": null,
   "metadata": {},
   "outputs": [],
   "source": [
    "\n",
    "freq = freqs[idx]\n",
    "\n",
    "frequencies = [freq]\n",
    "\n",
    "method_parent = 'linear_model'\n",
    "method = 'savgoldiff'\n",
    "\n",
    "\n",
    "r = pynumdiff.utils.simulate.sine(timeseries_length=timeseries_length, \n",
    "                                  noise_parameters=[0, noise], \n",
    "                                  dt=dt, \n",
    "                                  frequencies=frequencies)\n",
    "\n",
    "x, x_truth, dxdt_truth, _ = r\n",
    "t = np.arange(0, timeseries_length, dt)\n",
    "\n",
    "goldgamma, opt_rmse, opt_errcorr = get_goldilocks_gamma(data)\n",
    "idxopt = np.argmin( np.abs(data['metadata']['gammas'] - goldgamma) )\n",
    "tvgamma = goldgamma\n",
    "params = data['metadata']['params'][idxopt]\n",
    "print('optimizer params: ', params)\n",
    "x_smooth, xdot_smooth = pynumdiff.__dict__[method_parent].__dict__[method](x, dt, params)\n",
    "plt.plot(xdot_smooth, color='red')\n",
    "rmse = pynumdiff.utils.evaluate.rmse(xdot_smooth, dxdt_truth, padding='auto')\n",
    "errcorr = pynumdiff.utils.evaluate.error_correlation(xdot_smooth, dxdt_truth, padding='auto')\n",
    "print(opt_rmse, opt_errcorr)\n",
    "print(rmse, errcorr)\n",
    "\n",
    "\n",
    "tvgamma = get_gamma(dt, freq)\n",
    "params, v = pynumdiff.optimize.__dict__[method_parent].__dict__[method](x, dt, tvgamma=tvgamma)\n",
    "print('optimizer params: ', params)\n",
    "x_smooth, xdot_smooth = pynumdiff.__dict__[method_parent].__dict__[method](x, dt, params)\n",
    "plt.plot(xdot_smooth, color='purple')\n",
    "rmse = pynumdiff.utils.evaluate.rmse(xdot_smooth, dxdt_truth, padding='auto')\n",
    "errcorr = pynumdiff.utils.evaluate.error_correlation(xdot_smooth, dxdt_truth, padding='auto')\n",
    "print(rmse, errcorr)\n",
    "\n",
    "\n",
    "plt.plot(dxdt_truth, '--', color='black')"
   ]
  },
  {
   "cell_type": "code",
   "execution_count": null,
   "metadata": {},
   "outputs": [],
   "source": [
    "# look at histogram of errors"
   ]
  },
  {
   "cell_type": "code",
   "execution_count": null,
   "metadata": {},
   "outputs": [],
   "source": [
    "tvgamma = get_gamma(dt, freq)\n",
    "params, v = pynumdiff.optimize.__dict__[method_parent].__dict__[method](x, dt, tvgamma=tvgamma)\n",
    "print('optimizer params: ', params)\n",
    "x_smooth, xdot_smooth = pynumdiff.__dict__[method_parent].__dict__[method](x, dt, params)\n",
    "\n",
    "padding = int(0.0025*len(x))\n",
    "errors = (xdot_smooth[padding:-padding] - dxdt_truth[padding:-padding])\n",
    "plt.plot(dxdt_truth[padding:-padding], errors, '.', color='black', markersize=2)\n",
    "r = scipy.stats.linregress(dxdt_truth[padding:-padding], errors)\n",
    "print('rsq: ', r[2]**2)\n",
    "print('rmse: ', np.sqrt(np.mean(errors**2) ) )"
   ]
  },
  {
   "cell_type": "code",
   "execution_count": null,
   "metadata": {},
   "outputs": [],
   "source": [
    "goldgamma, opt_rmse, opt_errcorr = get_goldilocks_gamma(data)\n",
    "idxopt = np.argmin( np.abs(data['metadata']['gammas'] - goldgamma) )\n",
    "tvgamma = goldgamma\n",
    "params = data['metadata']['params'][idxopt]\n",
    "print('optimizer params: ', params)\n",
    "x_smooth, xdot_smooth = pynumdiff.__dict__[method_parent].__dict__[method](x, dt, params)\n",
    "\n",
    "padding = int(0.0025*len(x))\n",
    "errors = (xdot_smooth[padding:-padding] - dxdt_truth[padding:-padding])\n",
    "plt.plot(dxdt_truth[padding:-padding], errors, '.', color='black', markersize=2)\n",
    "r = scipy.stats.linregress(dxdt_truth[padding:-padding], errors)\n",
    "print('rsq: ', r[2]**2)\n",
    "print('rmse: ', np.sqrt(np.mean(errors**2) ) )"
   ]
  },
  {
   "cell_type": "code",
   "execution_count": null,
   "metadata": {},
   "outputs": [],
   "source": []
  },
  {
   "cell_type": "code",
   "execution_count": null,
   "metadata": {},
   "outputs": [],
   "source": []
  },
  {
   "cell_type": "code",
   "execution_count": null,
   "metadata": {},
   "outputs": [],
   "source": []
  },
  {
   "cell_type": "code",
   "execution_count": null,
   "metadata": {},
   "outputs": [],
   "source": []
  },
  {
   "cell_type": "code",
   "execution_count": null,
   "metadata": {},
   "outputs": [],
   "source": [
    "for params in data['metadata']['params']:\n",
    "    rmse, errcorr = run_pareto_plot.get_rmse_errcorr_for_params(x, x_truth, dxdt_truth, dt, method_parent, method, params)\n",
    "    print(rmse, errcorr)"
   ]
  },
  {
   "cell_type": "code",
   "execution_count": null,
   "metadata": {},
   "outputs": [],
   "source": [
    "get_goldilocks_gamma(data)"
   ]
  },
  {
   "cell_type": "code",
   "execution_count": null,
   "metadata": {},
   "outputs": [],
   "source": []
  },
  {
   "cell_type": "code",
   "execution_count": null,
   "metadata": {},
   "outputs": [],
   "source": []
  },
  {
   "cell_type": "code",
   "execution_count": null,
   "metadata": {},
   "outputs": [],
   "source": []
  },
  {
   "cell_type": "code",
   "execution_count": null,
   "metadata": {},
   "outputs": [],
   "source": []
  },
  {
   "cell_type": "code",
   "execution_count": null,
   "metadata": {},
   "outputs": [],
   "source": [
    "idx = np.argmin(np.abs(np.array(data['metadata']['gammas']) - 40))\n",
    "print(data['rmses_gamma'][idx], data['errcorrs_gamma'][idx])\n"
   ]
  },
  {
   "cell_type": "code",
   "execution_count": null,
   "metadata": {},
   "outputs": [],
   "source": []
  },
  {
   "cell_type": "code",
   "execution_count": null,
   "metadata": {},
   "outputs": [],
   "source": []
  },
  {
   "cell_type": "code",
   "execution_count": null,
   "metadata": {},
   "outputs": [],
   "source": []
  },
  {
   "cell_type": "code",
   "execution_count": null,
   "metadata": {},
   "outputs": [],
   "source": []
  },
  {
   "cell_type": "code",
   "execution_count": null,
   "metadata": {},
   "outputs": [],
   "source": [
    "goldgammas"
   ]
  },
  {
   "cell_type": "code",
   "execution_count": null,
   "metadata": {},
   "outputs": [],
   "source": [
    "get_gamma(dt, 0.0001)"
   ]
  },
  {
   "cell_type": "code",
   "execution_count": null,
   "metadata": {},
   "outputs": [],
   "source": [
    "plt.plot(np.log(freqs), np.log(goldgammas), '.')"
   ]
  },
  {
   "cell_type": "code",
   "execution_count": null,
   "metadata": {},
   "outputs": [],
   "source": [
    "plt.plot(np.log(freqs), np.log(goldgammas), '.')"
   ]
  },
  {
   "cell_type": "code",
   "execution_count": null,
   "metadata": {},
   "outputs": [],
   "source": [
    "np.log(goldgammas)"
   ]
  },
  {
   "cell_type": "code",
   "execution_count": null,
   "metadata": {},
   "outputs": [],
   "source": [
    "# rmse / errcorr for low freq for goldgamma on same trajectory?"
   ]
  },
  {
   "cell_type": "code",
   "execution_count": null,
   "metadata": {},
   "outputs": [],
   "source": [
    "freq = 0.0001\n",
    "query = 'noise == ' + str(noise) + ' and dt == ' + str(dt) + ' and timeseries_length == ' + str(length) + ' and freq == ' + str(freq)\n",
    "dfq = df.query(query)"
   ]
  },
  {
   "cell_type": "code",
   "execution_count": null,
   "metadata": {},
   "outputs": [],
   "source": [
    "dfq"
   ]
  },
  {
   "cell_type": "code",
   "execution_count": null,
   "metadata": {},
   "outputs": [],
   "source": []
  },
  {
   "cell_type": "code",
   "execution_count": null,
   "metadata": {},
   "outputs": [],
   "source": [
    "data['errcorrs_gamma']"
   ]
  },
  {
   "cell_type": "code",
   "execution_count": null,
   "metadata": {},
   "outputs": [],
   "source": [
    "data['rmses_gamma']"
   ]
  },
  {
   "cell_type": "code",
   "execution_count": null,
   "metadata": {
    "scrolled": true
   },
   "outputs": [],
   "source": [
    "fig = plt.figure()\n",
    "ax = fig.add_subplot(111)\n",
    "ax.plot(data['rmses'], data['errcorrs'], '.', color='gray')\n",
    "ax.plot(data['rmses_gamma'], data['errcorrs_gamma'], '.')\n",
    "goldgamma, opt_rmse, opt_errcorr = get_goldilocks_gamma(data)\n",
    "print(goldgamma)\n",
    "ax.plot(opt_rmse, opt_errcorr, '*')\n",
    "ax.set_xscale('log')"
   ]
  },
  {
   "cell_type": "code",
   "execution_count": null,
   "metadata": {},
   "outputs": [],
   "source": [
    "get_gamma(dt, freq)"
   ]
  },
  {
   "cell_type": "code",
   "execution_count": null,
   "metadata": {},
   "outputs": [],
   "source": [
    "data['metadata']['gammas']"
   ]
  },
  {
   "cell_type": "code",
   "execution_count": null,
   "metadata": {},
   "outputs": [],
   "source": []
  },
  {
   "cell_type": "code",
   "execution_count": null,
   "metadata": {},
   "outputs": [],
   "source": []
  },
  {
   "cell_type": "code",
   "execution_count": null,
   "metadata": {},
   "outputs": [],
   "source": []
  },
  {
   "cell_type": "code",
   "execution_count": null,
   "metadata": {},
   "outputs": [],
   "source": [
    "method_parent = 'linear_model'\n",
    "method = 'savgoldiff'\n",
    "\n",
    "r = pynumdiff.utils.simulate.sine(timeseries_length=timeseries_length, \n",
    "                                  noise_parameters=[0, noise], \n",
    "                                  dt=dt, \n",
    "                                  frequencies=frequencies)\n",
    "\n",
    "x, x_truth, dxdt_truth, _ = r\n",
    "t = np.arange(0, timeseries_length, dt)\n",
    "\n",
    "tvgamma = 100\n",
    "params, v = pynumdiff.optimize.__dict__[method_parent].__dict__[method](x, dt, tvgamma=tvgamma, padding=10)\n",
    "print('optimizer params: ', params)\n",
    "x_smooth, xdot_smooth = pynumdiff.__dict__[method_parent].__dict__[method](x, dt, params)\n",
    "plt.plot(xdot_smooth, color='red')\n",
    "plt.plot(dxdt_truth, '--', color='black')"
   ]
  },
  {
   "cell_type": "code",
   "execution_count": null,
   "metadata": {},
   "outputs": [],
   "source": []
  },
  {
   "cell_type": "code",
   "execution_count": null,
   "metadata": {},
   "outputs": [],
   "source": []
  }
 ],
 "metadata": {
  "kernelspec": {
   "display_name": "Python 3",
   "language": "python",
   "name": "python3"
  },
  "language_info": {
   "codemirror_mode": {
    "name": "ipython",
    "version": 3
   },
   "file_extension": ".py",
   "mimetype": "text/x-python",
   "name": "python",
   "nbconvert_exporter": "python",
   "pygments_lexer": "ipython3",
   "version": "3.5.2"
  }
 },
 "nbformat": 4,
 "nbformat_minor": 2
}
