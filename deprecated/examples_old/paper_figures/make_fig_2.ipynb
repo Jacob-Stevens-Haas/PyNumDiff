{
 "cells": [
  {
   "cell_type": "code",
   "execution_count": 1,
   "metadata": {},
   "outputs": [
    {
     "name": "stderr",
     "output_type": "stream",
     "text": [
      "2020-10-22 09:53:10,357 [INFO] Generating grammar tables from /usr/lib/python3.5/lib2to3/Grammar.txt\n",
      "2020-10-22 09:53:10,381 [INFO] Generating grammar tables from /usr/lib/python3.5/lib2to3/PatternGrammar.txt\n",
      "/home/caveman/BMD2/lib/python3.5/site-packages/tensorflow/python/framework/dtypes.py:523: FutureWarning: Passing (type, 1) or '1type' as a synonym of type is deprecated; in a future version of numpy, it will be understood as (type, (1,)) / '(1,)type'.\n",
      "  _np_qint8 = np.dtype([(\"qint8\", np.int8, 1)])\n",
      "/home/caveman/BMD2/lib/python3.5/site-packages/tensorflow/python/framework/dtypes.py:524: FutureWarning: Passing (type, 1) or '1type' as a synonym of type is deprecated; in a future version of numpy, it will be understood as (type, (1,)) / '(1,)type'.\n",
      "  _np_quint8 = np.dtype([(\"quint8\", np.uint8, 1)])\n",
      "/home/caveman/BMD2/lib/python3.5/site-packages/tensorflow/python/framework/dtypes.py:525: FutureWarning: Passing (type, 1) or '1type' as a synonym of type is deprecated; in a future version of numpy, it will be understood as (type, (1,)) / '(1,)type'.\n",
      "  _np_qint16 = np.dtype([(\"qint16\", np.int16, 1)])\n",
      "/home/caveman/BMD2/lib/python3.5/site-packages/tensorflow/python/framework/dtypes.py:526: FutureWarning: Passing (type, 1) or '1type' as a synonym of type is deprecated; in a future version of numpy, it will be understood as (type, (1,)) / '(1,)type'.\n",
      "  _np_quint16 = np.dtype([(\"quint16\", np.uint16, 1)])\n",
      "/home/caveman/BMD2/lib/python3.5/site-packages/tensorflow/python/framework/dtypes.py:527: FutureWarning: Passing (type, 1) or '1type' as a synonym of type is deprecated; in a future version of numpy, it will be understood as (type, (1,)) / '(1,)type'.\n",
      "  _np_qint32 = np.dtype([(\"qint32\", np.int32, 1)])\n",
      "/home/caveman/BMD2/lib/python3.5/site-packages/tensorflow/python/framework/dtypes.py:532: FutureWarning: Passing (type, 1) or '1type' as a synonym of type is deprecated; in a future version of numpy, it will be understood as (type, (1,)) / '(1,)type'.\n",
      "  np_resource = np.dtype([(\"resource\", np.ubyte, 1)])\n"
     ]
    }
   ],
   "source": [
    "import numpy as np\n",
    "import matplotlib.pyplot as plt\n",
    "import pickle\n",
    "import os\n",
    "import pandas\n",
    "import pynumdiff\n",
    "import scipy.fftpack\n",
    "from IPython.display import display,SVG\n",
    "import figurefirst\n",
    "fifi = figurefirst\n",
    "\n",
    "import copy"
   ]
  },
  {
   "cell_type": "code",
   "execution_count": 2,
   "metadata": {},
   "outputs": [],
   "source": [
    "import run_pareto_plot"
   ]
  },
  {
   "cell_type": "code",
   "execution_count": 3,
   "metadata": {},
   "outputs": [],
   "source": [
    "def get_gamma(dt, freq, timeseries_length=None):\n",
    "    log_gamma = -1.59*np.log(freq) -0.71*np.log(dt) - 5.5\n",
    "    return np.exp(log_gamma)\n",
    "            \n",
    "\n",
    "    \n",
    "    if 0:\n",
    "        try:\n",
    "            if dt == 0.1:\n",
    "                log_g = np.log(freq)*(-1.5) -4\n",
    "            if dt == 0.01:\n",
    "                log_g = np.log(freq)*(-1.5) -1.8\n",
    "            if dt == 0.001:\n",
    "                log_g = np.log(freq)*(-1.5) -0.5\n",
    "\n",
    "            return np.exp(log_g)\n",
    "\n",
    "        except:\n",
    "            log_gs = []\n",
    "            for f in freq:\n",
    "                if dt == 0.1:\n",
    "                    log_gs.append(np.log(freq)*(-1.5) -4) \n",
    "                if dt == 0.01:\n",
    "                    log_gs.append(np.log(freq)*(-1.5) -1.8) \n",
    "                if dt == 0.001:\n",
    "                    log_gs.append(np.log(freq)*(-1.5) -0.5) \n",
    "\n",
    "            return np.exp(np.array(log_gs))\n",
    "            \n"
   ]
  },
  {
   "cell_type": "code",
   "execution_count": 4,
   "metadata": {},
   "outputs": [],
   "source": [
    "def load_data(fname):\n",
    "    f = open(fname, 'rb')\n",
    "    data = pickle.load(f)\n",
    "    f.close()\n",
    "    return data"
   ]
  },
  {
   "cell_type": "code",
   "execution_count": 5,
   "metadata": {},
   "outputs": [],
   "source": [
    "def get_goldilocks_gamma(data):\n",
    "    rmses = data['rmses_gamma']\n",
    "    errcorrs = data['errcorrs_gamma']\n",
    "\n",
    "    threshold = 0.25\n",
    "    while len(np.where(errcorrs<threshold)[0]) < 1:\n",
    "        threshold += 0.05\n",
    "        \n",
    "    idx_errcorr_okay = np.where(errcorrs<threshold)\n",
    "\n",
    "    idx_opt =  idx_errcorr_okay[0][np.argmin(rmses[idx_errcorr_okay])]\n",
    "\n",
    "    opt_rmse = rmses[idx_opt]\n",
    "    opt_errcorr = errcorrs[idx_opt]\n",
    "    \n",
    "    return data['metadata']['gammas'][idx_opt], opt_rmse, opt_errcorr, idx_opt\n",
    "\n",
    "def plot_direct_goldilocks_gamma(ax, data, color):\n",
    "    goldgamma, opt_rmse, opt_errcorr, idx_opt = get_goldilocks_gamma(data)\n",
    "\n",
    "    print('goldilocks gamma: ', goldgamma)\n",
    "    print('goldilocks rmse and errcorr: ', opt_rmse, opt_errcorr)\n",
    "    print('opt params: ', data['metadata']['params'][idx_opt])\n",
    "    \n",
    "    ax.plot(opt_rmse, opt_errcorr, '*', color=color, markersize=20, markeredgecolor='black')\n",
    "    \n",
    "    #ax.set_xlim(1e-1, 1e2)"
   ]
  },
  {
   "cell_type": "code",
   "execution_count": 6,
   "metadata": {},
   "outputs": [],
   "source": [
    "def plot_xdots(ax, data, x, dxdt_truth, t, color):\n",
    "    idx_best = np.argmin(data['rmses'])\n",
    "    params = run_pareto_plot.get_params_for_method('savgoldiff', 'linear_model')\n",
    "    print('best params: ', params[idx_best])\n",
    "    x_hat, xdot_hat = pynumdiff.linear_model.savgoldiff(x, dt, params[idx_best])\n",
    "    ax.plot(t, xdot_hat, color='gray', linewidth=4, zorder=-10, alpha=0.5)\n",
    "    \n",
    "    \n",
    "    goldgamma, _, _, goldidx = get_goldilocks_gamma(data)\n",
    "    params = data['metadata']['params']\n",
    "    print('goldilocks gamma params: ', params[goldidx])\n",
    "    x_hat, xdot_hat = pynumdiff.linear_model.savgoldiff(x, dt, params[goldidx])\n",
    "    ax.plot(t, xdot_hat, color=color, linewidth=1, zorder=-5)\n",
    "    \n",
    "    ax.plot(t, dxdt_truth, '--', color='black', zorder=-1, linewidth=0.5)\n",
    "    \n",
    "    ax.set_rasterization_zorder(0)"
   ]
  },
  {
   "cell_type": "code",
   "execution_count": 7,
   "metadata": {},
   "outputs": [],
   "source": [
    "def plot_example(example, x, x_truth, dxdt_truth, t, color, data, xlimits, ylimits, xticks, yticks):\n",
    "    layout = fifi.svg_to_axes.FigureLayout(figure_layout, autogenlayers=True, \n",
    "                                       make_mplfigures=True, hide_layers=[])\n",
    "\n",
    "    \n",
    "    ax_pareto = layout.axes[(example, 'pareto')]\n",
    "    ax_pos = layout.axes[(example, 'sine')]\n",
    "    ax_vel = layout.axes[(example, 'vel')]\n",
    "    \n",
    "    ax_pos.plot(t, x, '.', color='blue', zorder=-10, markersize=2)\n",
    "    ax_pos.set_rasterization_zorder(0)\n",
    "    ax_pos.plot(t, x_truth, '--', color='black', linewidth=0.5)\n",
    "    \n",
    "    plot_xdots(ax_vel, data, x, dxdt_truth, t, color)\n",
    "    \n",
    "    ax_pareto.plot((data['rmses']), data['errcorrs'], '.', color='gray', zorder=-10, markersize=2)\n",
    "    try:\n",
    "        ax_pareto.set_rasterization_zorder(0)\n",
    "    except:\n",
    "        print('could not rasterize')\n",
    "        \n",
    "    ax_pareto.plot((data['rmses_gamma']), data['errcorrs_gamma'], '.', color=color, zorder=1, markersize=2)\n",
    "    ax_pareto.plot((data['rmses_gamma']), data['errcorrs_gamma'], '-', color=color)\n",
    "    plot_direct_goldilocks_gamma(ax_pareto, data, color)\n",
    "    \n",
    "    ax_pos.set_xlim(xlimits['pos'][0], xlimits['pos'][-1])\n",
    "    ax_pos.set_ylim(ylimits['pos'][0], ylimits['pos'][-1])\n",
    "    \n",
    "    ax_vel.set_xlim(xlimits['vel'][0], xlimits['vel'][-1])\n",
    "    ax_vel.set_ylim(ylimits['vel'][0], ylimits['vel'][-1])\n",
    "    \n",
    "    if example == 'freq_1':\n",
    "        fifi.mpl_functions.adjust_spines(ax_pos, ['left'], \n",
    "                                     xticks=xticks['pos'], \n",
    "                                     yticks=yticks['pos'],\n",
    "                                     tick_length=2.5,\n",
    "                                     spine_locations={'left': 4, 'bottom': 4})\n",
    "        fifi.mpl_functions.adjust_spines(ax_vel, ['left', 'bottom'], \n",
    "                                     xticks=xticks['vel'], \n",
    "                                     yticks=yticks['vel'],\n",
    "                                     tick_length=2.5,\n",
    "                                     spine_locations={'left': 4, 'bottom': 4})\n",
    "    else:\n",
    "        fifi.mpl_functions.adjust_spines(ax_pos, ['left'], \n",
    "                                     xticks=xticks['pos'],\n",
    "                                     yticks=yticks['pos'],\n",
    "                                     tick_length=2.5,\n",
    "                                     spine_locations={'left': 4, 'bottom': 4})\n",
    "        fifi.mpl_functions.adjust_spines(ax_vel, ['left', 'bottom'], \n",
    "                                     xticks=xticks['vel'], \n",
    "                                     yticks=yticks['vel'],\n",
    "                                     tick_length=2.5,\n",
    "                                     spine_locations={'left': 4, 'bottom': 4})\n",
    "        \n",
    "    exp = int(np.log10(yticks['vel'][-1]))\n",
    "    ax_vel.set_yticklabels(['$-10^{'+str(exp)+'}$', '$0$', '$10^{'+str(exp)+'}$'])\n",
    "        \n",
    "    ax_pareto.set_xscale('log')\n",
    "    ax_pareto.minorticks_off()\n",
    "    ax_pareto.set_xlim(xlimits['pareto'][0], xlimits['pareto'][1])\n",
    "    ax_pareto.set_ylim(ylimits['pareto'][0], ylimits['pareto'][1])\n",
    "    \n",
    "    if example == 'freq_1':\n",
    "        fifi.mpl_functions.adjust_spines(ax_pareto, ['left', 'bottom'], \n",
    "                                         xticks=xticks['pareto'], \n",
    "                                         yticks=yticks['pareto'],\n",
    "                                         tick_length=2.5,\n",
    "                                         spine_locations={'left': 4, 'bottom': 4})\n",
    "    else:\n",
    "        fifi.mpl_functions.adjust_spines(ax_pareto, ['bottom'], \n",
    "                                         xticks=xticks['pareto'], \n",
    "                                         tick_length=2.5,\n",
    "                                         spine_locations={'bottom': 4})\n",
    "    \n",
    "    fifi.mpl_functions.set_fontsize(ax_pareto, 6)\n",
    "\n",
    "    layout.append_figure_to_layer(layout.figures[example], example, cleartarget=True)\n",
    "    layout.write_svg(figure_layout)"
   ]
  },
  {
   "cell_type": "code",
   "execution_count": 8,
   "metadata": {},
   "outputs": [],
   "source": [
    "figure_layout = 'fig_2.svg'"
   ]
  },
  {
   "cell_type": "code",
   "execution_count": 11,
   "metadata": {},
   "outputs": [
    {
     "name": "stdout",
     "output_type": "stream",
     "text": [
      "done simulating\n",
      "pareto_specific_sine_freq_data_varpadding/pareto_data_savgoldiff_linear_model_sine_1_0.5_0.01_4_auto.pickle\n",
      "pareto_specific_sine_freq_data_varpadding/pareto_data_savgoldiff_linear_model_sine_1_0.5_0.01_4_auto.pickle\n",
      "best params:  [8, 177, 4]\n",
      "goldilocks gamma params:  [10, 32, 33]\n",
      "goldilocks gamma:  0.08858667904100838\n",
      "goldilocks rmse and errcorr:  1.4015676863716802 0.08347298277381841\n",
      "opt params:  [10, 32, 33]\n"
     ]
    },
    {
     "name": "stderr",
     "output_type": "stream",
     "text": [
      "/home/caveman/BMD2/lib/python3.5/site-packages/scipy-1.1.0-py3.5-linux-x86_64.egg/scipy/signal/_arraytools.py:45: FutureWarning: Using a non-tuple sequence for multidimensional indexing is deprecated; use `arr[tuple(seq)]` instead of `arr[seq]`. In the future this will be interpreted as an array index, `arr[np.array(seq)]`, which will result either in an error or a different result.\n",
      "  b = a[a_slice]\n"
     ]
    },
    {
     "name": "stdout",
     "output_type": "stream",
     "text": [
      "Better RMSE than % randos: 88.12260536398468%\n",
      "Better Err Corr than % randos: 75.27823389892355%\n"
     ]
    },
    {
     "data": {
      "image/png": "[encoded data removed]",
      "text/plain": [
       "<Figure size 595.276x841.89 with 3 Axes>"
      ]
     },
     "metadata": {},
     "output_type": "display_data"
    },
    {
     "data": {
      "image/png": "[encoded data removed]",
      "text/plain": [
       "<Figure size 595.276x841.89 with 3 Axes>"
      ]
     },
     "metadata": {},
     "output_type": "display_data"
    },
    {
     "data": {
      "image/png": "[encoded data removed]",
      "text/plain": [
       "<Figure size 595.276x841.89 with 3 Axes>"
      ]
     },
     "metadata": {},
     "output_type": "display_data"
    },
    {
     "data": {
      "image/png": "[encoded data removed]",
      "text/plain": [
       "<Figure size 595.276x841.89 with 3 Axes>"
      ]
     },
     "metadata": {},
     "output_type": "display_data"
    },
    {
     "data": {
      "image/png": "[encoded data removed]",
      "text/plain": [
       "<Figure size 595.276x841.89 with 3 Axes>"
      ]
     },
     "metadata": {},
     "output_type": "display_data"
    },
    {
     "data": {
      "image/png": "[encoded data removed]",
      "text/plain": [
       "<Figure size 595.276x841.89 with 1 Axes>"
      ]
     },
     "metadata": {},
     "output_type": "display_data"
    }
   ],
   "source": [
    "# define problem\n",
    "example = 'freq_2'\n",
    "dt = 0.01\n",
    "noise = 0.5\n",
    "timeseries_length = 4\n",
    "problem = 'sine'\n",
    "freq = 1\n",
    "\n",
    "if timeseries_length < np.pi/freq:\n",
    "    raise ValueError()\n",
    "if dt > 1/freq/2.:\n",
    "    raise ValueError()\n",
    "    \n",
    "read_existing = True\n",
    "simdt = 0.0001\n",
    "color = 'dodgerblue'\n",
    "\n",
    "\n",
    "\n",
    "# define method\n",
    "method_parent = 'linear_model'\n",
    "method = 'savgoldiff'\n",
    "\n",
    "# define limits\n",
    "xlimits = {'pos': [0,4],\n",
    "           'vel': [0,4],\n",
    "           'pareto': [5e-1, 1e1]}\n",
    "ylimits = {'pos': [-0.2,2.2],\n",
    "           'vel': [-10, 10],\n",
    "           'pareto': [-.1, 1.1]}\n",
    "\n",
    "xticks = { 'pos': [0,2,4],\n",
    "           'vel': [0,2,4],\n",
    "           'pareto': [5e-1, 1e0, 1e1]}\n",
    "\n",
    "yticks = { 'pos': [0, 1, 2],\n",
    "           'vel': [-10, 0, 10],\n",
    "           'pareto': [0, 1]}\n",
    "\n",
    "r = pynumdiff.utils.simulate.sine(timeseries_length=timeseries_length, \n",
    "                                  noise_parameters=[0, noise], \n",
    "                                  dt=dt, \n",
    "                                  frequencies=[freq])\n",
    "\n",
    "x, x_truth, dxdt_truth, _ = r\n",
    "t = np.arange(0, timeseries_length, dt)\n",
    "print('done simulating')\n",
    "padding = 'auto'\n",
    "\n",
    "fname = run_pareto_plot.run_pareto_analysis_on_specific_sine(noise, dt, timeseries_length, problem, freq, method, method_parent, simdt=simdt, read_existing=read_existing, num_gammas=40, padding=padding)\n",
    "print(fname)\n",
    "\n",
    "data = load_data(fname)\n",
    "\n",
    "plot_example(example, x, x_truth, dxdt_truth, t, color, data, xlimits, ylimits, xticks, yticks) #0.0001_0.1_0.01_4_1\n",
    "\n",
    "freq_1_gg, opt_rmse, opt_errcorr, opt_idx = get_goldilocks_gamma(data)\n",
    "freq_1 = copy.copy(freq)\n",
    "freq_1_color = copy.copy(color)\n",
    "\n",
    "print('Better RMSE than % randos: ' + str(len(np.where( (opt_rmse<data['rmses']) )[0]) / len(data['rmses']) * 100) + '%')\n",
    "print('Better Err Corr than % randos: ' + str(len(np.where( (opt_errcorr<data['errcorrs']) )[0]) / len(data['errcorrs']) * 100) + '%')"
   ]
  },
  {
   "cell_type": "code",
   "execution_count": 12,
   "metadata": {},
   "outputs": [
    {
     "name": "stdout",
     "output_type": "stream",
     "text": [
      "done simulating\n",
      "pareto_specific_sine_freq_data_varpadding/pareto_data_savgoldiff_linear_model_sine_10_0.1_0.001_0.5_auto.pickle\n",
      "pareto_specific_sine_freq_data_varpadding/pareto_data_savgoldiff_linear_model_sine_10_0.1_0.001_0.5_auto.pickle\n",
      "best params:  [8, 143, 2]\n",
      "goldilocks gamma params:  [3, 32, 16]\n",
      "goldilocks gamma:  0.033598182862837875\n",
      "goldilocks rmse and errcorr:  3.977439911554012 0.05500761613603217\n",
      "opt params:  [3, 32, 16]\n"
     ]
    },
    {
     "name": "stderr",
     "output_type": "stream",
     "text": [
      "/home/caveman/BMD2/lib/python3.5/site-packages/scipy-1.1.0-py3.5-linux-x86_64.egg/scipy/signal/_arraytools.py:45: FutureWarning: Using a non-tuple sequence for multidimensional indexing is deprecated; use `arr[tuple(seq)]` instead of `arr[seq]`. In the future this will be interpreted as an array index, `arr[np.array(seq)]`, which will result either in an error or a different result.\n",
      "  b = a[a_slice]\n",
      "/home/caveman/BMD2/lib/python3.5/site-packages/matplotlib-2.2.2-py3.5-linux-x86_64.egg/matplotlib/axes/_base.py:3129: UserWarning: Attempted to set non-positive xlimits for log-scale axis; invalid limits will be ignored.\n",
      "  'Attempted to set non-positive xlimits for log-scale axis; '\n"
     ]
    },
    {
     "name": "stdout",
     "output_type": "stream",
     "text": [
      "Better RMSE than % randos: 94.92793285896735%\n",
      "Better Err Corr than % randos: 83.37894544791097%\n"
     ]
    },
    {
     "data": {
      "image/png": "[encoded data removed]",
      "text/plain": [
       "<Figure size 595.276x841.89 with 3 Axes>"
      ]
     },
     "metadata": {},
     "output_type": "display_data"
    },
    {
     "data": {
      "image/png": "[encoded data removed]",
      "text/plain": [
       "<Figure size 595.276x841.89 with 3 Axes>"
      ]
     },
     "metadata": {},
     "output_type": "display_data"
    },
    {
     "data": {
      "image/png": "[encoded data removed]",
      "text/plain": [
       "<Figure size 595.276x841.89 with 3 Axes>"
      ]
     },
     "metadata": {},
     "output_type": "display_data"
    },
    {
     "data": {
      "image/png": "[encoded data removed]",
      "text/plain": [
       "<Figure size 595.276x841.89 with 3 Axes>"
      ]
     },
     "metadata": {},
     "output_type": "display_data"
    },
    {
     "data": {
      "image/png": "[encoded data removed]",
      "text/plain": [
       "<Figure size 595.276x841.89 with 3 Axes>"
      ]
     },
     "metadata": {},
     "output_type": "display_data"
    },
    {
     "data": {
      "image/png": "[encoded data removed]",
      "text/plain": [
       "<Figure size 595.276x841.89 with 1 Axes>"
      ]
     },
     "metadata": {},
     "output_type": "display_data"
    }
   ],
   "source": [
    "# define problem\n",
    "example = 'freq_3'\n",
    "dt = 0.001\n",
    "noise = 0.1\n",
    "timeseries_length = 0.5\n",
    "problem = 'sine'\n",
    "freq = 10\n",
    "\n",
    "\n",
    "if timeseries_length < np.pi/freq:\n",
    "    raise ValueError()\n",
    "if dt > 1/freq/2.:\n",
    "    raise ValueError()\n",
    "    \n",
    "read_existing = True\n",
    "simdt = 0.0001\n",
    "color = 'forestgreen'\n",
    "\n",
    "# define method\n",
    "method_parent = 'linear_model'\n",
    "method = 'savgoldiff'\n",
    "\n",
    "# define limits\n",
    "xlimits = {'pos': [0,0.5],\n",
    "           'vel': [0,0.5],\n",
    "           'pareto': [0, 1e2]}\n",
    "ylimits = {'pos': [-0.2,2.2],\n",
    "           'vel': [-100, 100],\n",
    "           'pareto': [-.1, 1.1]}\n",
    "\n",
    "xticks = { 'pos': [0,.25, 0.5],\n",
    "           'vel': [0,.25, 0.5],\n",
    "           'pareto': [1e0, 1e1, 1e2]}\n",
    "\n",
    "yticks = { 'pos': [0, 1, 2],\n",
    "           'vel': [-100, 0, 100],\n",
    "           'pareto': [0, 1]}\n",
    "\n",
    "r = pynumdiff.utils.simulate.sine(timeseries_length=timeseries_length, \n",
    "                                  noise_parameters=[0, noise], \n",
    "                                  dt=dt, \n",
    "                                  frequencies=[freq])\n",
    "\n",
    "x, x_truth, dxdt_truth, _ = r\n",
    "t = np.arange(0, timeseries_length, dt)\n",
    "print('done simulating')\n",
    "padding = 'auto'\n",
    "\n",
    "fname = run_pareto_plot.run_pareto_analysis_on_specific_sine(noise, dt, timeseries_length, problem, freq, method, method_parent, simdt=simdt, read_existing=read_existing, num_gammas=40, padding=padding)\n",
    "print(fname)\n",
    "data = load_data(fname)\n",
    "\n",
    "plot_example(example, x, x_truth, dxdt_truth, t, color, data, xlimits, ylimits, xticks, yticks)\n",
    "\n",
    "freq_2_gg, opt_rmse, opt_errcorr, opt_idx = get_goldilocks_gamma(data)\n",
    "freq_2 = copy.copy(freq)\n",
    "freq_2_color = copy.copy(color)\n",
    "\n",
    "print('Better RMSE than % randos: ' + str(len(np.where( (opt_rmse<data['rmses']) )[0]) / len(data['rmses']) * 100) + '%')\n",
    "print('Better Err Corr than % randos: ' + str(len(np.where( (opt_errcorr<data['errcorrs']) )[0]) / len(data['errcorrs']) * 100) + '%')"
   ]
  },
  {
   "cell_type": "code",
   "execution_count": 13,
   "metadata": {
    "scrolled": true
   },
   "outputs": [
    {
     "name": "stdout",
     "output_type": "stream",
     "text": [
      "done simulating\n",
      "pareto_specific_sine_freq_data_varpadding/pareto_data_savgoldiff_linear_model_sine_0.01_0.1_0.1_100_auto.pickle\n",
      "pareto_specific_sine_freq_data_varpadding/pareto_data_savgoldiff_linear_model_sine_0.01_0.1_0.1_100_auto.pickle\n",
      "best params:  [5, 805, 31]\n",
      "goldilocks gamma params:  [1, 120, 55]\n",
      "goldilocks gamma:  78.47599703514625\n",
      "goldilocks rmse and errcorr:  0.003328879786912185 0.1471563328130401\n",
      "opt params:  [1, 120, 55]\n"
     ]
    },
    {
     "name": "stderr",
     "output_type": "stream",
     "text": [
      "/home/caveman/BMD2/lib/python3.5/site-packages/scipy-1.1.0-py3.5-linux-x86_64.egg/scipy/signal/_arraytools.py:45: FutureWarning: Using a non-tuple sequence for multidimensional indexing is deprecated; use `arr[tuple(seq)]` instead of `arr[seq]`. In the future this will be interpreted as an array index, `arr[np.array(seq)]`, which will result either in an error or a different result.\n",
      "  b = a[a_slice]\n"
     ]
    },
    {
     "name": "stdout",
     "output_type": "stream",
     "text": [
      "Better RMSE than % randos: 88.94362342638205%\n",
      "Better Err Corr than % randos: 43.56869184455391%\n"
     ]
    },
    {
     "data": {
      "image/png": "[encoded data removed]",
      "text/plain": [
       "<Figure size 595.276x841.89 with 3 Axes>"
      ]
     },
     "metadata": {},
     "output_type": "display_data"
    },
    {
     "data": {
      "image/png": "[encoded data removed]",
      "text/plain": [
       "<Figure size 595.276x841.89 with 3 Axes>"
      ]
     },
     "metadata": {},
     "output_type": "display_data"
    },
    {
     "data": {
      "image/png": "[encoded data removed]",
      "text/plain": [
       "<Figure size 595.276x841.89 with 3 Axes>"
      ]
     },
     "metadata": {},
     "output_type": "display_data"
    },
    {
     "data": {
      "image/png": "[encoded data removed]",
      "text/plain": [
       "<Figure size 595.276x841.89 with 3 Axes>"
      ]
     },
     "metadata": {},
     "output_type": "display_data"
    },
    {
     "data": {
      "image/png": "[encoded data removed]",
      "text/plain": [
       "<Figure size 595.276x841.89 with 3 Axes>"
      ]
     },
     "metadata": {},
     "output_type": "display_data"
    },
    {
     "data": {
      "image/png": "[encoded data removed]",
      "text/plain": [
       "<Figure size 595.276x841.89 with 1 Axes>"
      ]
     },
     "metadata": {},
     "output_type": "display_data"
    }
   ],
   "source": [
    "# define problem\n",
    "example = 'freq_1'\n",
    "dt = 0.1\n",
    "noise = 0.1\n",
    "timeseries_length = 100\n",
    "problem = 'sine'\n",
    "freq = 0.01\n",
    "\n",
    "\n",
    "if timeseries_length < 1/freq:\n",
    "    raise ValueError()\n",
    "if dt > 1/freq/2.:\n",
    "    raise ValueError()\n",
    "    \n",
    "read_existing = True\n",
    "simdt = 0.0001\n",
    "color = 'darkorchid'\n",
    "\n",
    "# define method\n",
    "method_parent = 'linear_model'\n",
    "method = 'savgoldiff'\n",
    "\n",
    "# define limits\n",
    "xlimits = {'pos': [0,100],\n",
    "           'vel': [0,100],\n",
    "           'pareto': [1e-3, 1e1]}\n",
    "ylimits = {'pos': [-0.2,2.2],\n",
    "           'vel': [-.1, .1],\n",
    "           'pareto': [-.1, 1.1]}\n",
    "\n",
    "xticks = { 'pos': [0, 50, 100],\n",
    "           'vel': [0, 50, 100],\n",
    "           'pareto': [1e-3, 1e-1, 1e1]}\n",
    "\n",
    "yticks = { 'pos': [0, 1, 2],\n",
    "           'vel': [-0.1, 0, 0.1],\n",
    "           'pareto': [0, 1]}\n",
    "\n",
    "r = pynumdiff.utils.simulate.sine(timeseries_length=timeseries_length, \n",
    "                                  noise_parameters=[0, noise], \n",
    "                                  dt=dt, \n",
    "                                  frequencies=[freq])\n",
    "\n",
    "x, x_truth, dxdt_truth, _ = r\n",
    "t = np.arange(0, timeseries_length, dt)\n",
    "print('done simulating')\n",
    "padding = 'auto'\n",
    "\n",
    "fname = run_pareto_plot.run_pareto_analysis_on_specific_sine(noise, dt, timeseries_length, problem, freq, method, method_parent, simdt=simdt, read_existing=read_existing, num_gammas=40, padding=padding)\n",
    "print(fname)\n",
    "data = load_data(fname)\n",
    "\n",
    "plot_example(example, x, x_truth, dxdt_truth, t, color, data, xlimits, ylimits, xticks, yticks)\n",
    "\n",
    "freq_3_gg, opt_rmse, opt_errcorr, opt_idx = get_goldilocks_gamma(data)\n",
    "freq_3 = copy.copy(freq)\n",
    "freq_3_color = copy.copy(color)\n",
    "\n",
    "print('Better RMSE than % randos: ' + str(len(np.where( (opt_rmse<data['rmses']) )[0]) / len(data['rmses']) * 100) + '%')\n",
    "print('Better Err Corr than % randos: ' + str(len(np.where( (opt_errcorr<data['errcorrs']) )[0]) / len(data['errcorrs']) * 100) + '%')"
   ]
  },
  {
   "cell_type": "code",
   "execution_count": 14,
   "metadata": {},
   "outputs": [
    {
     "name": "stdout",
     "output_type": "stream",
     "text": [
      "done simulating\n",
      "pareto_specific_sine_freq_data_varpadding/pareto_data_savgoldiff_linear_model_sine_100_0.1_0.001_0.05_auto.pickle\n",
      "pareto_specific_sine_freq_data_varpadding/pareto_data_savgoldiff_linear_model_sine_100_0.1_0.001_0.05_auto.pickle\n",
      "best params:  [7, 16, 3]\n",
      "goldilocks gamma params:  [9, 13, 3]\n",
      "goldilocks gamma:  0.0018329807108324375\n",
      "goldilocks rmse and errcorr:  90.40117359692111 0.00475724191375546\n",
      "opt params:  [9, 13, 3]\n"
     ]
    },
    {
     "name": "stderr",
     "output_type": "stream",
     "text": [
      "/home/caveman/BMD2/lib/python3.5/site-packages/scipy-1.1.0-py3.5-linux-x86_64.egg/scipy/signal/_arraytools.py:45: FutureWarning: Using a non-tuple sequence for multidimensional indexing is deprecated; use `arr[tuple(seq)]` instead of `arr[seq]`. In the future this will be interpreted as an array index, `arr[np.array(seq)]`, which will result either in an error or a different result.\n",
      "  b = a[a_slice]\n"
     ]
    },
    {
     "name": "stdout",
     "output_type": "stream",
     "text": [
      "Better RMSE than % randos: 97.11731435869368%\n",
      "Better Err Corr than % randos: 99.41616493340632%\n"
     ]
    },
    {
     "data": {
      "image/png": "[encoded data removed]",
      "text/plain": [
       "<Figure size 595.276x841.89 with 3 Axes>"
      ]
     },
     "metadata": {},
     "output_type": "display_data"
    },
    {
     "data": {
      "image/png": "[encoded data removed]",
      "text/plain": [
       "<Figure size 595.276x841.89 with 3 Axes>"
      ]
     },
     "metadata": {},
     "output_type": "display_data"
    },
    {
     "data": {
      "image/png": "[encoded data removed]",
      "text/plain": [
       "<Figure size 595.276x841.89 with 3 Axes>"
      ]
     },
     "metadata": {},
     "output_type": "display_data"
    },
    {
     "data": {
      "image/png": "[encoded data removed]",
      "text/plain": [
       "<Figure size 595.276x841.89 with 3 Axes>"
      ]
     },
     "metadata": {},
     "output_type": "display_data"
    },
    {
     "data": {
      "image/png": "[encoded data removed]",
      "text/plain": [
       "<Figure size 595.276x841.89 with 3 Axes>"
      ]
     },
     "metadata": {},
     "output_type": "display_data"
    },
    {
     "data": {
      "image/png": "[encoded data removed]",
      "text/plain": [
       "<Figure size 595.276x841.89 with 1 Axes>"
      ]
     },
     "metadata": {},
     "output_type": "display_data"
    }
   ],
   "source": [
    "# define problem\n",
    "example = 'freq_4'\n",
    "noise = 0.1\n",
    "dt = 0.001\n",
    "timeseries_length = 0.05\n",
    "problem = 'sine'\n",
    "freq = 100\n",
    "\n",
    "\n",
    "if timeseries_length < np.pi/freq:\n",
    "    raise ValueError()\n",
    "if dt > 1/freq/2.:\n",
    "    raise ValueError()\n",
    "    \n",
    "read_existing = True\n",
    "simdt = 0.0001\n",
    "color = 'peru'\n",
    "\n",
    "# define method\n",
    "method_parent = 'linear_model'\n",
    "method = 'savgoldiff'\n",
    "\n",
    "# define method\n",
    "xlimits = {'pos': [0,0.05],\n",
    "           'vel': [0,0.05],\n",
    "           'pareto': [1e1, 1e3]}\n",
    "ylimits = {'pos': [-0.2,2.2],\n",
    "           'vel': [-1000, 1000],\n",
    "           'pareto': [-.1, 1.1]}\n",
    "\n",
    "xticks = { 'pos': [0, 0.025, 0.05],\n",
    "           'vel': [0, 0.025, 0.05],\n",
    "           'pareto': [1e1, 1e2, 1e3]}\n",
    "\n",
    "yticks = { 'pos': [0, 1, 2],\n",
    "           'vel': [-1000, 0, 1000],\n",
    "           'pareto': [0, 1]}\n",
    "\n",
    "r = pynumdiff.utils.simulate.sine(timeseries_length=timeseries_length, \n",
    "                                  noise_parameters=[0, noise], \n",
    "                                  dt=dt, \n",
    "                                  frequencies=[freq])\n",
    "x, x_truth, dxdt_truth, _ = r\n",
    "t = np.arange(0, timeseries_length, dt)\n",
    "print('done simulating')\n",
    "padding = 'auto'\n",
    "\n",
    "fname = run_pareto_plot.run_pareto_analysis_on_specific_sine(noise, dt, timeseries_length, problem, freq, method, method_parent, simdt=simdt, read_existing=read_existing, num_gammas=40, padding=padding)\n",
    "print(fname)\n",
    "data = load_data(fname)\n",
    "\n",
    "plot_example(example, x, x_truth, dxdt_truth, t, color, data, xlimits, ylimits, xticks, yticks)\n",
    "\n",
    "freq_4_gg, opt_rmse, opt_errcorr, opt_idx = get_goldilocks_gamma(data)\n",
    "freq_4 = copy.copy(freq)\n",
    "freq_4_color = copy.copy(color)\n",
    "\n",
    "print('Better RMSE than % randos: ' + str(len(np.where( (opt_rmse<data['rmses']) )[0]) / len(data['rmses']) * 100) + '%')\n",
    "print('Better Err Corr than % randos: ' + str(len(np.where( (opt_errcorr<data['errcorrs']) )[0]) / len(data['errcorrs']) * 100) + '%')"
   ]
  },
  {
   "cell_type": "code",
   "execution_count": 15,
   "metadata": {},
   "outputs": [],
   "source": [
    "# make freq plots"
   ]
  },
  {
   "cell_type": "code",
   "execution_count": 8,
   "metadata": {},
   "outputs": [],
   "source": [
    "def get_filenames(path, contains, does_not_contain=['~', '.pyc']):\n",
    "    cmd = 'ls ' + '\"' + path + '\"'\n",
    "    ls = os.popen(cmd).read()\n",
    "    all_filelist = ls.split('\\n')\n",
    "    try:\n",
    "        all_filelist.remove('')\n",
    "    except:\n",
    "        pass\n",
    "    filelist = []\n",
    "    for i, filename in enumerate(all_filelist):\n",
    "        if contains in filename:\n",
    "            fileok = True\n",
    "            for nc in does_not_contain:\n",
    "                if nc in filename:\n",
    "                    fileok = False\n",
    "            if fileok:\n",
    "                filelist.append( os.path.join(path, filename) )\n",
    "    return filelist"
   ]
  },
  {
   "cell_type": "code",
   "execution_count": 9,
   "metadata": {},
   "outputs": [],
   "source": [
    "def get_freq_dt_noise_for_files(dirname, method, method_parent):\n",
    "    filenames = get_filenames(dirname, method)\n",
    "    freqs = []\n",
    "    dt = []\n",
    "    noises = []\n",
    "    fnames = []\n",
    "    paddings = []\n",
    "    timeseries_length = []\n",
    "    goldgammas = []\n",
    "    \n",
    "    for fname in filenames:\n",
    "        data = load_data(fname)\n",
    "        if method == data['metadata']['method']:\n",
    "            if method_parent == data['metadata']['method_parent']:\n",
    "                try:\n",
    "                    freqs.append(data['metadata']['freq'])\n",
    "                except:\n",
    "                    freqs.append(None)\n",
    "                dt.append(data['metadata']['dt'])\n",
    "                noises.append(data['metadata']['noise'])\n",
    "                fnames.append(fname)\n",
    "                paddings.append(data['metadata']['padding'])\n",
    "                timeseries_length.append(data['metadata']['timeseries_length'])\n",
    "                goldgammas.append(get_goldilocks_gamma(data)[0])\n",
    "                \n",
    "        \n",
    "    df = pandas.DataFrame({'freq': freqs,\n",
    "                           'dt': dt,\n",
    "                           'noise': noises,\n",
    "                           'fname': fnames,\n",
    "                           'padding': paddings,\n",
    "                           'timeseries_length': timeseries_length,\n",
    "                           'goldgammas': goldgammas})\n",
    "    return df"
   ]
  },
  {
   "cell_type": "code",
   "execution_count": 10,
   "metadata": {},
   "outputs": [],
   "source": [
    "dirname = 'pareto_sine_freq_data_varpadding'\n",
    "method = 'savgoldiff'\n",
    "method_parent = 'linear_model'\n",
    "df = get_freq_dt_noise_for_files(dirname, method, method_parent)"
   ]
  },
  {
   "cell_type": "code",
   "execution_count": null,
   "metadata": {},
   "outputs": [],
   "source": []
  },
  {
   "cell_type": "code",
   "execution_count": 11,
   "metadata": {},
   "outputs": [
    {
     "data": {
      "text/plain": [
       "array([4.0e+00, 1.0e+02, 1.0e+03, 5.0e+02, 2.5e+01, 2.0e-02, 1.0e+00,\n",
       "       5.0e+00])"
      ]
     },
     "execution_count": 11,
     "metadata": {},
     "output_type": "execute_result"
    }
   ],
   "source": [
    "df.timeseries_length.unique() "
   ]
  },
  {
   "cell_type": "code",
   "execution_count": 12,
   "metadata": {},
   "outputs": [],
   "source": [
    "def plot_gamma_vs_freq(ax, df, color, marker):\n",
    "    dfq = df[df.timeseries_length >= 1/df.freq]\n",
    "    dfq = dfq[dfq.dt <= 1/dfq.freq/2.]\n",
    "    print(len(dfq))\n",
    "          \n",
    "    ax.plot(dfq.freq.values + np.random.uniform(-.5, 0.5, len(dfq.freq.values))*np.abs(dfq.freq.values), \n",
    "            dfq.goldgammas.values + np.random.uniform(-0.5, 0.5, len(dfq.freq.values))*np.abs(dfq.goldgammas.values), \n",
    "            marker, color=color)\n",
    "    \n",
    "    dfq = df[df.timeseries_length < 1/df.freq]    \n",
    "    ax.plot(dfq.freq.values + np.random.uniform(-.5, 0.5, len(dfq.freq.values))*np.abs(dfq.freq.values), \n",
    "            dfq.goldgammas.values + np.random.uniform(-0.5, 0.5, len(dfq.freq.values))*np.abs(dfq.goldgammas.values), \n",
    "            '+', color=color)\n",
    "    \n",
    "    #dfq = dfq[dfq.dt > 1/dfq.freq/2.]\n",
    "    #ax.plot(dfq.freq.values + np.random.uniform(-.5, 0.5, len(dfq.freq.values))*np.abs(dfq.freq.values), \n",
    "    #        dfq.goldgammas.values + np.random.uniform(-0.5, 0.5, len(dfq.freq.values))*np.abs(dfq.goldgammas.values), \n",
    "    #        '+', color=color)"
   ]
  },
  {
   "cell_type": "code",
   "execution_count": 21,
   "metadata": {},
   "outputs": [
    {
     "name": "stdout",
     "output_type": "stream",
     "text": [
      "47\n",
      "43\n",
      "32\n"
     ]
    },
    {
     "data": {
      "image/png": "[encoded data removed]",
      "text/plain": [
       "<Figure size 595.276x841.89 with 3 Axes>"
      ]
     },
     "metadata": {},
     "output_type": "display_data"
    },
    {
     "data": {
      "image/png": "[encoded data removed]",
      "text/plain": [
       "<Figure size 595.276x841.89 with 3 Axes>"
      ]
     },
     "metadata": {},
     "output_type": "display_data"
    },
    {
     "data": {
      "image/png": "[encoded data removed]",
      "text/plain": [
       "<Figure size 595.276x841.89 with 3 Axes>"
      ]
     },
     "metadata": {},
     "output_type": "display_data"
    },
    {
     "data": {
      "image/png": "[encoded data removed]",
      "text/plain": [
       "<Figure size 595.276x841.89 with 3 Axes>"
      ]
     },
     "metadata": {},
     "output_type": "display_data"
    },
    {
     "data": {
      "image/png": "[encoded data removed]",
      "text/plain": [
       "<Figure size 595.276x841.89 with 3 Axes>"
      ]
     },
     "metadata": {},
     "output_type": "display_data"
    },
    {
     "data": {
      "image/png": "[encoded data removed]",
      "text/plain": [
       "<Figure size 595.276x841.89 with 1 Axes>"
      ]
     },
     "metadata": {},
     "output_type": "display_data"
    }
   ],
   "source": [
    "layout = fifi.svg_to_axes.FigureLayout(figure_layout, autogenlayers=True, \n",
    "                                   make_mplfigures=True, hide_layers=[])\n",
    "\n",
    "ax4 = layout.axes[('gamma_vs_freq_4', 'gamma_vs_freq')]\n",
    "\n",
    "df_dt1 = df.query('dt == 0.1')\n",
    "plot_gamma_vs_freq(ax4, df_dt1, \"coral\", \"^\")\n",
    "#plot_gamma_vs_freq(ax4, df_dt1[df_dt1.timeseries_length >= 1/df_dt1.freq], \"coral\", \"s\")\n",
    "\n",
    "df_dt01 = df.query('dt == 0.01')\n",
    "plot_gamma_vs_freq(ax4, df_dt01, \"orangered\", \"^\")\n",
    "#plot_gamma_vs_freq(ax4, df_dt01[df_dt01.timeseries_length >= 1/df_dt01.freq], \"orangered\", \"s\")\n",
    "\n",
    "df_dt001 = df.query('dt == 0.001')\n",
    "plot_gamma_vs_freq(ax4, df_dt001, \"firebrick\", \"^\")\n",
    "#plot_gamma_vs_freq(ax4, df_dt001[df_dt001.timeseries_length >= 1/df_dt001.freq], \"firebrick\", \"s\")\n",
    "\n",
    "\n",
    "# empirical relationship\n",
    "freqs = np.logspace(-4, 2)\n",
    "gg = get_gamma(0.1, freqs)\n",
    "gg = np.exp(-0.71*np.log(0.1) -1.59*np.log(freqs) -5.1)\n",
    "ax4.plot(freqs, gg, color='coral')\n",
    "\n",
    "freqs = np.logspace(-4, 2)\n",
    "gg = get_gamma(0.01, freqs)\n",
    "gg = np.exp(-0.71*np.log(0.01) -1.59*np.log(freqs) -5.1)\n",
    "ax4.plot(freqs, gg, color='orangered')\n",
    "\n",
    "freqs = np.logspace(-4, 2)\n",
    "gg = get_gamma(0.001, freqs)\n",
    "gg = np.exp(-0.71*np.log(0.001) -1.59*np.log(freqs) -5.1)\n",
    "ax4.plot(freqs, gg, color='firebrick')\n",
    "\n",
    "\n",
    "# plot stars\n",
    "try:\n",
    "    ax4.plot(freq_1, freq_1_gg, '*', color=freq_1_color, markersize=15, markeredgecolor='black')\n",
    "    ax4.plot(freq_2, freq_2_gg, '*', color=freq_2_color, markersize=15, markeredgecolor='black')\n",
    "    ax4.plot(freq_3, freq_3_gg, '*', color=freq_3_color, markersize=15, markeredgecolor='black')\n",
    "    ax4.plot(freq_4, freq_4_gg, '*', color=freq_4_color, markersize=15, markeredgecolor='black')\n",
    "except:\n",
    "    pass\n",
    "\n",
    "for ax in [ax4]:\n",
    "    ax.set_xscale('log')\n",
    "    ax.set_yscale('log')\n",
    "\n",
    "    ax.set_ylim(5e-6,5e4)\n",
    "    ax.set_xlim(5e-5,5e2)\n",
    "\n",
    "    ax.minorticks_off()\n",
    "\n",
    "    fifi.mpl_functions.adjust_spines(ax, ['left', 'bottom'], \n",
    "                                 tick_length=2.5,\n",
    "                                 xticks = [1e-4, 1e-3, 1e-2, 1e-1, 1e0, 1e1, 1e2],\n",
    "                                 yticks = [1e-5, 1e-4, 1e-3, 1e-2, 1e-1, 1e-0, 1e1, 1e2, 1e3, 1e4],\n",
    "                                 spine_locations={'left': 4, 'bottom': 4})\n",
    "\n",
    "\n",
    "    fifi.mpl_functions.set_fontsize(ax, 6)\n",
    "\n",
    "layout.append_figure_to_layer(layout.figures['gamma_vs_freq_4'], 'gamma_vs_freq_4', cleartarget=True)\n",
    "layout.write_svg(figure_layout)"
   ]
  },
  {
   "cell_type": "code",
   "execution_count": null,
   "metadata": {},
   "outputs": [],
   "source": []
  },
  {
   "cell_type": "code",
   "execution_count": null,
   "metadata": {},
   "outputs": [],
   "source": []
  },
  {
   "cell_type": "code",
   "execution_count": null,
   "metadata": {},
   "outputs": [],
   "source": []
  },
  {
   "cell_type": "code",
   "execution_count": null,
   "metadata": {},
   "outputs": [],
   "source": []
  },
  {
   "cell_type": "code",
   "execution_count": 13,
   "metadata": {},
   "outputs": [],
   "source": [
    "def get_correlation(df):\n",
    "    dfq = df[df.timeseries_length >= 1/df.freq]\n",
    "    dfq = dfq[dfq.dt <= 1/dfq.freq/2.]\n",
    "    return scipy.stats.linregress(np.log(dfq.freq), np.log(dfq.goldgammas) )"
   ]
  },
  {
   "cell_type": "code",
   "execution_count": 14,
   "metadata": {},
   "outputs": [
    {
     "data": {
      "text/plain": [
       "LinregressResult(slope=-1.4334325341119618, intercept=-1.862994541728351, rvalue=-0.8412545267905451, pvalue=7.65543155698327e-34, stderr=0.08409434819508815)"
      ]
     },
     "execution_count": 14,
     "metadata": {},
     "output_type": "execute_result"
    }
   ],
   "source": [
    "get_correlation(df)"
   ]
  },
  {
   "cell_type": "code",
   "execution_count": null,
   "metadata": {},
   "outputs": [],
   "source": []
  },
  {
   "cell_type": "code",
   "execution_count": 15,
   "metadata": {},
   "outputs": [
    {
     "data": {
      "text/plain": [
       "LinregressResult(slope=-1.9913856497531228, intercept=-4.33086285376251, rvalue=-0.9013648341384677, pvalue=5.7623532800506366e-18, stderr=0.14262548166640895)"
      ]
     },
     "execution_count": 15,
     "metadata": {},
     "output_type": "execute_result"
    }
   ],
   "source": [
    "df_dt01 = df.query('dt == 0.1')\n",
    "get_correlation(df_dt01)"
   ]
  },
  {
   "cell_type": "code",
   "execution_count": 16,
   "metadata": {},
   "outputs": [
    {
     "data": {
      "text/plain": [
       "LinregressResult(slope=-1.5464072723061768, intercept=-1.5091924759824296, rvalue=-0.9224065535067499, pvalue=1.5362600319581014e-18, stderr=0.10112178229830371)"
      ]
     },
     "execution_count": 16,
     "metadata": {},
     "output_type": "execute_result"
    }
   ],
   "source": [
    "df_dt01 = df.query('dt == 0.01')\n",
    "get_correlation(df_dt01)"
   ]
  },
  {
   "cell_type": "code",
   "execution_count": 17,
   "metadata": {},
   "outputs": [
    {
     "data": {
      "text/plain": [
       "LinregressResult(slope=-1.2922873220787832, intercept=-0.4481694917843402, rvalue=-0.8848637168699147, pvalue=1.8054205610312515e-11, stderr=0.124213313942216)"
      ]
     },
     "execution_count": 17,
     "metadata": {},
     "output_type": "execute_result"
    }
   ],
   "source": [
    "df_dt01 = df.query('dt == 0.001 ')\n",
    "get_correlation(df_dt01)"
   ]
  },
  {
   "cell_type": "code",
   "execution_count": null,
   "metadata": {},
   "outputs": [],
   "source": []
  },
  {
   "cell_type": "code",
   "execution_count": null,
   "metadata": {},
   "outputs": [],
   "source": []
  },
  {
   "cell_type": "code",
   "execution_count": null,
   "metadata": {},
   "outputs": [],
   "source": []
  },
  {
   "cell_type": "code",
   "execution_count": null,
   "metadata": {},
   "outputs": [],
   "source": []
  },
  {
   "cell_type": "code",
   "execution_count": null,
   "metadata": {},
   "outputs": [],
   "source": []
  },
  {
   "cell_type": "code",
   "execution_count": null,
   "metadata": {},
   "outputs": [],
   "source": []
  },
  {
   "cell_type": "code",
   "execution_count": null,
   "metadata": {},
   "outputs": [],
   "source": []
  },
  {
   "cell_type": "code",
   "execution_count": 21,
   "metadata": {},
   "outputs": [
    {
     "data": {
      "text/plain": [
       "Index(['dt', 'fname', 'freq', 'goldgammas', 'noise', 'padding',\n",
       "       'timeseries_length'],\n",
       "      dtype='object')"
      ]
     },
     "execution_count": 21,
     "metadata": {},
     "output_type": "execute_result"
    }
   ],
   "source": [
    "df.columns"
   ]
  },
  {
   "cell_type": "code",
   "execution_count": 22,
   "metadata": {},
   "outputs": [],
   "source": [
    "import statsmodels.formula.api as smf\n",
    "def show_ols(df, formula):\n",
    "    dfq = df[df.timeseries_length >= 1/df.freq]\n",
    "    dfq = dfq[dfq.dt <= 1/dfq.freq/2.]\n",
    "    #dfq = dfq[dfq.dt == 0.001]\n",
    "    \n",
    "    logdfq_dict = {}\n",
    "    for col in dfq.columns:\n",
    "        if col == 'padding' or col == 'fname':\n",
    "            logdfq_dict[col] = dfq[col]\n",
    "        else:\n",
    "            logdfq_dict[col] = np.log(dfq[col])\n",
    "    logdfq = pandas.DataFrame(logdfq_dict)\n",
    "    \n",
    "    est = smf.ols(formula=formula, data=logdfq).fit()\n",
    "    return est"
   ]
  },
  {
   "cell_type": "code",
   "execution_count": 23,
   "metadata": {},
   "outputs": [
    {
     "data": {
      "text/html": [
       "<table class=\"simpletable\">\n",
       "<tr>\n",
       "        <td>Model:</td>               <td>OLS</td>         <td>Adj. R-squared:</td>     <td>0.786</td> \n",
       "</tr>\n",
       "<tr>\n",
       "  <td>Dependent Variable:</td>    <td>goldgammas</td>           <td>AIC:</td>         <td>519.6230</td>\n",
       "</tr>\n",
       "<tr>\n",
       "         <td>Date:</td>        <td>2020-10-22 09:56</td>        <td>BIC:</td>         <td>533.6431</td>\n",
       "</tr>\n",
       "<tr>\n",
       "   <td>No. Observations:</td>         <td>122</td>         <td>Log-Likelihood:</td>    <td>-254.81</td>\n",
       "</tr>\n",
       "<tr>\n",
       "       <td>Df Model:</td>              <td>4</td>           <td>F-statistic:</td>       <td>111.9</td> \n",
       "</tr>\n",
       "<tr>\n",
       "     <td>Df Residuals:</td>           <td>117</td>       <td>Prob (F-statistic):</td> <td>4.86e-39</td>\n",
       "</tr>\n",
       "<tr>\n",
       "      <td>R-squared:</td>            <td>0.793</td>            <td>Scale:</td>         <td>3.9797</td> \n",
       "</tr>\n",
       "</table>\n",
       "<table class=\"simpletable\">\n",
       "<tr>\n",
       "          <td></td>           <th>Coef.</th>  <th>Std.Err.</th>     <th>t</th>     <th>P>|t|</th> <th>[0.025</th>  <th>0.975]</th> \n",
       "</tr>\n",
       "<tr>\n",
       "  <th>Intercept</th>         <td>-5.2595</td>  <td>0.7248</td>   <td>-7.2565</td> <td>0.0000</td> <td>-6.6950</td> <td>-3.8241</td>\n",
       "</tr>\n",
       "<tr>\n",
       "  <th>freq</th>              <td>-1.5563</td>  <td>0.0926</td>  <td>-16.8054</td> <td>0.0000</td> <td>-1.7396</td> <td>-1.3729</td>\n",
       "</tr>\n",
       "<tr>\n",
       "  <th>dt</th>                <td>-0.7434</td>  <td>0.1090</td>   <td>-6.8215</td> <td>0.0000</td> <td>-0.9593</td> <td>-0.5276</td>\n",
       "</tr>\n",
       "<tr>\n",
       "  <th>noise</th>             <td>0.1132</td>   <td>0.1148</td>   <td>0.9863</td>  <td>0.3260</td> <td>-0.1141</td> <td>0.3405</td> \n",
       "</tr>\n",
       "<tr>\n",
       "  <th>timeseries_length</th> <td>0.0972</td>   <td>0.0979</td>   <td>0.9926</td>  <td>0.3230</td> <td>-0.0967</td> <td>0.2912</td> \n",
       "</tr>\n",
       "</table>\n",
       "<table class=\"simpletable\">\n",
       "<tr>\n",
       "     <td>Omnibus:</td>    <td>53.352</td>  <td>Durbin-Watson:</td>    <td>1.409</td> \n",
       "</tr>\n",
       "<tr>\n",
       "  <td>Prob(Omnibus):</td>  <td>0.000</td> <td>Jarque-Bera (JB):</td> <td>115.905</td>\n",
       "</tr>\n",
       "<tr>\n",
       "       <td>Skew:</td>     <td>-1.881</td>     <td>Prob(JB):</td>      <td>0.000</td> \n",
       "</tr>\n",
       "<tr>\n",
       "     <td>Kurtosis:</td>    <td>5.940</td>  <td>Condition No.:</td>     <td>27</td>   \n",
       "</tr>\n",
       "</table>"
      ],
      "text/plain": [
       "<class 'statsmodels.iolib.summary2.Summary'>\n",
       "\"\"\"\n",
       "                 Results: Ordinary least squares\n",
       "==================================================================\n",
       "Model:               OLS              Adj. R-squared:     0.786   \n",
       "Dependent Variable:  goldgammas       AIC:                519.6230\n",
       "Date:                2020-10-22 09:56 BIC:                533.6431\n",
       "No. Observations:    122              Log-Likelihood:     -254.81 \n",
       "Df Model:            4                F-statistic:        111.9   \n",
       "Df Residuals:        117              Prob (F-statistic): 4.86e-39\n",
       "R-squared:           0.793            Scale:              3.9797  \n",
       "------------------------------------------------------------------\n",
       "                   Coef.  Std.Err.    t     P>|t|   [0.025  0.975]\n",
       "------------------------------------------------------------------\n",
       "Intercept         -5.2595   0.7248  -7.2565 0.0000 -6.6950 -3.8241\n",
       "freq              -1.5563   0.0926 -16.8054 0.0000 -1.7396 -1.3729\n",
       "dt                -0.7434   0.1090  -6.8215 0.0000 -0.9593 -0.5276\n",
       "noise              0.1132   0.1148   0.9863 0.3260 -0.1141  0.3405\n",
       "timeseries_length  0.0972   0.0979   0.9926 0.3230 -0.0967  0.2912\n",
       "------------------------------------------------------------------\n",
       "Omnibus:              53.352       Durbin-Watson:          1.409  \n",
       "Prob(Omnibus):        0.000        Jarque-Bera (JB):       115.905\n",
       "Skew:                 -1.881       Prob(JB):               0.000  \n",
       "Kurtosis:             5.940        Condition No.:          27     \n",
       "==================================================================\n",
       "\n",
       "\"\"\""
      ]
     },
     "execution_count": 23,
     "metadata": {},
     "output_type": "execute_result"
    }
   ],
   "source": [
    "formula = 'goldgammas ~ freq + dt + noise + timeseries_length'\n",
    "est = show_ols(df, formula)\n",
    "est.summary2()"
   ]
  },
  {
   "cell_type": "code",
   "execution_count": 30,
   "metadata": {
    "scrolled": false
   },
   "outputs": [
    {
     "data": {
      "text/html": [
       "<table class=\"simpletable\">\n",
       "<tr>\n",
       "        <td>Model:</td>               <td>OLS</td>         <td>Adj. R-squared:</td>     <td>0.786</td> \n",
       "</tr>\n",
       "<tr>\n",
       "  <td>Dependent Variable:</td>    <td>goldgammas</td>           <td>AIC:</td>         <td>517.6190</td>\n",
       "</tr>\n",
       "<tr>\n",
       "         <td>Date:</td>        <td>2020-09-02 15:30</td>        <td>BIC:</td>         <td>526.0311</td>\n",
       "</tr>\n",
       "<tr>\n",
       "   <td>No. Observations:</td>         <td>122</td>         <td>Log-Likelihood:</td>    <td>-255.81</td>\n",
       "</tr>\n",
       "<tr>\n",
       "       <td>Df Model:</td>              <td>2</td>           <td>F-statistic:</td>       <td>223.0</td> \n",
       "</tr>\n",
       "<tr>\n",
       "     <td>Df Residuals:</td>           <td>119</td>       <td>Prob (F-statistic):</td> <td>5.62e-41</td>\n",
       "</tr>\n",
       "<tr>\n",
       "      <td>R-squared:</td>            <td>0.789</td>            <td>Scale:</td>         <td>3.9774</td> \n",
       "</tr>\n",
       "</table>\n",
       "<table class=\"simpletable\">\n",
       "<tr>\n",
       "      <td></td>       <th>Coef.</th>  <th>Std.Err.</th>     <th>t</th>     <th>P>|t|</th> <th>[0.025</th>  <th>0.975]</th> \n",
       "</tr>\n",
       "<tr>\n",
       "  <th>Intercept</th> <td>-5.1072</td>  <td>0.5156</td>   <td>-9.9045</td> <td>0.0000</td> <td>-6.1282</td> <td>-4.0861</td>\n",
       "</tr>\n",
       "<tr>\n",
       "  <th>freq</th>      <td>-1.6062</td>  <td>0.0761</td>  <td>-21.1158</td> <td>0.0000</td> <td>-1.7568</td> <td>-1.4556</td>\n",
       "</tr>\n",
       "<tr>\n",
       "  <th>dt</th>        <td>-0.7106</td>  <td>0.1046</td>   <td>-6.7920</td> <td>0.0000</td> <td>-0.9178</td> <td>-0.5035</td>\n",
       "</tr>\n",
       "</table>\n",
       "<table class=\"simpletable\">\n",
       "<tr>\n",
       "     <td>Omnibus:</td>    <td>58.746</td>  <td>Durbin-Watson:</td>    <td>1.388</td> \n",
       "</tr>\n",
       "<tr>\n",
       "  <td>Prob(Omnibus):</td>  <td>0.000</td> <td>Jarque-Bera (JB):</td> <td>139.388</td>\n",
       "</tr>\n",
       "<tr>\n",
       "       <td>Skew:</td>     <td>-2.034</td>     <td>Prob(JB):</td>      <td>0.000</td> \n",
       "</tr>\n",
       "<tr>\n",
       "     <td>Kurtosis:</td>    <td>6.298</td>  <td>Condition No.:</td>     <td>14</td>   \n",
       "</tr>\n",
       "</table>"
      ],
      "text/plain": [
       "<class 'statsmodels.iolib.summary2.Summary'>\n",
       "\"\"\"\n",
       "                 Results: Ordinary least squares\n",
       "=================================================================\n",
       "Model:              OLS              Adj. R-squared:     0.786   \n",
       "Dependent Variable: goldgammas       AIC:                517.6190\n",
       "Date:               2020-09-02 15:30 BIC:                526.0311\n",
       "No. Observations:   122              Log-Likelihood:     -255.81 \n",
       "Df Model:           2                F-statistic:        223.0   \n",
       "Df Residuals:       119              Prob (F-statistic): 5.62e-41\n",
       "R-squared:          0.789            Scale:              3.9774  \n",
       "------------------------------------------------------------------\n",
       "              Coef.   Std.Err.     t      P>|t|    [0.025   0.975]\n",
       "------------------------------------------------------------------\n",
       "Intercept    -5.1072    0.5156   -9.9045  0.0000  -6.1282  -4.0861\n",
       "freq         -1.6062    0.0761  -21.1158  0.0000  -1.7568  -1.4556\n",
       "dt           -0.7106    0.1046   -6.7920  0.0000  -0.9178  -0.5035\n",
       "-----------------------------------------------------------------\n",
       "Omnibus:             58.746       Durbin-Watson:          1.388  \n",
       "Prob(Omnibus):       0.000        Jarque-Bera (JB):       139.388\n",
       "Skew:                -2.034       Prob(JB):               0.000  \n",
       "Kurtosis:            6.298        Condition No.:          14     \n",
       "=================================================================\n",
       "\n",
       "\"\"\""
      ]
     },
     "execution_count": 30,
     "metadata": {},
     "output_type": "execute_result"
    }
   ],
   "source": [
    "formula = 'goldgammas ~ freq + dt'\n",
    "est = show_ols(df, formula)\n",
    "est.summary2()"
   ]
  },
  {
   "cell_type": "markdown",
   "metadata": {},
   "source": [
    "# Try all combinations for statsmodel"
   ]
  },
  {
   "cell_type": "code",
   "execution_count": 24,
   "metadata": {},
   "outputs": [],
   "source": [
    "import statsmodels.formula.api as smf\n",
    "def show_ols(df, formula):\n",
    "    dfq = df[df.timeseries_length >= 1/df.freq]\n",
    "    dfq = dfq[dfq.dt <= 1/dfq.freq/2.]\n",
    "    #dfq = dfq[dfq.dt == 0.001]\n",
    "    \n",
    "    log_cols = []\n",
    "    \n",
    "    logdfq_dict = {}\n",
    "    for col in dfq.columns:\n",
    "        if col == 'padding' or col == 'fname':\n",
    "            logdfq_dict[col] = dfq[col]\n",
    "        else:\n",
    "            if np.random.random() < 0.3:\n",
    "                log_cols.append(col)\n",
    "                logdfq_dict[col] = np.log(dfq[col])\n",
    "            else:\n",
    "                logdfq_dict[col] = dfq[col]\n",
    "    logdfq = pandas.DataFrame(logdfq_dict)\n",
    "    \n",
    "    est = smf.ols(formula=formula, data=logdfq).fit()\n",
    "    return est, log_cols"
   ]
  },
  {
   "cell_type": "code",
   "execution_count": 26,
   "metadata": {},
   "outputs": [
    {
     "name": "stdout",
     "output_type": "stream",
     "text": [
      "0.09484181013692039\n"
     ]
    }
   ],
   "source": [
    "formula = 'goldgammas ~ freq + dt + noise + timeseries_length'\n",
    "est, log_cols = show_ols(df, formula)\n",
    "print(est.rsquared_adj)"
   ]
  },
  {
   "cell_type": "code",
   "execution_count": 30,
   "metadata": {},
   "outputs": [],
   "source": [
    "rsqs = []\n",
    "logs = []\n",
    "for i in range(1000):\n",
    "    est, log_cols = show_ols(df, formula)\n",
    "    rsqs.append(est.rsquared_adj)\n",
    "    logs.append(log_cols)"
   ]
  },
  {
   "cell_type": "code",
   "execution_count": 31,
   "metadata": {},
   "outputs": [
    {
     "data": {
      "text/plain": [
       "['dt', 'freq', 'goldgammas', 'noise', 'timeseries_length']"
      ]
     },
     "execution_count": 31,
     "metadata": {},
     "output_type": "execute_result"
    }
   ],
   "source": [
    "logs[np.argmax(rsqs)]"
   ]
  }
 ],
 "metadata": {
  "kernelspec": {
   "display_name": "Python 3",
   "language": "python",
   "name": "python3"
  },
  "language_info": {
   "codemirror_mode": {
    "name": "ipython",
    "version": 3
   },
   "file_extension": ".py",
   "mimetype": "text/x-python",
   "name": "python",
   "nbconvert_exporter": "python",
   "pygments_lexer": "ipython3",
   "version": "3.5.2"
  }
 },
 "nbformat": 4,
 "nbformat_minor": 2
}
